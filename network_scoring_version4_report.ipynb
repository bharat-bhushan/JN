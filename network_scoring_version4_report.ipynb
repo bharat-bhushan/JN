{
 "cells": [
  {
   "cell_type": "markdown",
   "metadata": {
    "toc": true
   },
   "source": [
    "<h1>Table of Contents<span class=\"tocSkip\"></span></h1>\n",
    "<div class=\"toc\"><ul class=\"toc-item\"><li><span><a href=\"#Read-SF-Data\" data-toc-modified-id=\"Read-SF-Data-1\"><span class=\"toc-item-num\">1&nbsp;&nbsp;</span>Read SF Data</a></span></li><li><span><a href=\"#SF-Data-Analysis\" data-toc-modified-id=\"SF-Data-Analysis-2\"><span class=\"toc-item-num\">2&nbsp;&nbsp;</span>SF Data Analysis</a></span><ul class=\"toc-item\"><li><span><a href=\"#Insight-IDs\" data-toc-modified-id=\"Insight-IDs-2.1\"><span class=\"toc-item-num\">2.1&nbsp;&nbsp;</span>Insight IDs</a></span></li><li><span><a href=\"#Account-IDs\" data-toc-modified-id=\"Account-IDs-2.2\"><span class=\"toc-item-num\">2.2&nbsp;&nbsp;</span>Account IDs</a></span></li><li><span><a href=\"#Insight-Type\" data-toc-modified-id=\"Insight-Type-2.3\"><span class=\"toc-item-num\">2.3&nbsp;&nbsp;</span>Insight Type</a></span></li></ul></li><li><span><a href=\"#UDG-Data\" data-toc-modified-id=\"UDG-Data-3\"><span class=\"toc-item-num\">3&nbsp;&nbsp;</span>UDG Data</a></span></li><li><span><a href=\"#Join-SF-and-UDG-Data\" data-toc-modified-id=\"Join-SF-and-UDG-Data-4\"><span class=\"toc-item-num\">4&nbsp;&nbsp;</span>Join SF and UDG Data</a></span></li><li><span><a href=\"#Analysis\" data-toc-modified-id=\"Analysis-5\"><span class=\"toc-item-num\">5&nbsp;&nbsp;</span>Analysis</a></span><ul class=\"toc-item\"><li><span><a href=\"#Funnel\" data-toc-modified-id=\"Funnel-5.1\"><span class=\"toc-item-num\">5.1&nbsp;&nbsp;</span>Funnel</a></span></li><li><span><a href=\"#Correlations\" data-toc-modified-id=\"Correlations-5.2\"><span class=\"toc-item-num\">5.2&nbsp;&nbsp;</span>Correlations</a></span></li><li><span><a href=\"#State\" data-toc-modified-id=\"State-5.3\"><span class=\"toc-item-num\">5.3&nbsp;&nbsp;</span>State</a></span><ul class=\"toc-item\"><li><span><a href=\"#State-Distribution:-All-Data-(Opps-and-No-Opps)\" data-toc-modified-id=\"State-Distribution:-All-Data-(Opps-and-No-Opps)-5.3.1\"><span class=\"toc-item-num\">5.3.1&nbsp;&nbsp;</span>State Distribution: All Data (Opps and No Opps)</a></span></li><li><span><a href=\"#State-Distribution:-Opportunities\" data-toc-modified-id=\"State-Distribution:-Opportunities-5.3.2\"><span class=\"toc-item-num\">5.3.2&nbsp;&nbsp;</span>State Distribution: Opportunities</a></span></li></ul></li><li><span><a href=\"#State---Feature-Power\" data-toc-modified-id=\"State---Feature-Power-5.4\"><span class=\"toc-item-num\">5.4&nbsp;&nbsp;</span>State - Feature Power</a></span><ul class=\"toc-item\"><li><span><a href=\"#State-Regions\" data-toc-modified-id=\"State-Regions-5.4.1\"><span class=\"toc-item-num\">5.4.1&nbsp;&nbsp;</span>State Regions</a></span></li></ul></li><li><span><a href=\"#Class\" data-toc-modified-id=\"Class-5.5\"><span class=\"toc-item-num\">5.5&nbsp;&nbsp;</span>Class</a></span></li><li><span><a href=\"#State-and-Class\" data-toc-modified-id=\"State-and-Class-5.6\"><span class=\"toc-item-num\">5.6&nbsp;&nbsp;</span>State and Class</a></span></li></ul></li></ul></div>"
   ]
  },
  {
   "cell_type": "code",
   "execution_count": 180,
   "metadata": {
    "ExecuteTime": {
     "end_time": "2020-10-22T07:27:38.323376Z",
     "start_time": "2020-10-22T07:27:38.320774Z"
    }
   },
   "outputs": [],
   "source": [
    "var_rerun_redshift_query=False\n",
    "var_rerun_udg_query=False\n",
    "# dont rerun the salesforce query, instead read the SF data from pre-stored file"
   ]
  },
  {
   "cell_type": "code",
   "execution_count": 1,
   "metadata": {
    "ExecuteTime": {
     "end_time": "2020-10-22T10:39:04.865691Z",
     "start_time": "2020-10-22T10:39:02.880249Z"
    }
   },
   "outputs": [
    {
     "data": {
      "text/html": [
       "        <script type=\"text/javascript\">\n",
       "        window.PlotlyConfig = {MathJaxConfig: 'local'};\n",
       "        if (window.MathJax) {MathJax.Hub.Config({SVG: {font: \"STIX-Web\"}});}\n",
       "        if (typeof require !== 'undefined') {\n",
       "        require.undef(\"plotly\");\n",
       "        requirejs.config({\n",
       "            paths: {\n",
       "                'plotly': ['https://cdn.plot.ly/plotly-latest.min']\n",
       "            }\n",
       "        });\n",
       "        require(['plotly'], function(Plotly) {\n",
       "            window._Plotly = Plotly;\n",
       "        });\n",
       "        }\n",
       "        </script>\n",
       "        "
      ]
     },
     "metadata": {},
     "output_type": "display_data"
    }
   ],
   "source": [
    "%load_ext autoreload\n",
    "import sys\n",
    "sys.path.append(\"/home/ubuntu/Dedupe\")\n",
    "\n",
    "import pandas as pd, re, numpy as np\n",
    "from itertools import cycle\n",
    "from collections import defaultdict, Counter\n",
    "import matplotlib.dates as mdates\n",
    "import ast\n",
    "from mypackage import secret\n",
    "from mypackage.my_functions import *\n",
    "from mypackage.subcontractor_tag import *\n",
    "from sqlalchemy import create_engine\n",
    "from py2neo import Graph,Node,Relationship\n",
    "\n",
    "\n",
    "from transform import name_transform\n",
    "name = name_transform.NameTransform()\n",
    "import pickle as pkl\n",
    "from tqdm import tqdm\n",
    "tqdm.pandas()\n",
    "\n",
    "import matplotlib.pyplot as plt\n",
    "import plotly.offline as pyo\n",
    "pyo.offline.init_notebook_mode(connected=True)\n",
    "import plotly.graph_objs as go\n",
    "import seaborn as sns"
   ]
  },
  {
   "cell_type": "code",
   "execution_count": 182,
   "metadata": {
    "ExecuteTime": {
     "end_time": "2020-10-22T07:27:40.952989Z",
     "start_time": "2020-10-22T07:27:40.949746Z"
    }
   },
   "outputs": [],
   "source": [
    "engine=create_engine('redshift+psycopg2://'+\n",
    "                     secret.redshift_secret+'@etl.cscmn6ex0bdf.us-west-2.redshift.amazonaws.com:5439/zlien')\n",
    "graph = Graph('bolt://read-replica.neo4j.zlien.com', auth=(\"neo4j\", \"hiur8OjVubr\"))"
   ]
  },
  {
   "cell_type": "code",
   "execution_count": 4,
   "metadata": {
    "ExecuteTime": {
     "end_time": "2020-10-22T04:25:09.773411Z",
     "start_time": "2020-10-22T04:25:09.771049Z"
    }
   },
   "outputs": [],
   "source": [
    "file_path_sf_query='network_lead_scoring_sf_q_v3.sql'\n",
    "file_path_sf_data='result_network_lead_scoring_v2.csv'\n",
    "\n",
    "file_path_input_uuid='input_uuid_for_graph_q.csv'\n",
    "file_path_udg_data='udg_data.csv'\n",
    "file_path_taxonomy_state_normalize='../taxonomies/taxonomy_state_normalize.csv'\n",
    "file_path_taxonomy_state_regions='../taxonomies/taxonomy_state_regions.csv'\n",
    "file_path_merged_data='merged_data.csv'"
   ]
  },
  {
   "cell_type": "code",
   "execution_count": 339,
   "metadata": {
    "ExecuteTime": {
     "end_time": "2020-10-22T10:22:55.504621Z",
     "start_time": "2020-10-22T10:22:55.483551Z"
    }
   },
   "outputs": [],
   "source": [
    "df_state_taxonomy=pd.read_csv(file_path_taxonomy_state_normalize)\n",
    "def def_value(): \n",
    "    return \"Unknown\"\n",
    "state_dict=defaultdict(def_value) \n",
    "for lookup,can_state in df_state_taxonomy[['state_lookup','can_state']].values.tolist():\n",
    "    state_dict[lookup]=can_state\n",
    "#state_dict['Texas'.lower()]\n",
    "\n",
    "def get_can_state(raw_state):\n",
    "    if raw_state is None or raw_state=='' or str(raw_state)=='nan':\n",
    "        return 'Missing'\n",
    "    else:\n",
    "        return state_dict[re.sub('(?i)[^a-z]','',raw_state.lower())]\n",
    "def website_status(raw_website):\n",
    "    if raw_website is None or str(raw_website)=='nan' or str(raw_website)=='0':\n",
    "        return 'Missing'\n",
    "    elif re.sub('(?i)[^a-z0-9]','',raw_website)=='':\n",
    "        return 'Missing'\n",
    "    else:\n",
    "        return 'Present'\n",
    "    \n",
    "def get_count_percent(df,col_name,drop_na=False):\n",
    "    if drop_na:\n",
    "        df_filtered=df[df[col_name].notnull()].copy()\n",
    "    else:\n",
    "        df_filtered=df.copy()\n",
    "        df_filtered[col_name].fillna('Missing',inplace=True)\n",
    "        df_filtered['insightid'].fillna('Missing',inplace=True)\n",
    "    #print(df_filtered.shape)\n",
    "    #print(df_filtered[col_name].value_counts())\n",
    "    group = df_filtered.groupby(col_name)\n",
    "    agg = group.aggregate({\"insightid\": 'count',\"accountid\": lambda x: x.nunique()}).rename(columns={'insightid': 'Insights', 'accountid': 'Accounts'})\n",
    "    agg['Insights %']=round(agg['Insights']*100/sum(agg['Insights']),2).astype(str) + '%'\n",
    "    agg['Accounts %']=round(agg['Accounts']*100/sum(agg['Accounts']),2).astype(str) + '%'\n",
    "    agg=agg.reset_index()\n",
    "    col_names=[col_name,'Insights','Insights %','Accounts','Accounts %']\n",
    "    agg=agg[col_names]\n",
    "    agg.sort_values(by=col_names[-2], ascending=False,inplace=True)\n",
    "    return agg\n",
    "\n",
    "def get_count_percent2(df,col_name,drop_na=False):\n",
    "    group = df.groupby(col_name)\n",
    "    agg = group.aggregate({\"uuid\": 'count',\"uuid\": lambda x: x.nunique()}).rename(columns={'uuid': 'uuid', 'accountid': 'Accounts'})\n",
    "    agg['uuid %']=round(agg['uuid']*100/sum(agg['uuid']),2).astype(str) + '%'\n",
    "    #agg['Accounts %']=round(agg['Accounts']*100/sum(agg['Accounts']),2).astype(str) + '%'\n",
    "    agg=agg.reset_index()\n",
    "    col_names=[col_name,'uuid','uuid %']\n",
    "    agg=agg[col_names]\n",
    "    agg.sort_values(by=col_names[-2], ascending=False,inplace=True)\n",
    "    return agg    \n",
    "\n",
    "def get_count_percent3(df,col_name,drop_na=False):\n",
    "    group = df.groupby(col_name)\n",
    "    agg = group.aggregate({\"uuid\": 'count'})\n",
    "    agg['uuid %']=round(agg['uuid']*100/sum(agg['uuid']),2).astype(str) + '%'\n",
    "    #agg['Accounts %']=round(agg['Accounts']*100/sum(agg['Accounts']),2).astype(str) + '%'\n",
    "    agg=agg.reset_index()\n",
    "    col_names=[col_name,'uuid','uuid %']\n",
    "    agg=agg[col_names]\n",
    "    agg.sort_values(by=col_names[-2], ascending=False,inplace=True)\n",
    "    return agg    \n",
    "\n",
    "def collect_states(state):\n",
    "    list_of_states=list(state)\n",
    "    list_of_states_unique=[]\n",
    "    for state in list_of_states:\n",
    "        if state not in list_of_states_unique:\n",
    "            list_of_states_unique.append(state)\n",
    "    if len(list_of_states_unique)>1 and 'Missing' in list_of_states_unique:\n",
    "        list_of_states_unique.remove('Missing')\n",
    "    #return list_of_states_unique,len(list_of_states_unique)\n",
    "    return list_of_states_unique[0]\n",
    "def collect_websites(website):\n",
    "    list_of_webs=list(website)\n",
    "    list_of_webs_unique=[]\n",
    "    for web in website:\n",
    "        if website_status(web)=='Present' and web not in list_of_webs_unique:\n",
    "            list_of_webs_unique.append(web.lower())\n",
    "    if len(list_of_webs_unique)>0:\n",
    "        return list_of_webs_unique[0]\n",
    "    else:\n",
    "        return ''\n",
    "def row_style(row):\n",
    "    if row.state == 'Missing':\n",
    "        return pd.Series('background-color: red', row.index)\n",
    "        #else:\n",
    "        #    return pd.Series('background-color: green', row.index)\n",
    "    else:\n",
    "        return pd.Series('', row.index)\n",
    "def class_remap(class_name,name,wordlist):\n",
    "    wordlist_str='_'.join(ast.literal_eval(wordlist))\n",
    "    if class_name=='Electrical Power Generation':\n",
    "        new_class_name='Electrical'\n",
    "    elif class_name=='General Requirements':\n",
    "        new_class_name='no_class'\n",
    "    elif class_name=='Industry-Specific Manufacturing Equipment' and 'industr' in name.lower():\n",
    "        new_class_name='no_class'\n",
    "    elif wordlist_str in ['development','management','management_development','development_management']:\n",
    "        new_class_name='no_class'\n",
    "    elif 'mechanical' in wordlist_str :\n",
    "        new_class_name='no_class'\n",
    "    else:\n",
    "        new_class_name=class_name\n",
    "    return new_class_name"
   ]
  },
  {
   "cell_type": "markdown",
   "metadata": {},
   "source": [
    "# Read SF Data"
   ]
  },
  {
   "cell_type": "code",
   "execution_count": 6,
   "metadata": {
    "ExecuteTime": {
     "end_time": "2020-10-22T04:25:17.383394Z",
     "start_time": "2020-10-22T04:25:13.527201Z"
    }
   },
   "outputs": [
    {
     "name": "stdout",
     "output_type": "stream",
     "text": [
      "Rows: 71916\n"
     ]
    }
   ],
   "source": [
    "if var_rerun_redshift_query:\n",
    "    fd = open(file_path_sf_query, 'r')\n",
    "    sqlFile = fd.read()\n",
    "    fd.close()\n",
    "    df_input=pd.read_sql(sqlFile, engine)\n",
    "    print('Rows: %s'%df_input.shape[0])\n",
    "    df_input.to_csv(file_path_sf_data,encoding='utf_8_sig',index=False)\n",
    "else:\n",
    "    df_input=pd.read_csv(file_path_sf_data,parse_dates=['createddate','insight_date','ql_date','opportunity_created_date','customer_date'])\n",
    "    print('Rows: %s'%df_input.shape[0])\n",
    "df_input['company_billing_state_norm']=df_input.apply(lambda raw: get_can_state(raw['company_billing_state']),axis=1)\n",
    "df_input['website_status']=df_input.apply(lambda raw: website_status(raw['website']),axis=1)"
   ]
  },
  {
   "cell_type": "code",
   "execution_count": 8,
   "metadata": {
    "ExecuteTime": {
     "end_time": "2020-10-22T04:25:19.010192Z",
     "start_time": "2020-10-22T04:25:18.177087Z"
    }
   },
   "outputs": [],
   "source": [
    "df_input.to_csv('sf_data_v3.csv',index=False,encoding='utf_8_sig')"
   ]
  },
  {
   "cell_type": "markdown",
   "metadata": {},
   "source": [
    "# SF Data Analysis"
   ]
  },
  {
   "cell_type": "markdown",
   "metadata": {},
   "source": [
    "## Insight IDs"
   ]
  },
  {
   "cell_type": "code",
   "execution_count": 9,
   "metadata": {
    "ExecuteTime": {
     "end_time": "2020-10-22T04:25:19.433083Z",
     "start_time": "2020-10-22T04:25:19.421302Z"
    }
   },
   "outputs": [
    {
     "name": "stdout",
     "output_type": "stream",
     "text": [
      "# Insights: 71916\n",
      "# Unique Insight Ids: 35299\n"
     ]
    }
   ],
   "source": [
    "#print('-----Insight IDs-----')\n",
    "print('# Insights: %s'%df_input.shape[0])\n",
    "print('# Unique Insight Ids: %s'%df_input.insightid.nunique())"
   ]
  },
  {
   "cell_type": "markdown",
   "metadata": {},
   "source": [
    "## Account IDs"
   ]
  },
  {
   "cell_type": "code",
   "execution_count": 10,
   "metadata": {
    "ExecuteTime": {
     "end_time": "2020-10-22T04:25:19.910203Z",
     "start_time": "2020-10-22T04:25:19.820158Z"
    }
   },
   "outputs": [
    {
     "name": "stdout",
     "output_type": "stream",
     "text": [
      "# Account IDs Fill Rate: 99.96%\n",
      "# Identified Company Name Fill Rate: 99.96%\n",
      "# Identified UDG IDs Fill Rate: 93.84%\n",
      "# Unique Account IDs: 24308\n",
      "# Unique Company Names: 24030\n",
      "# Unique Identified UDG IDs: 20485\n"
     ]
    }
   ],
   "source": [
    "#print('-----Account IDs-----')\n",
    "print('# Account IDs Fill Rate: %s'%str(round(df_input[df_input['accountid'].notnull()].shape[0]*100/df_input.shape[0],2))+'%')\n",
    "print('# Identified Company Name Fill Rate: %s'%str(round(df_input[df_input['company_name'].notnull()].shape[0]*100/df_input.shape[0],2))+'%')\n",
    "print('# Identified UDG IDs Fill Rate: %s'%str(round(df_input[df_input['identified_udg_uuid'].notnull()].shape[0]*100/df_input.shape[0],2))+'%')\n",
    "\n",
    "print('# Unique Account IDs: %s'%df_input.accountid.nunique())\n",
    "print('# Unique Company Names: %s'%df_input.company_name.nunique())\n",
    "print('# Unique Identified UDG IDs: %s'%df_input.identified_udg_uuid.nunique())"
   ]
  },
  {
   "cell_type": "markdown",
   "metadata": {},
   "source": [
    "## Insight Type"
   ]
  },
  {
   "cell_type": "code",
   "execution_count": 11,
   "metadata": {
    "ExecuteTime": {
     "end_time": "2020-10-22T04:25:20.301147Z",
     "start_time": "2020-10-22T04:25:20.258887Z"
    }
   },
   "outputs": [
    {
     "data": {
      "text/html": [
       "<div>\n",
       "<style scoped>\n",
       "    .dataframe tbody tr th:only-of-type {\n",
       "        vertical-align: middle;\n",
       "    }\n",
       "\n",
       "    .dataframe tbody tr th {\n",
       "        vertical-align: top;\n",
       "    }\n",
       "\n",
       "    .dataframe thead th {\n",
       "        text-align: right;\n",
       "    }\n",
       "</style>\n",
       "<table border=\"1\" class=\"dataframe\">\n",
       "  <thead>\n",
       "    <tr style=\"text-align: right;\">\n",
       "      <th></th>\n",
       "      <th>insight_type</th>\n",
       "      <th>Insights</th>\n",
       "      <th>Insights %</th>\n",
       "      <th>Accounts</th>\n",
       "      <th>Accounts %</th>\n",
       "    </tr>\n",
       "  </thead>\n",
       "  <tbody>\n",
       "    <tr>\n",
       "      <th>0</th>\n",
       "      <td>Missing</td>\n",
       "      <td>26216</td>\n",
       "      <td>36.45%</td>\n",
       "      <td>19765</td>\n",
       "      <td>75.85%</td>\n",
       "    </tr>\n",
       "    <tr>\n",
       "      <th>1</th>\n",
       "      <td>Near Miss</td>\n",
       "      <td>45700</td>\n",
       "      <td>63.55%</td>\n",
       "      <td>6292</td>\n",
       "      <td>24.15%</td>\n",
       "    </tr>\n",
       "  </tbody>\n",
       "</table>\n",
       "</div>"
      ],
      "text/plain": [
       "  insight_type  Insights Insights %  Accounts Accounts %\n",
       "0      Missing     26216     36.45%     19765     75.85%\n",
       "1    Near Miss     45700     63.55%      6292     24.15%"
      ]
     },
     "metadata": {},
     "output_type": "display_data"
    }
   ],
   "source": [
    "col_name='insight_type'\n",
    "print_full(get_count_percent(df_input,col_name,drop_na=False))"
   ]
  },
  {
   "cell_type": "code",
   "execution_count": 12,
   "metadata": {
    "ExecuteTime": {
     "end_time": "2020-10-22T04:25:24.212689Z",
     "start_time": "2020-10-22T04:25:20.652445Z"
    }
   },
   "outputs": [],
   "source": [
    "df_input=df_input.sort_values(by=['ql_date'],ascending=[False]).reset_index(drop=True)\n",
    "df_input_grouped=df_input.groupby('identified_udg_uuid').\\\n",
    "aggregate({\\\n",
    "           #'company_name': [lambda x: sorted(list(set(x)),key=len,reverse=True),lambda x: len(list(set(x)))],\n",
    "           'company_name': lambda x: sorted(list(set(x)),key=len,reverse=True)[0],\n",
    "           #'company_billing_state_norm': [lambda x: collect_states(x)[0],lambda x: collect_states(x)[1]],\n",
    "           'company_billing_state_norm': lambda x: collect_states(x),\n",
    "           'website': lambda x: collect_websites(x),\n",
    "           'insightid': ['count', 'nunique'],\n",
    "           'is_customer':lambda x: 1 if 'Yes' in set(x) else 0,\n",
    "           'is_opportunity':lambda x: 1 if 'Yes' in set(x) else 0,\n",
    "           'is_sales_accepted':lambda x: 1 if 'Yes' in set(x) else 0,\n",
    "           'sal_date':[lambda x: min([i for i in x if str(i)!='nan']) \n",
    "                       if len([i for i in x if str(i)!='nan'])>0 else '',\n",
    "                       lambda x: max([i for i in x if str(i)!='nan']) \n",
    "                       if len([i for i in x if str(i)!='nan'])>0 else ''],\n",
    "           'ql_date':['min','max'],\n",
    "           'contact_stage': lambda x: dict(Counter(x)),\n",
    "           'sales_rejected_reason': lambda x: dict(Counter(x)),\n",
    "           'accountid':lambda x: list(set(x))\n",
    "          }).reset_index()\n",
    "#df_input_grouped.columns=['uuid','company_name','company_name_count','insights','insights_unique','is_customer','is_opportunity','ql_date_earliest','ql_date_latest']\n",
    "#df_input_grouped.columns=['uuid','company_name','states','states_count','insights','insights_unique','is_customer','is_opportunity','ql_date_earliest','ql_date_latest']\n",
    "df_input_grouped.columns=['uuid','company_name','state','website',\n",
    "                          'insights','insights_unique','is_customer',\n",
    "                          'is_opportunity','is_sales_accepted','sa_date_earliest','sa_date_latest','ql_date_earliest','ql_date_latest',\n",
    "                          'contact_stage','sales_rejected_reason','account_ids']\n",
    "df_state_regions=pd.read_csv(file_path_taxonomy_state_regions,encoding='utf_8-sig')\n",
    "df_input_grouped=df_input_grouped.merge(df_state_regions[['state_code','region']],how='left',left_on='state',right_on='state_code').drop(columns=['state_code']).rename(columns={'region': 'state_region'})\n",
    "df_input_grouped['state_region'].fillna('Missing',inplace=True)\n",
    "df_input_grouped=df_input_grouped[['uuid','company_name','state_region','state','website',\n",
    "                          'insights','insights_unique','is_customer',\n",
    "                          'is_opportunity','is_sales_accepted','sa_date_earliest','sa_date_latest',\n",
    "                           'ql_date_earliest','ql_date_latest',\n",
    "                          'contact_stage','sales_rejected_reason','account_ids']]"
   ]
  },
  {
   "cell_type": "markdown",
   "metadata": {},
   "source": [
    "# UDG Data"
   ]
  },
  {
   "cell_type": "code",
   "execution_count": 198,
   "metadata": {
    "ExecuteTime": {
     "end_time": "2020-10-22T09:18:13.109932Z",
     "start_time": "2020-10-22T09:18:13.106694Z"
    },
    "deletable": false,
    "editable": false,
    "run_control": {
     "frozen": true
    }
   },
   "outputs": [],
   "source": [
    "q=\"\"\"UNWIND $ids as row\n",
    "    MATCH (company:Company)\n",
    "    WHERE company.uuid=row\n",
    "    WITH company\n",
    "    //find projects\n",
    "    //count projects\n",
    "    optional match (company)-[:WORKED_ON]-(proj:Project)\n",
    "    where proj.creation_date>='2019-10-01'\n",
    "    with company, \n",
    "        count(distinct proj) as project_count\n",
    "    //get project breakdown by state\n",
    "    optional match (company)-[:WORKED_ON]-(proj:Project)-[:LOCATED_IN]-(proj_address:State)\n",
    "    where proj.creation_date>='2019-10-01'\n",
    "    with company, \n",
    "        project_count, \n",
    "        proj_address.name as state_name, \n",
    "        size(collect(proj_address.name)) as state_count order by state_name\n",
    "    with collect([state_name,state_count]) as project_states, \n",
    "        company, \n",
    "        project_count\n",
    "    //count any documents sent\n",
    "    optional match (company)-[:WORKED_ON]-(proj:Project)-[:SENT_ON]-(document:Document)\n",
    "    where proj.creation_date>='2019-10-01'\n",
    "    and document.type in [\"Lien\",\"Notice of Intent\"]\n",
    "    with company, \n",
    "        project_count, \n",
    "        count(document) as doc_count, \n",
    "        project_states\n",
    "    optional match (company)-[:WORKED_ON]-(proj:Project)-[:SENT_ON]-(document:Document)-[:SENT_BY]-(sender:Company)\n",
    "    where proj.creation_date>='2019-10-01'\n",
    "    and document.type in [\"Lien\",\"Notice of Intent\"]\n",
    "    with company, \n",
    "        project_count, \n",
    "        doc_count, \n",
    "        count(distinct sender) as sender_count, \n",
    "        project_states\n",
    "    match (company)-[:LOCATED_IN]-(companylocation:CompanyLocation)-[:LOCATED_IN]-(locationaddress:Address)\n",
    "    optional match (locationaddress)-[:LOCATED_IN]-(zip:Zip)\n",
    "        with company,\n",
    "        project_count,\n",
    "        doc_count,\n",
    "        sender_count,\n",
    "        project_states,\n",
    "        count(distinct companylocation) as location_count,\n",
    "        collect(DISTINCT [zip.city,zip.name,zip.state]) as company_locations\n",
    "    return distinct company.uuid AS uuid, \n",
    "        company.name AS company_name, \n",
    "        project_count, \n",
    "        doc_count, \n",
    "        sender_count,\n",
    "        location_count,\n",
    "        company_locations,\n",
    "        project_states\n",
    "    \"\"\"\n",
    "df_result=graph.run(q,ids=list(df_input_grouped['uuid'])).to_data_frame()\n",
    "df_result.shape"
   ]
  },
  {
   "cell_type": "markdown",
   "metadata": {},
   "source": [
    "- Unique UUIDs to Query:           20485\n",
    "- UUIDs Found in the Graph:        18126\n",
    "- Unique UUIDs Found in the Graph: 18126"
   ]
  },
  {
   "cell_type": "markdown",
   "metadata": {},
   "source": [
    "# Join SF and UDG Data"
   ]
  },
  {
   "cell_type": "markdown",
   "metadata": {},
   "source": [
    "-  Rows in SF-UDG Joined Data: 18126"
   ]
  },
  {
   "cell_type": "markdown",
   "metadata": {},
   "source": [
    "# Analysis"
   ]
  },
  {
   "cell_type": "code",
   "execution_count": 211,
   "metadata": {
    "ExecuteTime": {
     "end_time": "2020-10-22T09:33:00.514402Z",
     "start_time": "2020-10-22T09:33:00.370818Z"
    }
   },
   "outputs": [],
   "source": [
    "df_input_grouped1=pd.read_csv(file_path_merged_data,encoding='utf_8_sig')"
   ]
  },
  {
   "cell_type": "markdown",
   "metadata": {},
   "source": [
    "## Funnel"
   ]
  },
  {
   "cell_type": "code",
   "execution_count": 212,
   "metadata": {
    "ExecuteTime": {
     "end_time": "2020-10-22T09:33:02.273547Z",
     "start_time": "2020-10-22T09:33:02.251766Z"
    }
   },
   "outputs": [
    {
     "name": "stdout",
     "output_type": "stream",
     "text": [
      "Unique Accounts: 24308\n",
      "Unique Accounts with UDG IDs: 20485\n",
      "Unique Accounts with UDG Data: 18126\n",
      "Unique Accounts with Overlapping UDG Data: 18126\n"
     ]
    }
   ],
   "source": [
    "print('Unique Accounts: %s'%df_input.accountid.nunique())\n",
    "print('Unique Accounts with UDG IDs: %s'%df_input_grouped.uuid.nunique())\n",
    "print('Unique Accounts with UDG Data: %s'%df_udg_input.uuid.nunique())\n",
    "print('Unique Accounts with Overlapping UDG Data: %s'%df_input_grouped1.uuid.nunique())"
   ]
  },
  {
   "cell_type": "code",
   "execution_count": 213,
   "metadata": {
    "ExecuteTime": {
     "end_time": "2020-10-22T09:33:04.258372Z",
     "start_time": "2020-10-22T09:33:04.243886Z"
    }
   },
   "outputs": [
    {
     "name": "stdout",
     "output_type": "stream",
     "text": [
      "Qualified (UUIDs): 18126\n",
      "Sales Accepted:    13985\n",
      "Opportunities:     1208\n",
      "Customers:         130\n"
     ]
    }
   ],
   "source": [
    "count_quailified=df_input_grouped1.shape[0]\n",
    "count_sales_accepted=df_input_grouped1[df_input_grouped1['is_sales_accepted']==1].shape[0]\n",
    "count_opportunities=df_input_grouped1[df_input_grouped1['is_opportunity']==1].shape[0]\n",
    "count_customer=df_input_grouped1[df_input_grouped1['is_customer']==1].shape[0]\n",
    "print('Qualified (UUIDs): %s'%count_quailified)\n",
    "print('Sales Accepted:    %s'%count_sales_accepted)\n",
    "print('Opportunities:     %s'%count_opportunities)\n",
    "print('Customers:         %s'%count_customer)\n"
   ]
  },
  {
   "cell_type": "code",
   "execution_count": 214,
   "metadata": {
    "ExecuteTime": {
     "end_time": "2020-10-22T09:33:06.242784Z",
     "start_time": "2020-10-22T09:33:06.227513Z"
    }
   },
   "outputs": [
    {
     "name": "stdout",
     "output_type": "stream",
     "text": [
      "Sales Not Accepted to Opportunities\n"
     ]
    },
    {
     "data": {
      "text/html": [
       "<div>\n",
       "<style scoped>\n",
       "    .dataframe tbody tr th:only-of-type {\n",
       "        vertical-align: middle;\n",
       "    }\n",
       "\n",
       "    .dataframe tbody tr th {\n",
       "        vertical-align: top;\n",
       "    }\n",
       "\n",
       "    .dataframe thead th {\n",
       "        text-align: right;\n",
       "    }\n",
       "</style>\n",
       "<table border=\"1\" class=\"dataframe\">\n",
       "  <thead>\n",
       "    <tr style=\"text-align: right;\">\n",
       "      <th></th>\n",
       "      <th>is_opportunity</th>\n",
       "      <th>uuid</th>\n",
       "      <th>uuid %</th>\n",
       "    </tr>\n",
       "  </thead>\n",
       "  <tbody>\n",
       "    <tr>\n",
       "      <th>0</th>\n",
       "      <td>0</td>\n",
       "      <td>4036</td>\n",
       "      <td>97.46%</td>\n",
       "    </tr>\n",
       "    <tr>\n",
       "      <th>1</th>\n",
       "      <td>1</td>\n",
       "      <td>105</td>\n",
       "      <td>2.54%</td>\n",
       "    </tr>\n",
       "  </tbody>\n",
       "</table>\n",
       "</div>"
      ],
      "text/plain": [
       "   is_opportunity  uuid  uuid %\n",
       "0               0  4036  97.46%\n",
       "1               1   105   2.54%"
      ]
     },
     "metadata": {},
     "output_type": "display_data"
    }
   ],
   "source": [
    "print('Sales Not Accepted to Opportunities')\n",
    "print_full(get_count_percent3(df_input_grouped1[df_input_grouped1['is_sales_accepted']==0],'is_opportunity',drop_na=False))\n"
   ]
  },
  {
   "cell_type": "markdown",
   "metadata": {},
   "source": [
    "<img src=\"../../image_art/idea_insight.png\" alt=\"Insight\" style=\"float: left;width: 80px;\"/>\n",
    "\n",
    "- 105 Opportunities are marked as `Sales Not Accepted`\n",
    "- Marking this 105 Opportunities as `Sales Accepted`"
   ]
  },
  {
   "cell_type": "code",
   "execution_count": 215,
   "metadata": {
    "ExecuteTime": {
     "end_time": "2020-10-22T09:33:08.108061Z",
     "start_time": "2020-10-22T09:33:07.731637Z"
    }
   },
   "outputs": [
    {
     "name": "stdout",
     "output_type": "stream",
     "text": [
      "Revised Numbers\n",
      "Qualified (UUIDs): 18126\n",
      "Sales Accepted:    14090\n",
      "Opportunities:     1208\n",
      "Customers:         130\n"
     ]
    }
   ],
   "source": [
    "df_input_grouped1['is_sales_accepted']=df_input_grouped1.apply(lambda x:x['is_opportunity'] if x['is_opportunity']==1 else x['is_sales_accepted'],axis=1)\n",
    "print('Revised Numbers')\n",
    "count_quailified=df_input_grouped1.shape[0]\n",
    "count_sales_accepted=df_input_grouped1[df_input_grouped1['is_sales_accepted']==1].shape[0]\n",
    "count_opportunities=df_input_grouped1[df_input_grouped1['is_opportunity']==1].shape[0]\n",
    "count_customer=df_input_grouped1[df_input_grouped1['is_customer']==1].shape[0]\n",
    "print('Qualified (UUIDs): %s'%count_quailified)\n",
    "print('Sales Accepted:    %s'%count_sales_accepted)\n",
    "print('Opportunities:     %s'%count_opportunities)\n",
    "print('Customers:         %s'%count_customer)\n"
   ]
  },
  {
   "cell_type": "code",
   "execution_count": 216,
   "metadata": {
    "ExecuteTime": {
     "end_time": "2020-10-22T09:33:09.502879Z",
     "start_time": "2020-10-22T09:33:09.418236Z"
    }
   },
   "outputs": [
    {
     "name": "stdout",
     "output_type": "stream",
     "text": [
      "Qualified to Sales Accepted\n"
     ]
    },
    {
     "data": {
      "text/html": [
       "<div>\n",
       "<style scoped>\n",
       "    .dataframe tbody tr th:only-of-type {\n",
       "        vertical-align: middle;\n",
       "    }\n",
       "\n",
       "    .dataframe tbody tr th {\n",
       "        vertical-align: top;\n",
       "    }\n",
       "\n",
       "    .dataframe thead th {\n",
       "        text-align: right;\n",
       "    }\n",
       "</style>\n",
       "<table border=\"1\" class=\"dataframe\">\n",
       "  <thead>\n",
       "    <tr style=\"text-align: right;\">\n",
       "      <th></th>\n",
       "      <th>is_sales_accepted</th>\n",
       "      <th>uuid</th>\n",
       "      <th>uuid %</th>\n",
       "    </tr>\n",
       "  </thead>\n",
       "  <tbody>\n",
       "    <tr>\n",
       "      <th>1</th>\n",
       "      <td>1</td>\n",
       "      <td>14090</td>\n",
       "      <td>77.73%</td>\n",
       "    </tr>\n",
       "    <tr>\n",
       "      <th>0</th>\n",
       "      <td>0</td>\n",
       "      <td>4036</td>\n",
       "      <td>22.27%</td>\n",
       "    </tr>\n",
       "  </tbody>\n",
       "</table>\n",
       "</div>"
      ],
      "text/plain": [
       "   is_sales_accepted   uuid  uuid %\n",
       "1                  1  14090  77.73%\n",
       "0                  0   4036  22.27%"
      ]
     },
     "metadata": {},
     "output_type": "display_data"
    },
    {
     "name": "stdout",
     "output_type": "stream",
     "text": [
      "--------------------------------\n",
      "\n",
      "Qualified to Opportunities\n"
     ]
    },
    {
     "data": {
      "text/html": [
       "<div>\n",
       "<style scoped>\n",
       "    .dataframe tbody tr th:only-of-type {\n",
       "        vertical-align: middle;\n",
       "    }\n",
       "\n",
       "    .dataframe tbody tr th {\n",
       "        vertical-align: top;\n",
       "    }\n",
       "\n",
       "    .dataframe thead th {\n",
       "        text-align: right;\n",
       "    }\n",
       "</style>\n",
       "<table border=\"1\" class=\"dataframe\">\n",
       "  <thead>\n",
       "    <tr style=\"text-align: right;\">\n",
       "      <th></th>\n",
       "      <th>is_opportunity</th>\n",
       "      <th>uuid</th>\n",
       "      <th>uuid %</th>\n",
       "    </tr>\n",
       "  </thead>\n",
       "  <tbody>\n",
       "    <tr>\n",
       "      <th>0</th>\n",
       "      <td>0</td>\n",
       "      <td>16918</td>\n",
       "      <td>93.34%</td>\n",
       "    </tr>\n",
       "    <tr>\n",
       "      <th>1</th>\n",
       "      <td>1</td>\n",
       "      <td>1208</td>\n",
       "      <td>6.66%</td>\n",
       "    </tr>\n",
       "  </tbody>\n",
       "</table>\n",
       "</div>"
      ],
      "text/plain": [
       "   is_opportunity   uuid  uuid %\n",
       "0               0  16918  93.34%\n",
       "1               1   1208   6.66%"
      ]
     },
     "metadata": {},
     "output_type": "display_data"
    },
    {
     "name": "stdout",
     "output_type": "stream",
     "text": [
      "--------------------------------\n",
      "\n",
      "Sales Accepted to Opportunities\n"
     ]
    },
    {
     "data": {
      "text/html": [
       "<div>\n",
       "<style scoped>\n",
       "    .dataframe tbody tr th:only-of-type {\n",
       "        vertical-align: middle;\n",
       "    }\n",
       "\n",
       "    .dataframe tbody tr th {\n",
       "        vertical-align: top;\n",
       "    }\n",
       "\n",
       "    .dataframe thead th {\n",
       "        text-align: right;\n",
       "    }\n",
       "</style>\n",
       "<table border=\"1\" class=\"dataframe\">\n",
       "  <thead>\n",
       "    <tr style=\"text-align: right;\">\n",
       "      <th></th>\n",
       "      <th>is_opportunity</th>\n",
       "      <th>uuid</th>\n",
       "      <th>uuid %</th>\n",
       "    </tr>\n",
       "  </thead>\n",
       "  <tbody>\n",
       "    <tr>\n",
       "      <th>0</th>\n",
       "      <td>0</td>\n",
       "      <td>12882</td>\n",
       "      <td>91.43%</td>\n",
       "    </tr>\n",
       "    <tr>\n",
       "      <th>1</th>\n",
       "      <td>1</td>\n",
       "      <td>1208</td>\n",
       "      <td>8.57%</td>\n",
       "    </tr>\n",
       "  </tbody>\n",
       "</table>\n",
       "</div>"
      ],
      "text/plain": [
       "   is_opportunity   uuid  uuid %\n",
       "0               0  12882  91.43%\n",
       "1               1   1208   8.57%"
      ]
     },
     "metadata": {},
     "output_type": "display_data"
    },
    {
     "name": "stdout",
     "output_type": "stream",
     "text": [
      "--------------------------------\n",
      "\n",
      "Qualified to Customer\n"
     ]
    },
    {
     "data": {
      "text/html": [
       "<div>\n",
       "<style scoped>\n",
       "    .dataframe tbody tr th:only-of-type {\n",
       "        vertical-align: middle;\n",
       "    }\n",
       "\n",
       "    .dataframe tbody tr th {\n",
       "        vertical-align: top;\n",
       "    }\n",
       "\n",
       "    .dataframe thead th {\n",
       "        text-align: right;\n",
       "    }\n",
       "</style>\n",
       "<table border=\"1\" class=\"dataframe\">\n",
       "  <thead>\n",
       "    <tr style=\"text-align: right;\">\n",
       "      <th></th>\n",
       "      <th>is_customer</th>\n",
       "      <th>uuid</th>\n",
       "      <th>uuid %</th>\n",
       "    </tr>\n",
       "  </thead>\n",
       "  <tbody>\n",
       "    <tr>\n",
       "      <th>0</th>\n",
       "      <td>0</td>\n",
       "      <td>17996</td>\n",
       "      <td>99.28%</td>\n",
       "    </tr>\n",
       "    <tr>\n",
       "      <th>1</th>\n",
       "      <td>1</td>\n",
       "      <td>130</td>\n",
       "      <td>0.72%</td>\n",
       "    </tr>\n",
       "  </tbody>\n",
       "</table>\n",
       "</div>"
      ],
      "text/plain": [
       "   is_customer   uuid  uuid %\n",
       "0            0  17996  99.28%\n",
       "1            1    130   0.72%"
      ]
     },
     "metadata": {},
     "output_type": "display_data"
    },
    {
     "name": "stdout",
     "output_type": "stream",
     "text": [
      "--------------------------------\n",
      "\n",
      "Sales Accepted to Customer\n"
     ]
    },
    {
     "data": {
      "text/html": [
       "<div>\n",
       "<style scoped>\n",
       "    .dataframe tbody tr th:only-of-type {\n",
       "        vertical-align: middle;\n",
       "    }\n",
       "\n",
       "    .dataframe tbody tr th {\n",
       "        vertical-align: top;\n",
       "    }\n",
       "\n",
       "    .dataframe thead th {\n",
       "        text-align: right;\n",
       "    }\n",
       "</style>\n",
       "<table border=\"1\" class=\"dataframe\">\n",
       "  <thead>\n",
       "    <tr style=\"text-align: right;\">\n",
       "      <th></th>\n",
       "      <th>is_customer</th>\n",
       "      <th>uuid</th>\n",
       "      <th>uuid %</th>\n",
       "    </tr>\n",
       "  </thead>\n",
       "  <tbody>\n",
       "    <tr>\n",
       "      <th>0</th>\n",
       "      <td>0</td>\n",
       "      <td>13960</td>\n",
       "      <td>99.08%</td>\n",
       "    </tr>\n",
       "    <tr>\n",
       "      <th>1</th>\n",
       "      <td>1</td>\n",
       "      <td>130</td>\n",
       "      <td>0.92%</td>\n",
       "    </tr>\n",
       "  </tbody>\n",
       "</table>\n",
       "</div>"
      ],
      "text/plain": [
       "   is_customer   uuid  uuid %\n",
       "0            0  13960  99.08%\n",
       "1            1    130   0.92%"
      ]
     },
     "metadata": {},
     "output_type": "display_data"
    },
    {
     "name": "stdout",
     "output_type": "stream",
     "text": [
      "--------------------------------\n",
      "\n",
      "Opportunity to Customer\n"
     ]
    },
    {
     "data": {
      "text/html": [
       "<div>\n",
       "<style scoped>\n",
       "    .dataframe tbody tr th:only-of-type {\n",
       "        vertical-align: middle;\n",
       "    }\n",
       "\n",
       "    .dataframe tbody tr th {\n",
       "        vertical-align: top;\n",
       "    }\n",
       "\n",
       "    .dataframe thead th {\n",
       "        text-align: right;\n",
       "    }\n",
       "</style>\n",
       "<table border=\"1\" class=\"dataframe\">\n",
       "  <thead>\n",
       "    <tr style=\"text-align: right;\">\n",
       "      <th></th>\n",
       "      <th>is_customer</th>\n",
       "      <th>uuid</th>\n",
       "      <th>uuid %</th>\n",
       "    </tr>\n",
       "  </thead>\n",
       "  <tbody>\n",
       "    <tr>\n",
       "      <th>0</th>\n",
       "      <td>0</td>\n",
       "      <td>1078</td>\n",
       "      <td>89.24%</td>\n",
       "    </tr>\n",
       "    <tr>\n",
       "      <th>1</th>\n",
       "      <td>1</td>\n",
       "      <td>130</td>\n",
       "      <td>10.76%</td>\n",
       "    </tr>\n",
       "  </tbody>\n",
       "</table>\n",
       "</div>"
      ],
      "text/plain": [
       "   is_customer  uuid  uuid %\n",
       "0            0  1078  89.24%\n",
       "1            1   130  10.76%"
      ]
     },
     "metadata": {},
     "output_type": "display_data"
    },
    {
     "data": {
      "application/vnd.plotly.v1+json": {
       "config": {
        "plotlyServerURL": "https://plot.ly"
       },
       "data": [
        {
         "connector": {
          "line": {
           "color": "royalblue",
           "dash": "dot",
           "width": 3
          }
         },
         "marker": {
          "color": [
           "blue",
           "deepskyblue",
           "lightsalmon",
           "teal"
          ],
          "line": {
           "color": [
            "wheat",
            "wheat",
            "wheat",
            "wheat"
           ],
           "width": [
            2,
            1,
            1
           ]
          }
         },
         "opacity": 0.65,
         "textinfo": "value+percent initial",
         "textposition": "inside",
         "type": "funnel",
         "x": [
          18126,
          14090,
          1208,
          130
         ],
         "y": [
          "Qualified Accounts",
          "Sales Accepted",
          "Opportunities",
          "Customers"
         ]
        }
       ],
       "layout": {
        "template": {
         "data": {
          "bar": [
           {
            "error_x": {
             "color": "#2a3f5f"
            },
            "error_y": {
             "color": "#2a3f5f"
            },
            "marker": {
             "line": {
              "color": "#E5ECF6",
              "width": 0.5
             }
            },
            "type": "bar"
           }
          ],
          "barpolar": [
           {
            "marker": {
             "line": {
              "color": "#E5ECF6",
              "width": 0.5
             }
            },
            "type": "barpolar"
           }
          ],
          "carpet": [
           {
            "aaxis": {
             "endlinecolor": "#2a3f5f",
             "gridcolor": "white",
             "linecolor": "white",
             "minorgridcolor": "white",
             "startlinecolor": "#2a3f5f"
            },
            "baxis": {
             "endlinecolor": "#2a3f5f",
             "gridcolor": "white",
             "linecolor": "white",
             "minorgridcolor": "white",
             "startlinecolor": "#2a3f5f"
            },
            "type": "carpet"
           }
          ],
          "choropleth": [
           {
            "colorbar": {
             "outlinewidth": 0,
             "ticks": ""
            },
            "type": "choropleth"
           }
          ],
          "contour": [
           {
            "colorbar": {
             "outlinewidth": 0,
             "ticks": ""
            },
            "colorscale": [
             [
              0,
              "#0d0887"
             ],
             [
              0.1111111111111111,
              "#46039f"
             ],
             [
              0.2222222222222222,
              "#7201a8"
             ],
             [
              0.3333333333333333,
              "#9c179e"
             ],
             [
              0.4444444444444444,
              "#bd3786"
             ],
             [
              0.5555555555555556,
              "#d8576b"
             ],
             [
              0.6666666666666666,
              "#ed7953"
             ],
             [
              0.7777777777777778,
              "#fb9f3a"
             ],
             [
              0.8888888888888888,
              "#fdca26"
             ],
             [
              1,
              "#f0f921"
             ]
            ],
            "type": "contour"
           }
          ],
          "contourcarpet": [
           {
            "colorbar": {
             "outlinewidth": 0,
             "ticks": ""
            },
            "type": "contourcarpet"
           }
          ],
          "heatmap": [
           {
            "colorbar": {
             "outlinewidth": 0,
             "ticks": ""
            },
            "colorscale": [
             [
              0,
              "#0d0887"
             ],
             [
              0.1111111111111111,
              "#46039f"
             ],
             [
              0.2222222222222222,
              "#7201a8"
             ],
             [
              0.3333333333333333,
              "#9c179e"
             ],
             [
              0.4444444444444444,
              "#bd3786"
             ],
             [
              0.5555555555555556,
              "#d8576b"
             ],
             [
              0.6666666666666666,
              "#ed7953"
             ],
             [
              0.7777777777777778,
              "#fb9f3a"
             ],
             [
              0.8888888888888888,
              "#fdca26"
             ],
             [
              1,
              "#f0f921"
             ]
            ],
            "type": "heatmap"
           }
          ],
          "heatmapgl": [
           {
            "colorbar": {
             "outlinewidth": 0,
             "ticks": ""
            },
            "colorscale": [
             [
              0,
              "#0d0887"
             ],
             [
              0.1111111111111111,
              "#46039f"
             ],
             [
              0.2222222222222222,
              "#7201a8"
             ],
             [
              0.3333333333333333,
              "#9c179e"
             ],
             [
              0.4444444444444444,
              "#bd3786"
             ],
             [
              0.5555555555555556,
              "#d8576b"
             ],
             [
              0.6666666666666666,
              "#ed7953"
             ],
             [
              0.7777777777777778,
              "#fb9f3a"
             ],
             [
              0.8888888888888888,
              "#fdca26"
             ],
             [
              1,
              "#f0f921"
             ]
            ],
            "type": "heatmapgl"
           }
          ],
          "histogram": [
           {
            "marker": {
             "colorbar": {
              "outlinewidth": 0,
              "ticks": ""
             }
            },
            "type": "histogram"
           }
          ],
          "histogram2d": [
           {
            "colorbar": {
             "outlinewidth": 0,
             "ticks": ""
            },
            "colorscale": [
             [
              0,
              "#0d0887"
             ],
             [
              0.1111111111111111,
              "#46039f"
             ],
             [
              0.2222222222222222,
              "#7201a8"
             ],
             [
              0.3333333333333333,
              "#9c179e"
             ],
             [
              0.4444444444444444,
              "#bd3786"
             ],
             [
              0.5555555555555556,
              "#d8576b"
             ],
             [
              0.6666666666666666,
              "#ed7953"
             ],
             [
              0.7777777777777778,
              "#fb9f3a"
             ],
             [
              0.8888888888888888,
              "#fdca26"
             ],
             [
              1,
              "#f0f921"
             ]
            ],
            "type": "histogram2d"
           }
          ],
          "histogram2dcontour": [
           {
            "colorbar": {
             "outlinewidth": 0,
             "ticks": ""
            },
            "colorscale": [
             [
              0,
              "#0d0887"
             ],
             [
              0.1111111111111111,
              "#46039f"
             ],
             [
              0.2222222222222222,
              "#7201a8"
             ],
             [
              0.3333333333333333,
              "#9c179e"
             ],
             [
              0.4444444444444444,
              "#bd3786"
             ],
             [
              0.5555555555555556,
              "#d8576b"
             ],
             [
              0.6666666666666666,
              "#ed7953"
             ],
             [
              0.7777777777777778,
              "#fb9f3a"
             ],
             [
              0.8888888888888888,
              "#fdca26"
             ],
             [
              1,
              "#f0f921"
             ]
            ],
            "type": "histogram2dcontour"
           }
          ],
          "mesh3d": [
           {
            "colorbar": {
             "outlinewidth": 0,
             "ticks": ""
            },
            "type": "mesh3d"
           }
          ],
          "parcoords": [
           {
            "line": {
             "colorbar": {
              "outlinewidth": 0,
              "ticks": ""
             }
            },
            "type": "parcoords"
           }
          ],
          "pie": [
           {
            "automargin": true,
            "type": "pie"
           }
          ],
          "scatter": [
           {
            "marker": {
             "colorbar": {
              "outlinewidth": 0,
              "ticks": ""
             }
            },
            "type": "scatter"
           }
          ],
          "scatter3d": [
           {
            "line": {
             "colorbar": {
              "outlinewidth": 0,
              "ticks": ""
             }
            },
            "marker": {
             "colorbar": {
              "outlinewidth": 0,
              "ticks": ""
             }
            },
            "type": "scatter3d"
           }
          ],
          "scattercarpet": [
           {
            "marker": {
             "colorbar": {
              "outlinewidth": 0,
              "ticks": ""
             }
            },
            "type": "scattercarpet"
           }
          ],
          "scattergeo": [
           {
            "marker": {
             "colorbar": {
              "outlinewidth": 0,
              "ticks": ""
             }
            },
            "type": "scattergeo"
           }
          ],
          "scattergl": [
           {
            "marker": {
             "colorbar": {
              "outlinewidth": 0,
              "ticks": ""
             }
            },
            "type": "scattergl"
           }
          ],
          "scattermapbox": [
           {
            "marker": {
             "colorbar": {
              "outlinewidth": 0,
              "ticks": ""
             }
            },
            "type": "scattermapbox"
           }
          ],
          "scatterpolar": [
           {
            "marker": {
             "colorbar": {
              "outlinewidth": 0,
              "ticks": ""
             }
            },
            "type": "scatterpolar"
           }
          ],
          "scatterpolargl": [
           {
            "marker": {
             "colorbar": {
              "outlinewidth": 0,
              "ticks": ""
             }
            },
            "type": "scatterpolargl"
           }
          ],
          "scatterternary": [
           {
            "marker": {
             "colorbar": {
              "outlinewidth": 0,
              "ticks": ""
             }
            },
            "type": "scatterternary"
           }
          ],
          "surface": [
           {
            "colorbar": {
             "outlinewidth": 0,
             "ticks": ""
            },
            "colorscale": [
             [
              0,
              "#0d0887"
             ],
             [
              0.1111111111111111,
              "#46039f"
             ],
             [
              0.2222222222222222,
              "#7201a8"
             ],
             [
              0.3333333333333333,
              "#9c179e"
             ],
             [
              0.4444444444444444,
              "#bd3786"
             ],
             [
              0.5555555555555556,
              "#d8576b"
             ],
             [
              0.6666666666666666,
              "#ed7953"
             ],
             [
              0.7777777777777778,
              "#fb9f3a"
             ],
             [
              0.8888888888888888,
              "#fdca26"
             ],
             [
              1,
              "#f0f921"
             ]
            ],
            "type": "surface"
           }
          ],
          "table": [
           {
            "cells": {
             "fill": {
              "color": "#EBF0F8"
             },
             "line": {
              "color": "white"
             }
            },
            "header": {
             "fill": {
              "color": "#C8D4E3"
             },
             "line": {
              "color": "white"
             }
            },
            "type": "table"
           }
          ]
         },
         "layout": {
          "annotationdefaults": {
           "arrowcolor": "#2a3f5f",
           "arrowhead": 0,
           "arrowwidth": 1
          },
          "coloraxis": {
           "colorbar": {
            "outlinewidth": 0,
            "ticks": ""
           }
          },
          "colorscale": {
           "diverging": [
            [
             0,
             "#8e0152"
            ],
            [
             0.1,
             "#c51b7d"
            ],
            [
             0.2,
             "#de77ae"
            ],
            [
             0.3,
             "#f1b6da"
            ],
            [
             0.4,
             "#fde0ef"
            ],
            [
             0.5,
             "#f7f7f7"
            ],
            [
             0.6,
             "#e6f5d0"
            ],
            [
             0.7,
             "#b8e186"
            ],
            [
             0.8,
             "#7fbc41"
            ],
            [
             0.9,
             "#4d9221"
            ],
            [
             1,
             "#276419"
            ]
           ],
           "sequential": [
            [
             0,
             "#0d0887"
            ],
            [
             0.1111111111111111,
             "#46039f"
            ],
            [
             0.2222222222222222,
             "#7201a8"
            ],
            [
             0.3333333333333333,
             "#9c179e"
            ],
            [
             0.4444444444444444,
             "#bd3786"
            ],
            [
             0.5555555555555556,
             "#d8576b"
            ],
            [
             0.6666666666666666,
             "#ed7953"
            ],
            [
             0.7777777777777778,
             "#fb9f3a"
            ],
            [
             0.8888888888888888,
             "#fdca26"
            ],
            [
             1,
             "#f0f921"
            ]
           ],
           "sequentialminus": [
            [
             0,
             "#0d0887"
            ],
            [
             0.1111111111111111,
             "#46039f"
            ],
            [
             0.2222222222222222,
             "#7201a8"
            ],
            [
             0.3333333333333333,
             "#9c179e"
            ],
            [
             0.4444444444444444,
             "#bd3786"
            ],
            [
             0.5555555555555556,
             "#d8576b"
            ],
            [
             0.6666666666666666,
             "#ed7953"
            ],
            [
             0.7777777777777778,
             "#fb9f3a"
            ],
            [
             0.8888888888888888,
             "#fdca26"
            ],
            [
             1,
             "#f0f921"
            ]
           ]
          },
          "colorway": [
           "#636efa",
           "#EF553B",
           "#00cc96",
           "#ab63fa",
           "#FFA15A",
           "#19d3f3",
           "#FF6692",
           "#B6E880",
           "#FF97FF",
           "#FECB52"
          ],
          "font": {
           "color": "#2a3f5f"
          },
          "geo": {
           "bgcolor": "white",
           "lakecolor": "white",
           "landcolor": "#E5ECF6",
           "showlakes": true,
           "showland": true,
           "subunitcolor": "white"
          },
          "hoverlabel": {
           "align": "left"
          },
          "hovermode": "closest",
          "mapbox": {
           "style": "light"
          },
          "paper_bgcolor": "white",
          "plot_bgcolor": "#E5ECF6",
          "polar": {
           "angularaxis": {
            "gridcolor": "white",
            "linecolor": "white",
            "ticks": ""
           },
           "bgcolor": "#E5ECF6",
           "radialaxis": {
            "gridcolor": "white",
            "linecolor": "white",
            "ticks": ""
           }
          },
          "scene": {
           "xaxis": {
            "backgroundcolor": "#E5ECF6",
            "gridcolor": "white",
            "gridwidth": 2,
            "linecolor": "white",
            "showbackground": true,
            "ticks": "",
            "zerolinecolor": "white"
           },
           "yaxis": {
            "backgroundcolor": "#E5ECF6",
            "gridcolor": "white",
            "gridwidth": 2,
            "linecolor": "white",
            "showbackground": true,
            "ticks": "",
            "zerolinecolor": "white"
           },
           "zaxis": {
            "backgroundcolor": "#E5ECF6",
            "gridcolor": "white",
            "gridwidth": 2,
            "linecolor": "white",
            "showbackground": true,
            "ticks": "",
            "zerolinecolor": "white"
           }
          },
          "shapedefaults": {
           "line": {
            "color": "#2a3f5f"
           }
          },
          "ternary": {
           "aaxis": {
            "gridcolor": "white",
            "linecolor": "white",
            "ticks": ""
           },
           "baxis": {
            "gridcolor": "white",
            "linecolor": "white",
            "ticks": ""
           },
           "bgcolor": "#E5ECF6",
           "caxis": {
            "gridcolor": "white",
            "linecolor": "white",
            "ticks": ""
           }
          },
          "title": {
           "x": 0.05
          },
          "xaxis": {
           "automargin": true,
           "gridcolor": "white",
           "linecolor": "white",
           "ticks": "",
           "title": {
            "standoff": 15
           },
           "zerolinecolor": "white",
           "zerolinewidth": 2
          },
          "yaxis": {
           "automargin": true,
           "gridcolor": "white",
           "linecolor": "white",
           "ticks": "",
           "title": {
            "standoff": 15
           },
           "zerolinecolor": "white",
           "zerolinewidth": 2
          }
         }
        }
       }
      },
      "text/html": [
       "<div>                            <div id=\"549fe2df-7701-499b-9e37-4f559b0b76c6\" class=\"plotly-graph-div\" style=\"height:525px; width:100%;\"></div>            <script type=\"text/javascript\">                require([\"plotly\"], function(Plotly) {                    window.PLOTLYENV=window.PLOTLYENV || {};                                    if (document.getElementById(\"549fe2df-7701-499b-9e37-4f559b0b76c6\")) {                    Plotly.newPlot(                        \"549fe2df-7701-499b-9e37-4f559b0b76c6\",                        [{\"connector\": {\"line\": {\"color\": \"royalblue\", \"dash\": \"dot\", \"width\": 3}}, \"marker\": {\"color\": [\"blue\", \"deepskyblue\", \"lightsalmon\", \"teal\"], \"line\": {\"color\": [\"wheat\", \"wheat\", \"wheat\", \"wheat\"], \"width\": [2, 1, 1]}}, \"opacity\": 0.65, \"textinfo\": \"value+percent initial\", \"textposition\": \"inside\", \"type\": \"funnel\", \"x\": [18126, 14090, 1208, 130], \"y\": [\"Qualified Accounts\", \"Sales Accepted\", \"Opportunities\", \"Customers\"]}],                        {\"template\": {\"data\": {\"bar\": [{\"error_x\": {\"color\": \"#2a3f5f\"}, \"error_y\": {\"color\": \"#2a3f5f\"}, \"marker\": {\"line\": {\"color\": \"#E5ECF6\", \"width\": 0.5}}, \"type\": \"bar\"}], \"barpolar\": [{\"marker\": {\"line\": {\"color\": \"#E5ECF6\", \"width\": 0.5}}, \"type\": \"barpolar\"}], \"carpet\": [{\"aaxis\": {\"endlinecolor\": \"#2a3f5f\", \"gridcolor\": \"white\", \"linecolor\": \"white\", \"minorgridcolor\": \"white\", \"startlinecolor\": \"#2a3f5f\"}, \"baxis\": {\"endlinecolor\": \"#2a3f5f\", \"gridcolor\": \"white\", \"linecolor\": \"white\", \"minorgridcolor\": \"white\", \"startlinecolor\": \"#2a3f5f\"}, \"type\": \"carpet\"}], \"choropleth\": [{\"colorbar\": {\"outlinewidth\": 0, \"ticks\": \"\"}, \"type\": \"choropleth\"}], \"contour\": [{\"colorbar\": {\"outlinewidth\": 0, \"ticks\": \"\"}, \"colorscale\": [[0.0, \"#0d0887\"], [0.1111111111111111, \"#46039f\"], [0.2222222222222222, \"#7201a8\"], [0.3333333333333333, \"#9c179e\"], [0.4444444444444444, \"#bd3786\"], [0.5555555555555556, \"#d8576b\"], [0.6666666666666666, \"#ed7953\"], [0.7777777777777778, \"#fb9f3a\"], [0.8888888888888888, \"#fdca26\"], [1.0, \"#f0f921\"]], \"type\": \"contour\"}], \"contourcarpet\": [{\"colorbar\": {\"outlinewidth\": 0, \"ticks\": \"\"}, \"type\": \"contourcarpet\"}], \"heatmap\": [{\"colorbar\": {\"outlinewidth\": 0, \"ticks\": \"\"}, \"colorscale\": [[0.0, \"#0d0887\"], [0.1111111111111111, \"#46039f\"], [0.2222222222222222, \"#7201a8\"], [0.3333333333333333, \"#9c179e\"], [0.4444444444444444, \"#bd3786\"], [0.5555555555555556, \"#d8576b\"], [0.6666666666666666, \"#ed7953\"], [0.7777777777777778, \"#fb9f3a\"], [0.8888888888888888, \"#fdca26\"], [1.0, \"#f0f921\"]], \"type\": \"heatmap\"}], \"heatmapgl\": [{\"colorbar\": {\"outlinewidth\": 0, \"ticks\": \"\"}, \"colorscale\": [[0.0, \"#0d0887\"], [0.1111111111111111, \"#46039f\"], [0.2222222222222222, \"#7201a8\"], [0.3333333333333333, \"#9c179e\"], [0.4444444444444444, \"#bd3786\"], [0.5555555555555556, \"#d8576b\"], [0.6666666666666666, \"#ed7953\"], [0.7777777777777778, \"#fb9f3a\"], [0.8888888888888888, \"#fdca26\"], [1.0, \"#f0f921\"]], \"type\": \"heatmapgl\"}], \"histogram\": [{\"marker\": {\"colorbar\": {\"outlinewidth\": 0, \"ticks\": \"\"}}, \"type\": \"histogram\"}], \"histogram2d\": [{\"colorbar\": {\"outlinewidth\": 0, \"ticks\": \"\"}, \"colorscale\": [[0.0, \"#0d0887\"], [0.1111111111111111, \"#46039f\"], [0.2222222222222222, \"#7201a8\"], [0.3333333333333333, \"#9c179e\"], [0.4444444444444444, \"#bd3786\"], [0.5555555555555556, \"#d8576b\"], [0.6666666666666666, \"#ed7953\"], [0.7777777777777778, \"#fb9f3a\"], [0.8888888888888888, \"#fdca26\"], [1.0, \"#f0f921\"]], \"type\": \"histogram2d\"}], \"histogram2dcontour\": [{\"colorbar\": {\"outlinewidth\": 0, \"ticks\": \"\"}, \"colorscale\": [[0.0, \"#0d0887\"], [0.1111111111111111, \"#46039f\"], [0.2222222222222222, \"#7201a8\"], [0.3333333333333333, \"#9c179e\"], [0.4444444444444444, \"#bd3786\"], [0.5555555555555556, \"#d8576b\"], [0.6666666666666666, \"#ed7953\"], [0.7777777777777778, \"#fb9f3a\"], [0.8888888888888888, \"#fdca26\"], [1.0, \"#f0f921\"]], \"type\": \"histogram2dcontour\"}], \"mesh3d\": [{\"colorbar\": {\"outlinewidth\": 0, \"ticks\": \"\"}, \"type\": \"mesh3d\"}], \"parcoords\": [{\"line\": {\"colorbar\": {\"outlinewidth\": 0, \"ticks\": \"\"}}, \"type\": \"parcoords\"}], \"pie\": [{\"automargin\": true, \"type\": \"pie\"}], \"scatter\": [{\"marker\": {\"colorbar\": {\"outlinewidth\": 0, \"ticks\": \"\"}}, \"type\": \"scatter\"}], \"scatter3d\": [{\"line\": {\"colorbar\": {\"outlinewidth\": 0, \"ticks\": \"\"}}, \"marker\": {\"colorbar\": {\"outlinewidth\": 0, \"ticks\": \"\"}}, \"type\": \"scatter3d\"}], \"scattercarpet\": [{\"marker\": {\"colorbar\": {\"outlinewidth\": 0, \"ticks\": \"\"}}, \"type\": \"scattercarpet\"}], \"scattergeo\": [{\"marker\": {\"colorbar\": {\"outlinewidth\": 0, \"ticks\": \"\"}}, \"type\": \"scattergeo\"}], \"scattergl\": [{\"marker\": {\"colorbar\": {\"outlinewidth\": 0, \"ticks\": \"\"}}, \"type\": \"scattergl\"}], \"scattermapbox\": [{\"marker\": {\"colorbar\": {\"outlinewidth\": 0, \"ticks\": \"\"}}, \"type\": \"scattermapbox\"}], \"scatterpolar\": [{\"marker\": {\"colorbar\": {\"outlinewidth\": 0, \"ticks\": \"\"}}, \"type\": \"scatterpolar\"}], \"scatterpolargl\": [{\"marker\": {\"colorbar\": {\"outlinewidth\": 0, \"ticks\": \"\"}}, \"type\": \"scatterpolargl\"}], \"scatterternary\": [{\"marker\": {\"colorbar\": {\"outlinewidth\": 0, \"ticks\": \"\"}}, \"type\": \"scatterternary\"}], \"surface\": [{\"colorbar\": {\"outlinewidth\": 0, \"ticks\": \"\"}, \"colorscale\": [[0.0, \"#0d0887\"], [0.1111111111111111, \"#46039f\"], [0.2222222222222222, \"#7201a8\"], [0.3333333333333333, \"#9c179e\"], [0.4444444444444444, \"#bd3786\"], [0.5555555555555556, \"#d8576b\"], [0.6666666666666666, \"#ed7953\"], [0.7777777777777778, \"#fb9f3a\"], [0.8888888888888888, \"#fdca26\"], [1.0, \"#f0f921\"]], \"type\": \"surface\"}], \"table\": [{\"cells\": {\"fill\": {\"color\": \"#EBF0F8\"}, \"line\": {\"color\": \"white\"}}, \"header\": {\"fill\": {\"color\": \"#C8D4E3\"}, \"line\": {\"color\": \"white\"}}, \"type\": \"table\"}]}, \"layout\": {\"annotationdefaults\": {\"arrowcolor\": \"#2a3f5f\", \"arrowhead\": 0, \"arrowwidth\": 1}, \"coloraxis\": {\"colorbar\": {\"outlinewidth\": 0, \"ticks\": \"\"}}, \"colorscale\": {\"diverging\": [[0, \"#8e0152\"], [0.1, \"#c51b7d\"], [0.2, \"#de77ae\"], [0.3, \"#f1b6da\"], [0.4, \"#fde0ef\"], [0.5, \"#f7f7f7\"], [0.6, \"#e6f5d0\"], [0.7, \"#b8e186\"], [0.8, \"#7fbc41\"], [0.9, \"#4d9221\"], [1, \"#276419\"]], \"sequential\": [[0.0, \"#0d0887\"], [0.1111111111111111, \"#46039f\"], [0.2222222222222222, \"#7201a8\"], [0.3333333333333333, \"#9c179e\"], [0.4444444444444444, \"#bd3786\"], [0.5555555555555556, \"#d8576b\"], [0.6666666666666666, \"#ed7953\"], [0.7777777777777778, \"#fb9f3a\"], [0.8888888888888888, \"#fdca26\"], [1.0, \"#f0f921\"]], \"sequentialminus\": [[0.0, \"#0d0887\"], [0.1111111111111111, \"#46039f\"], [0.2222222222222222, \"#7201a8\"], [0.3333333333333333, \"#9c179e\"], [0.4444444444444444, \"#bd3786\"], [0.5555555555555556, \"#d8576b\"], [0.6666666666666666, \"#ed7953\"], [0.7777777777777778, \"#fb9f3a\"], [0.8888888888888888, \"#fdca26\"], [1.0, \"#f0f921\"]]}, \"colorway\": [\"#636efa\", \"#EF553B\", \"#00cc96\", \"#ab63fa\", \"#FFA15A\", \"#19d3f3\", \"#FF6692\", \"#B6E880\", \"#FF97FF\", \"#FECB52\"], \"font\": {\"color\": \"#2a3f5f\"}, \"geo\": {\"bgcolor\": \"white\", \"lakecolor\": \"white\", \"landcolor\": \"#E5ECF6\", \"showlakes\": true, \"showland\": true, \"subunitcolor\": \"white\"}, \"hoverlabel\": {\"align\": \"left\"}, \"hovermode\": \"closest\", \"mapbox\": {\"style\": \"light\"}, \"paper_bgcolor\": \"white\", \"plot_bgcolor\": \"#E5ECF6\", \"polar\": {\"angularaxis\": {\"gridcolor\": \"white\", \"linecolor\": \"white\", \"ticks\": \"\"}, \"bgcolor\": \"#E5ECF6\", \"radialaxis\": {\"gridcolor\": \"white\", \"linecolor\": \"white\", \"ticks\": \"\"}}, \"scene\": {\"xaxis\": {\"backgroundcolor\": \"#E5ECF6\", \"gridcolor\": \"white\", \"gridwidth\": 2, \"linecolor\": \"white\", \"showbackground\": true, \"ticks\": \"\", \"zerolinecolor\": \"white\"}, \"yaxis\": {\"backgroundcolor\": \"#E5ECF6\", \"gridcolor\": \"white\", \"gridwidth\": 2, \"linecolor\": \"white\", \"showbackground\": true, \"ticks\": \"\", \"zerolinecolor\": \"white\"}, \"zaxis\": {\"backgroundcolor\": \"#E5ECF6\", \"gridcolor\": \"white\", \"gridwidth\": 2, \"linecolor\": \"white\", \"showbackground\": true, \"ticks\": \"\", \"zerolinecolor\": \"white\"}}, \"shapedefaults\": {\"line\": {\"color\": \"#2a3f5f\"}}, \"ternary\": {\"aaxis\": {\"gridcolor\": \"white\", \"linecolor\": \"white\", \"ticks\": \"\"}, \"baxis\": {\"gridcolor\": \"white\", \"linecolor\": \"white\", \"ticks\": \"\"}, \"bgcolor\": \"#E5ECF6\", \"caxis\": {\"gridcolor\": \"white\", \"linecolor\": \"white\", \"ticks\": \"\"}}, \"title\": {\"x\": 0.05}, \"xaxis\": {\"automargin\": true, \"gridcolor\": \"white\", \"linecolor\": \"white\", \"ticks\": \"\", \"title\": {\"standoff\": 15}, \"zerolinecolor\": \"white\", \"zerolinewidth\": 2}, \"yaxis\": {\"automargin\": true, \"gridcolor\": \"white\", \"linecolor\": \"white\", \"ticks\": \"\", \"title\": {\"standoff\": 15}, \"zerolinecolor\": \"white\", \"zerolinewidth\": 2}}}},                        {\"responsive\": true}                    ).then(function(){\n",
       "                            \n",
       "var gd = document.getElementById('549fe2df-7701-499b-9e37-4f559b0b76c6');\n",
       "var x = new MutationObserver(function (mutations, observer) {{\n",
       "        var display = window.getComputedStyle(gd).display;\n",
       "        if (!display || display === 'none') {{\n",
       "            console.log([gd, 'removed!']);\n",
       "            Plotly.purge(gd);\n",
       "            observer.disconnect();\n",
       "        }}\n",
       "}});\n",
       "\n",
       "// Listen for the removal of the full notebook cells\n",
       "var notebookContainer = gd.closest('#notebook-container');\n",
       "if (notebookContainer) {{\n",
       "    x.observe(notebookContainer, {childList: true});\n",
       "}}\n",
       "\n",
       "// Listen for the clearing of the current output cell\n",
       "var outputEl = gd.closest('.output');\n",
       "if (outputEl) {{\n",
       "    x.observe(outputEl, {childList: true});\n",
       "}}\n",
       "\n",
       "                        })                };                });            </script>        </div>"
      ]
     },
     "metadata": {},
     "output_type": "display_data"
    }
   ],
   "source": [
    "print('Qualified to Sales Accepted')\n",
    "print_full(get_count_percent3(df_input_grouped1,'is_sales_accepted',drop_na=False))\n",
    "print('--------------------------------')\n",
    "print('')\n",
    "print('Qualified to Opportunities')\n",
    "print_full(get_count_percent3(df_input_grouped1,'is_opportunity',drop_na=False))\n",
    "print('--------------------------------')\n",
    "print('')\n",
    "print('Sales Accepted to Opportunities')\n",
    "print_full(get_count_percent3(df_input_grouped1[df_input_grouped1['is_sales_accepted']==1],'is_opportunity',drop_na=False))\n",
    "print('--------------------------------')\n",
    "print('')\n",
    "\n",
    "\n",
    "print('Qualified to Customer')\n",
    "print_full(get_count_percent3(df_input_grouped1,'is_customer',drop_na=False))\n",
    "print('--------------------------------')\n",
    "print('')\n",
    "print('Sales Accepted to Customer')\n",
    "print_full(get_count_percent3(df_input_grouped1[df_input_grouped1['is_sales_accepted']==1],'is_customer',drop_na=False))\n",
    "print('--------------------------------')\n",
    "print('')\n",
    "print('Opportunity to Customer')\n",
    "print_full(get_count_percent3(df_input_grouped1[df_input_grouped1['is_opportunity']==1],'is_customer',drop_na=False))\n",
    "#print('--------------------------------')\n",
    "#print('')\n",
    "\n",
    "fig = go.Figure()\n",
    "fig = go.Figure(go.Funnel(\n",
    "    y = [\"Qualified Accounts\",\"Sales Accepted\",\"Opportunities\", \"Customers\"],\n",
    "    x = [count_quailified,count_sales_accepted,count_opportunities,count_customer],\n",
    "    textposition = \"inside\",\n",
    "    textinfo = \"value+percent initial\",\n",
    "    opacity = 0.65, marker = {\"color\": [\"blue\",\"deepskyblue\", \"lightsalmon\",\"teal\"],\n",
    "    \"line\": {\"width\": [2, 1, 1], \"color\": [\"wheat\",\"wheat\", \"wheat\", \"wheat\"]}},\n",
    "    connector = {\"line\": {\"color\": \"royalblue\", \"dash\": \"dot\", \"width\": 3}})\n",
    "    )\n",
    "fig.show()"
   ]
  },
  {
   "cell_type": "code",
   "execution_count": 217,
   "metadata": {
    "ExecuteTime": {
     "end_time": "2020-10-22T09:33:12.040491Z",
     "start_time": "2020-10-22T09:33:12.029496Z"
    }
   },
   "outputs": [
    {
     "name": "stdout",
     "output_type": "stream",
     "text": [
      "Sales Accepted Leads: 14090\n"
     ]
    }
   ],
   "source": [
    "df_input_grouped1=df_input_grouped1[df_input_grouped1['is_sales_accepted']==1]\n",
    "print('Sales Accepted Leads: %s'%df_input_grouped1.shape[0])"
   ]
  },
  {
   "cell_type": "markdown",
   "metadata": {
    "ExecuteTime": {
     "end_time": "2020-10-17T00:41:26.759745Z",
     "start_time": "2020-10-17T00:41:26.563014Z"
    }
   },
   "source": [
    "## Correlations"
   ]
  },
  {
   "cell_type": "code",
   "execution_count": 218,
   "metadata": {
    "ExecuteTime": {
     "end_time": "2020-10-22T09:33:16.317838Z",
     "start_time": "2020-10-22T09:33:16.302597Z"
    }
   },
   "outputs": [
    {
     "data": {
      "text/html": [
       "<div>\n",
       "<style scoped>\n",
       "    .dataframe tbody tr th:only-of-type {\n",
       "        vertical-align: middle;\n",
       "    }\n",
       "\n",
       "    .dataframe tbody tr th {\n",
       "        vertical-align: top;\n",
       "    }\n",
       "\n",
       "    .dataframe thead th {\n",
       "        text-align: right;\n",
       "    }\n",
       "</style>\n",
       "<table border=\"1\" class=\"dataframe\">\n",
       "  <thead>\n",
       "    <tr style=\"text-align: right;\">\n",
       "      <th></th>\n",
       "      <th>variable</th>\n",
       "      <th>correlation</th>\n",
       "    </tr>\n",
       "  </thead>\n",
       "  <tbody>\n",
       "    <tr>\n",
       "      <th>3</th>\n",
       "      <td>sender_count</td>\n",
       "      <td>0.0311</td>\n",
       "    </tr>\n",
       "    <tr>\n",
       "      <th>0</th>\n",
       "      <td>insights</td>\n",
       "      <td>0.0297</td>\n",
       "    </tr>\n",
       "    <tr>\n",
       "      <th>6</th>\n",
       "      <td>retail_companies</td>\n",
       "      <td>0.0241</td>\n",
       "    </tr>\n",
       "    <tr>\n",
       "      <th>2</th>\n",
       "      <td>doc_count</td>\n",
       "      <td>0.0200</td>\n",
       "    </tr>\n",
       "    <tr>\n",
       "      <th>4</th>\n",
       "      <td>location_count</td>\n",
       "      <td>0.0147</td>\n",
       "    </tr>\n",
       "    <tr>\n",
       "      <th>7</th>\n",
       "      <td>non_users</td>\n",
       "      <td>0.0064</td>\n",
       "    </tr>\n",
       "    <tr>\n",
       "      <th>1</th>\n",
       "      <td>project_count</td>\n",
       "      <td>0.0042</td>\n",
       "    </tr>\n",
       "    <tr>\n",
       "      <th>5</th>\n",
       "      <td>subscriber_companies</td>\n",
       "      <td>NaN</td>\n",
       "    </tr>\n",
       "  </tbody>\n",
       "</table>\n",
       "</div>"
      ],
      "text/plain": [
       "               variable  correlation\n",
       "3          sender_count       0.0311\n",
       "0              insights       0.0297\n",
       "6      retail_companies       0.0241\n",
       "2             doc_count       0.0200\n",
       "4        location_count       0.0147\n",
       "7             non_users       0.0064\n",
       "1         project_count       0.0042\n",
       "5  subscriber_companies          NaN"
      ]
     },
     "execution_count": 218,
     "metadata": {},
     "output_type": "execute_result"
    }
   ],
   "source": [
    "numerical_variables=['insights','project_count','doc_count',\n",
    "       'sender_count', 'location_count','subscriber_companies', 'retail_companies', 'non_users']\n",
    "\n",
    "corr_list={}\n",
    "for col in numerical_variables:\n",
    "    corr_list[col]=round(df_input_grouped1[col].corr(df_input_grouped1['is_opportunity']),4)\n",
    "df_corr=pd.DataFrame.from_dict(corr_list,orient ='index').reset_index()\n",
    "df_corr.columns=['variable','correlation']\n",
    "df_corr=df_corr.sort_values(by=['correlation'],ascending=[False])\n",
    "df_corr"
   ]
  },
  {
   "cell_type": "markdown",
   "metadata": {},
   "source": [
    "<img src=\"../../image_art/idea_insight.png\" alt=\"Insight\" style=\"float: left;width: 100px;\"/>\n",
    "\n",
    "- Very weak correlation between opportunities and the variables\n",
    "- Highest correlation is for __sender count (0.0310)__ followed by __insights count (0.0297)__"
   ]
  },
  {
   "cell_type": "markdown",
   "metadata": {},
   "source": [
    "## State"
   ]
  },
  {
   "cell_type": "markdown",
   "metadata": {},
   "source": [
    "### State Distribution: All Data (Opps and No Opps)"
   ]
  },
  {
   "cell_type": "code",
   "execution_count": 223,
   "metadata": {
    "ExecuteTime": {
     "end_time": "2020-10-22T09:34:03.195910Z",
     "start_time": "2020-10-22T09:34:03.125158Z"
    },
    "scrolled": false
   },
   "outputs": [
    {
     "name": "stdout",
     "output_type": "stream",
     "text": [
      "# Company Billing State Fill Rate: 85.14%\n",
      "# Company Billing State Missing: 14.74%\n",
      "# Company Billing State Invalid: 0.12%\n",
      "# Unique States: 51\n",
      "Top 10 States\n"
     ]
    },
    {
     "data": {
      "text/html": [
       "<style  type=\"text/css\" >\n",
       "    #T_b8dfd394_1449_11eb_ad24_02762c461b26row2_col0 {\n",
       "            background-color:  red;\n",
       "        }    #T_b8dfd394_1449_11eb_ad24_02762c461b26row2_col1 {\n",
       "            background-color:  red;\n",
       "        }    #T_b8dfd394_1449_11eb_ad24_02762c461b26row2_col2 {\n",
       "            background-color:  red;\n",
       "        }    #T_b8dfd394_1449_11eb_ad24_02762c461b26row2_col3 {\n",
       "            background-color:  red;\n",
       "        }</style><table id=\"T_b8dfd394_1449_11eb_ad24_02762c461b26\" style='display:inline'><caption>All Leads</caption><thead>    <tr>        <th class=\"blank level0\" ></th>        <th class=\"col_heading level0 col0\" >state</th>        <th class=\"col_heading level0 col1\" >state_code</th>        <th class=\"col_heading level0 col2\" >count</th>        <th class=\"col_heading level0 col3\" >%</th>    </tr></thead><tbody>\n",
       "                <tr>\n",
       "                        <th id=\"T_b8dfd394_1449_11eb_ad24_02762c461b26level0_row0\" class=\"row_heading level0 row0\" >0</th>\n",
       "                        <td id=\"T_b8dfd394_1449_11eb_ad24_02762c461b26row0_col0\" class=\"data row0 col0\" >Texas</td>\n",
       "                        <td id=\"T_b8dfd394_1449_11eb_ad24_02762c461b26row0_col1\" class=\"data row0 col1\" >TX</td>\n",
       "                        <td id=\"T_b8dfd394_1449_11eb_ad24_02762c461b26row0_col2\" class=\"data row0 col2\" >4706</td>\n",
       "                        <td id=\"T_b8dfd394_1449_11eb_ad24_02762c461b26row0_col3\" class=\"data row0 col3\" >33.4%</td>\n",
       "            </tr>\n",
       "            <tr>\n",
       "                        <th id=\"T_b8dfd394_1449_11eb_ad24_02762c461b26level0_row1\" class=\"row_heading level0 row1\" >1</th>\n",
       "                        <td id=\"T_b8dfd394_1449_11eb_ad24_02762c461b26row1_col0\" class=\"data row1 col0\" >California</td>\n",
       "                        <td id=\"T_b8dfd394_1449_11eb_ad24_02762c461b26row1_col1\" class=\"data row1 col1\" >CA</td>\n",
       "                        <td id=\"T_b8dfd394_1449_11eb_ad24_02762c461b26row1_col2\" class=\"data row1 col2\" >2613</td>\n",
       "                        <td id=\"T_b8dfd394_1449_11eb_ad24_02762c461b26row1_col3\" class=\"data row1 col3\" >18.55%</td>\n",
       "            </tr>\n",
       "            <tr>\n",
       "                        <th id=\"T_b8dfd394_1449_11eb_ad24_02762c461b26level0_row2\" class=\"row_heading level0 row2\" >2</th>\n",
       "                        <td id=\"T_b8dfd394_1449_11eb_ad24_02762c461b26row2_col0\" class=\"data row2 col0\" >Missing</td>\n",
       "                        <td id=\"T_b8dfd394_1449_11eb_ad24_02762c461b26row2_col1\" class=\"data row2 col1\" >Missing</td>\n",
       "                        <td id=\"T_b8dfd394_1449_11eb_ad24_02762c461b26row2_col2\" class=\"data row2 col2\" >2104</td>\n",
       "                        <td id=\"T_b8dfd394_1449_11eb_ad24_02762c461b26row2_col3\" class=\"data row2 col3\" >14.93%</td>\n",
       "            </tr>\n",
       "            <tr>\n",
       "                        <th id=\"T_b8dfd394_1449_11eb_ad24_02762c461b26level0_row3\" class=\"row_heading level0 row3\" >3</th>\n",
       "                        <td id=\"T_b8dfd394_1449_11eb_ad24_02762c461b26row3_col0\" class=\"data row3 col0\" >Florida</td>\n",
       "                        <td id=\"T_b8dfd394_1449_11eb_ad24_02762c461b26row3_col1\" class=\"data row3 col1\" >FL</td>\n",
       "                        <td id=\"T_b8dfd394_1449_11eb_ad24_02762c461b26row3_col2\" class=\"data row3 col2\" >886</td>\n",
       "                        <td id=\"T_b8dfd394_1449_11eb_ad24_02762c461b26row3_col3\" class=\"data row3 col3\" >6.29%</td>\n",
       "            </tr>\n",
       "            <tr>\n",
       "                        <th id=\"T_b8dfd394_1449_11eb_ad24_02762c461b26level0_row4\" class=\"row_heading level0 row4\" >4</th>\n",
       "                        <td id=\"T_b8dfd394_1449_11eb_ad24_02762c461b26row4_col0\" class=\"data row4 col0\" >Arizona</td>\n",
       "                        <td id=\"T_b8dfd394_1449_11eb_ad24_02762c461b26row4_col1\" class=\"data row4 col1\" >AZ</td>\n",
       "                        <td id=\"T_b8dfd394_1449_11eb_ad24_02762c461b26row4_col2\" class=\"data row4 col2\" >388</td>\n",
       "                        <td id=\"T_b8dfd394_1449_11eb_ad24_02762c461b26row4_col3\" class=\"data row4 col3\" >2.75%</td>\n",
       "            </tr>\n",
       "            <tr>\n",
       "                        <th id=\"T_b8dfd394_1449_11eb_ad24_02762c461b26level0_row5\" class=\"row_heading level0 row5\" >5</th>\n",
       "                        <td id=\"T_b8dfd394_1449_11eb_ad24_02762c461b26row5_col0\" class=\"data row5 col0\" >Georgia</td>\n",
       "                        <td id=\"T_b8dfd394_1449_11eb_ad24_02762c461b26row5_col1\" class=\"data row5 col1\" >GA</td>\n",
       "                        <td id=\"T_b8dfd394_1449_11eb_ad24_02762c461b26row5_col2\" class=\"data row5 col2\" >334</td>\n",
       "                        <td id=\"T_b8dfd394_1449_11eb_ad24_02762c461b26row5_col3\" class=\"data row5 col3\" >2.37%</td>\n",
       "            </tr>\n",
       "            <tr>\n",
       "                        <th id=\"T_b8dfd394_1449_11eb_ad24_02762c461b26level0_row6\" class=\"row_heading level0 row6\" >6</th>\n",
       "                        <td id=\"T_b8dfd394_1449_11eb_ad24_02762c461b26row6_col0\" class=\"data row6 col0\" >Nevada</td>\n",
       "                        <td id=\"T_b8dfd394_1449_11eb_ad24_02762c461b26row6_col1\" class=\"data row6 col1\" >NV</td>\n",
       "                        <td id=\"T_b8dfd394_1449_11eb_ad24_02762c461b26row6_col2\" class=\"data row6 col2\" >317</td>\n",
       "                        <td id=\"T_b8dfd394_1449_11eb_ad24_02762c461b26row6_col3\" class=\"data row6 col3\" >2.25%</td>\n",
       "            </tr>\n",
       "            <tr>\n",
       "                        <th id=\"T_b8dfd394_1449_11eb_ad24_02762c461b26level0_row7\" class=\"row_heading level0 row7\" >7</th>\n",
       "                        <td id=\"T_b8dfd394_1449_11eb_ad24_02762c461b26row7_col0\" class=\"data row7 col0\" >Colorado</td>\n",
       "                        <td id=\"T_b8dfd394_1449_11eb_ad24_02762c461b26row7_col1\" class=\"data row7 col1\" >CO</td>\n",
       "                        <td id=\"T_b8dfd394_1449_11eb_ad24_02762c461b26row7_col2\" class=\"data row7 col2\" >295</td>\n",
       "                        <td id=\"T_b8dfd394_1449_11eb_ad24_02762c461b26row7_col3\" class=\"data row7 col3\" >2.09%</td>\n",
       "            </tr>\n",
       "            <tr>\n",
       "                        <th id=\"T_b8dfd394_1449_11eb_ad24_02762c461b26level0_row8\" class=\"row_heading level0 row8\" >8</th>\n",
       "                        <td id=\"T_b8dfd394_1449_11eb_ad24_02762c461b26row8_col0\" class=\"data row8 col0\" >New York</td>\n",
       "                        <td id=\"T_b8dfd394_1449_11eb_ad24_02762c461b26row8_col1\" class=\"data row8 col1\" >NY</td>\n",
       "                        <td id=\"T_b8dfd394_1449_11eb_ad24_02762c461b26row8_col2\" class=\"data row8 col2\" >233</td>\n",
       "                        <td id=\"T_b8dfd394_1449_11eb_ad24_02762c461b26row8_col3\" class=\"data row8 col3\" >1.65%</td>\n",
       "            </tr>\n",
       "            <tr>\n",
       "                        <th id=\"T_b8dfd394_1449_11eb_ad24_02762c461b26level0_row9\" class=\"row_heading level0 row9\" >9</th>\n",
       "                        <td id=\"T_b8dfd394_1449_11eb_ad24_02762c461b26row9_col0\" class=\"data row9 col0\" >Washington</td>\n",
       "                        <td id=\"T_b8dfd394_1449_11eb_ad24_02762c461b26row9_col1\" class=\"data row9 col1\" >WA</td>\n",
       "                        <td id=\"T_b8dfd394_1449_11eb_ad24_02762c461b26row9_col2\" class=\"data row9 col2\" >225</td>\n",
       "                        <td id=\"T_b8dfd394_1449_11eb_ad24_02762c461b26row9_col3\" class=\"data row9 col3\" >1.6%</td>\n",
       "            </tr>\n",
       "    </tbody></table><<<<>>>>><style  type=\"text/css\" >\n",
       "    #T_b8dfd395_1449_11eb_ad24_02762c461b26row2_col0 {\n",
       "            background-color:  red;\n",
       "        }    #T_b8dfd395_1449_11eb_ad24_02762c461b26row2_col1 {\n",
       "            background-color:  red;\n",
       "        }    #T_b8dfd395_1449_11eb_ad24_02762c461b26row2_col2 {\n",
       "            background-color:  red;\n",
       "        }    #T_b8dfd395_1449_11eb_ad24_02762c461b26row2_col3 {\n",
       "            background-color:  red;\n",
       "        }</style><table id=\"T_b8dfd395_1449_11eb_ad24_02762c461b26\" style='display:inline'><caption>Oppertunities</caption><thead>    <tr>        <th class=\"blank level0\" ></th>        <th class=\"col_heading level0 col0\" >state</th>        <th class=\"col_heading level0 col1\" >state_code</th>        <th class=\"col_heading level0 col2\" >count</th>        <th class=\"col_heading level0 col3\" >%</th>    </tr></thead><tbody>\n",
       "                <tr>\n",
       "                        <th id=\"T_b8dfd395_1449_11eb_ad24_02762c461b26level0_row0\" class=\"row_heading level0 row0\" >0</th>\n",
       "                        <td id=\"T_b8dfd395_1449_11eb_ad24_02762c461b26row0_col0\" class=\"data row0 col0\" >Texas</td>\n",
       "                        <td id=\"T_b8dfd395_1449_11eb_ad24_02762c461b26row0_col1\" class=\"data row0 col1\" >TX</td>\n",
       "                        <td id=\"T_b8dfd395_1449_11eb_ad24_02762c461b26row0_col2\" class=\"data row0 col2\" >405</td>\n",
       "                        <td id=\"T_b8dfd395_1449_11eb_ad24_02762c461b26row0_col3\" class=\"data row0 col3\" >33.53%</td>\n",
       "            </tr>\n",
       "            <tr>\n",
       "                        <th id=\"T_b8dfd395_1449_11eb_ad24_02762c461b26level0_row1\" class=\"row_heading level0 row1\" >1</th>\n",
       "                        <td id=\"T_b8dfd395_1449_11eb_ad24_02762c461b26row1_col0\" class=\"data row1 col0\" >California</td>\n",
       "                        <td id=\"T_b8dfd395_1449_11eb_ad24_02762c461b26row1_col1\" class=\"data row1 col1\" >CA</td>\n",
       "                        <td id=\"T_b8dfd395_1449_11eb_ad24_02762c461b26row1_col2\" class=\"data row1 col2\" >271</td>\n",
       "                        <td id=\"T_b8dfd395_1449_11eb_ad24_02762c461b26row1_col3\" class=\"data row1 col3\" >22.43%</td>\n",
       "            </tr>\n",
       "            <tr>\n",
       "                        <th id=\"T_b8dfd395_1449_11eb_ad24_02762c461b26level0_row2\" class=\"row_heading level0 row2\" >2</th>\n",
       "                        <td id=\"T_b8dfd395_1449_11eb_ad24_02762c461b26row2_col0\" class=\"data row2 col0\" >Missing</td>\n",
       "                        <td id=\"T_b8dfd395_1449_11eb_ad24_02762c461b26row2_col1\" class=\"data row2 col1\" >Missing</td>\n",
       "                        <td id=\"T_b8dfd395_1449_11eb_ad24_02762c461b26row2_col2\" class=\"data row2 col2\" >199</td>\n",
       "                        <td id=\"T_b8dfd395_1449_11eb_ad24_02762c461b26row2_col3\" class=\"data row2 col3\" >16.47%</td>\n",
       "            </tr>\n",
       "            <tr>\n",
       "                        <th id=\"T_b8dfd395_1449_11eb_ad24_02762c461b26level0_row3\" class=\"row_heading level0 row3\" >3</th>\n",
       "                        <td id=\"T_b8dfd395_1449_11eb_ad24_02762c461b26row3_col0\" class=\"data row3 col0\" >Florida</td>\n",
       "                        <td id=\"T_b8dfd395_1449_11eb_ad24_02762c461b26row3_col1\" class=\"data row3 col1\" >FL</td>\n",
       "                        <td id=\"T_b8dfd395_1449_11eb_ad24_02762c461b26row3_col2\" class=\"data row3 col2\" >62</td>\n",
       "                        <td id=\"T_b8dfd395_1449_11eb_ad24_02762c461b26row3_col3\" class=\"data row3 col3\" >5.13%</td>\n",
       "            </tr>\n",
       "            <tr>\n",
       "                        <th id=\"T_b8dfd395_1449_11eb_ad24_02762c461b26level0_row4\" class=\"row_heading level0 row4\" >4</th>\n",
       "                        <td id=\"T_b8dfd395_1449_11eb_ad24_02762c461b26row4_col0\" class=\"data row4 col0\" >Georgia</td>\n",
       "                        <td id=\"T_b8dfd395_1449_11eb_ad24_02762c461b26row4_col1\" class=\"data row4 col1\" >GA</td>\n",
       "                        <td id=\"T_b8dfd395_1449_11eb_ad24_02762c461b26row4_col2\" class=\"data row4 col2\" >33</td>\n",
       "                        <td id=\"T_b8dfd395_1449_11eb_ad24_02762c461b26row4_col3\" class=\"data row4 col3\" >2.73%</td>\n",
       "            </tr>\n",
       "            <tr>\n",
       "                        <th id=\"T_b8dfd395_1449_11eb_ad24_02762c461b26level0_row5\" class=\"row_heading level0 row5\" >5</th>\n",
       "                        <td id=\"T_b8dfd395_1449_11eb_ad24_02762c461b26row5_col0\" class=\"data row5 col0\" >Colorado</td>\n",
       "                        <td id=\"T_b8dfd395_1449_11eb_ad24_02762c461b26row5_col1\" class=\"data row5 col1\" >CO</td>\n",
       "                        <td id=\"T_b8dfd395_1449_11eb_ad24_02762c461b26row5_col2\" class=\"data row5 col2\" >28</td>\n",
       "                        <td id=\"T_b8dfd395_1449_11eb_ad24_02762c461b26row5_col3\" class=\"data row5 col3\" >2.32%</td>\n",
       "            </tr>\n",
       "            <tr>\n",
       "                        <th id=\"T_b8dfd395_1449_11eb_ad24_02762c461b26level0_row6\" class=\"row_heading level0 row6\" >6</th>\n",
       "                        <td id=\"T_b8dfd395_1449_11eb_ad24_02762c461b26row6_col0\" class=\"data row6 col0\" >Arizona</td>\n",
       "                        <td id=\"T_b8dfd395_1449_11eb_ad24_02762c461b26row6_col1\" class=\"data row6 col1\" >AZ</td>\n",
       "                        <td id=\"T_b8dfd395_1449_11eb_ad24_02762c461b26row6_col2\" class=\"data row6 col2\" >27</td>\n",
       "                        <td id=\"T_b8dfd395_1449_11eb_ad24_02762c461b26row6_col3\" class=\"data row6 col3\" >2.24%</td>\n",
       "            </tr>\n",
       "            <tr>\n",
       "                        <th id=\"T_b8dfd395_1449_11eb_ad24_02762c461b26level0_row7\" class=\"row_heading level0 row7\" >7</th>\n",
       "                        <td id=\"T_b8dfd395_1449_11eb_ad24_02762c461b26row7_col0\" class=\"data row7 col0\" >Nevada</td>\n",
       "                        <td id=\"T_b8dfd395_1449_11eb_ad24_02762c461b26row7_col1\" class=\"data row7 col1\" >NV</td>\n",
       "                        <td id=\"T_b8dfd395_1449_11eb_ad24_02762c461b26row7_col2\" class=\"data row7 col2\" >23</td>\n",
       "                        <td id=\"T_b8dfd395_1449_11eb_ad24_02762c461b26row7_col3\" class=\"data row7 col3\" >1.9%</td>\n",
       "            </tr>\n",
       "            <tr>\n",
       "                        <th id=\"T_b8dfd395_1449_11eb_ad24_02762c461b26level0_row8\" class=\"row_heading level0 row8\" >8</th>\n",
       "                        <td id=\"T_b8dfd395_1449_11eb_ad24_02762c461b26row8_col0\" class=\"data row8 col0\" >North Carolina</td>\n",
       "                        <td id=\"T_b8dfd395_1449_11eb_ad24_02762c461b26row8_col1\" class=\"data row8 col1\" >NC</td>\n",
       "                        <td id=\"T_b8dfd395_1449_11eb_ad24_02762c461b26row8_col2\" class=\"data row8 col2\" >21</td>\n",
       "                        <td id=\"T_b8dfd395_1449_11eb_ad24_02762c461b26row8_col3\" class=\"data row8 col3\" >1.74%</td>\n",
       "            </tr>\n",
       "            <tr>\n",
       "                        <th id=\"T_b8dfd395_1449_11eb_ad24_02762c461b26level0_row9\" class=\"row_heading level0 row9\" >9</th>\n",
       "                        <td id=\"T_b8dfd395_1449_11eb_ad24_02762c461b26row9_col0\" class=\"data row9 col0\" >Washington</td>\n",
       "                        <td id=\"T_b8dfd395_1449_11eb_ad24_02762c461b26row9_col1\" class=\"data row9 col1\" >WA</td>\n",
       "                        <td id=\"T_b8dfd395_1449_11eb_ad24_02762c461b26row9_col2\" class=\"data row9 col2\" >16</td>\n",
       "                        <td id=\"T_b8dfd395_1449_11eb_ad24_02762c461b26row9_col3\" class=\"data row9 col3\" >1.32%</td>\n",
       "            </tr>\n",
       "    </tbody></table>"
      ]
     },
     "metadata": {},
     "output_type": "display_data"
    }
   ],
   "source": [
    "#print('-----State-----')\n",
    "print('# Company Billing State Fill Rate: %s'%str(round(df_input_grouped1[~df_input_grouped1['state_code'].isin(['Missing','Unknown'])].shape[0]*100/df_input_grouped1.shape[0],2))+'%')\n",
    "print('# Company Billing State Missing: %s'%str(round(df_input_grouped1[df_input_grouped1['state_code'].isin(['Missing'])].shape[0]*100/df_input_grouped1.shape[0],2))+'%')\n",
    "print('# Company Billing State Invalid: %s'%str(round(df_input_grouped1[df_input_grouped1['state_code'].isin(['Unknown'])].shape[0]*100/df_input_grouped1.shape[0],2))+'%')\n",
    "\n",
    "\n",
    "pivot_norm_state=df_input_grouped1['state'].value_counts(dropna='False').to_frame().reset_index()\n",
    "pivot_norm_state.columns=['state','count']\n",
    "pivot_norm_state=pivot_norm_state.merge(df_state_regions[['state_code','state_name']],how='left',left_on='state',right_on='state_name').drop(['state_name'],axis=1)\n",
    "pivot_norm_state.state_code.fillna('Missing',inplace=True)\n",
    "pivot_norm_state=pivot_norm_state[['state','state_code','count']]\n",
    "pivot_norm_state['%']=round(pivot_norm_state['count']*100/sum(pivot_norm_state['count']),2)\n",
    "pivot_norm_state=pivot_norm_state.sort_values(by=['%'],ascending=[False])\n",
    "pivot_norm_state['%']=pivot_norm_state['%'].astype(str)+'%'\n",
    "\n",
    "pivot_norm_state_opp=df_input_grouped1[df_input_grouped1['is_opportunity']==1]['state'].value_counts(dropna='False').to_frame().reset_index()\n",
    "pivot_norm_state_opp.columns=['state','count']\n",
    "pivot_norm_state_opp=pivot_norm_state_opp.merge(df_state_regions[['state_code','state_name']],how='left',left_on='state',right_on='state_name').drop(['state_name'],axis=1)\n",
    "pivot_norm_state_opp.state_code.fillna('Missing',inplace=True)\n",
    "pivot_norm_state_opp=pivot_norm_state_opp[['state','state_code','count']]\n",
    "pivot_norm_state_opp['%']=round(pivot_norm_state_opp['count']*100/sum(pivot_norm_state_opp['count']),2)\n",
    "pivot_norm_state_opp=pivot_norm_state_opp.sort_values(by=['%'],ascending=[False])\n",
    "pivot_norm_state_opp['%']=pivot_norm_state_opp['%'].astype(str)+'%'\n",
    "\n",
    "\n",
    "print('# Unique States: %s'%pivot_norm_state.shape[0])\n",
    "#print('Top 10 Raw State')\n",
    "#col_name='company_billing_state'\n",
    "#print_full(get_count_percent1(col_name).head(10))\n",
    "\n",
    "print('Top 10 States')\n",
    "pivot_norm_state.head(10).style.apply(row_style, axis=1).set_table_attributes(\"style='display:inline'\")\n",
    "pivot_norm_state_opp.head(10).style.apply(row_style, axis=1).set_table_attributes(\"style='display:inline'\")\n",
    "\n",
    "\n",
    "df1_styler = pivot_norm_state.head(10).style.apply(row_style, axis=1).set_table_attributes(\"style='display:inline'\").set_caption('All Leads')\n",
    "df2_styler = pivot_norm_state_opp.head(10).style.apply(row_style, axis=1).set_table_attributes(\"style='display:inline'\").set_caption('Oppertunities')\n",
    "from IPython.display import display_html \n",
    "display_html(df1_styler._repr_html_()+'<<<<>>>>>'+df2_styler._repr_html_(), raw=True)"
   ]
  },
  {
   "cell_type": "code",
   "execution_count": 230,
   "metadata": {
    "ExecuteTime": {
     "end_time": "2020-10-22T09:40:19.795510Z",
     "start_time": "2020-10-22T09:40:19.782157Z"
    }
   },
   "outputs": [
    {
     "data": {
      "application/vnd.plotly.v1+json": {
       "config": {
        "plotlyServerURL": "https://plot.ly"
       },
       "data": [
        {
         "locationmode": "USA-states",
         "locations": [
          "TX",
          "CA",
          "Missing",
          "FL",
          "AZ",
          "GA",
          "NV",
          "CO",
          "NY",
          "WA",
          "NC",
          "IL",
          "OH",
          "TN",
          "LA",
          "UT",
          "MI",
          "MA",
          "SC",
          "PA",
          "NJ",
          "VA",
          "MO",
          "NM",
          "OK",
          "OR",
          "WI",
          "MD",
          "IN",
          "AL",
          "MN",
          "KS",
          "AR",
          "IA",
          "ID",
          "KY",
          "NE",
          "CT",
          "MS",
          "DE",
          "ND",
          "NH",
          "RI",
          "MT",
          "AK",
          "SD",
          "ME",
          "WV",
          "HI",
          "WY",
          "VT"
         ],
         "text": [
          33.4,
          18.55,
          14.93,
          6.29,
          2.75,
          2.37,
          2.25,
          2.09,
          1.65,
          1.6,
          1.51,
          1.04,
          0.93,
          0.81,
          0.8,
          0.6,
          0.6,
          0.59,
          0.56,
          0.5,
          0.5,
          0.47,
          0.45,
          0.44,
          0.43,
          0.4,
          0.4,
          0.38,
          0.36,
          0.34,
          0.33,
          0.26,
          0.22,
          0.21,
          0.13,
          0.13,
          0.12,
          0.11,
          0.09,
          0.06,
          0.06,
          0.06,
          0.05,
          0.04,
          0.04,
          0.03,
          0.03,
          0.01,
          0.01,
          0.01,
          0.01
         ],
         "type": "choropleth",
         "z": [
          4706,
          2613,
          2104,
          886,
          388,
          334,
          317,
          295,
          233,
          225,
          213,
          146,
          131,
          114,
          113,
          85,
          84,
          83,
          79,
          71,
          70,
          66,
          64,
          62,
          60,
          56,
          56,
          53,
          51,
          48,
          47,
          37,
          31,
          30,
          19,
          18,
          17,
          16,
          12,
          8,
          9,
          9,
          7,
          5,
          5,
          4,
          4,
          2,
          2,
          1,
          1
         ]
        }
       ],
       "layout": {
        "geo": {
         "lakecolor": "rgb(255, 255, 255)",
         "projection": {
          "type": "albers usa"
         },
         "scope": "usa",
         "showlakes": true
        },
        "template": {
         "data": {
          "bar": [
           {
            "error_x": {
             "color": "#2a3f5f"
            },
            "error_y": {
             "color": "#2a3f5f"
            },
            "marker": {
             "line": {
              "color": "#E5ECF6",
              "width": 0.5
             }
            },
            "type": "bar"
           }
          ],
          "barpolar": [
           {
            "marker": {
             "line": {
              "color": "#E5ECF6",
              "width": 0.5
             }
            },
            "type": "barpolar"
           }
          ],
          "carpet": [
           {
            "aaxis": {
             "endlinecolor": "#2a3f5f",
             "gridcolor": "white",
             "linecolor": "white",
             "minorgridcolor": "white",
             "startlinecolor": "#2a3f5f"
            },
            "baxis": {
             "endlinecolor": "#2a3f5f",
             "gridcolor": "white",
             "linecolor": "white",
             "minorgridcolor": "white",
             "startlinecolor": "#2a3f5f"
            },
            "type": "carpet"
           }
          ],
          "choropleth": [
           {
            "colorbar": {
             "outlinewidth": 0,
             "ticks": ""
            },
            "type": "choropleth"
           }
          ],
          "contour": [
           {
            "colorbar": {
             "outlinewidth": 0,
             "ticks": ""
            },
            "colorscale": [
             [
              0,
              "#0d0887"
             ],
             [
              0.1111111111111111,
              "#46039f"
             ],
             [
              0.2222222222222222,
              "#7201a8"
             ],
             [
              0.3333333333333333,
              "#9c179e"
             ],
             [
              0.4444444444444444,
              "#bd3786"
             ],
             [
              0.5555555555555556,
              "#d8576b"
             ],
             [
              0.6666666666666666,
              "#ed7953"
             ],
             [
              0.7777777777777778,
              "#fb9f3a"
             ],
             [
              0.8888888888888888,
              "#fdca26"
             ],
             [
              1,
              "#f0f921"
             ]
            ],
            "type": "contour"
           }
          ],
          "contourcarpet": [
           {
            "colorbar": {
             "outlinewidth": 0,
             "ticks": ""
            },
            "type": "contourcarpet"
           }
          ],
          "heatmap": [
           {
            "colorbar": {
             "outlinewidth": 0,
             "ticks": ""
            },
            "colorscale": [
             [
              0,
              "#0d0887"
             ],
             [
              0.1111111111111111,
              "#46039f"
             ],
             [
              0.2222222222222222,
              "#7201a8"
             ],
             [
              0.3333333333333333,
              "#9c179e"
             ],
             [
              0.4444444444444444,
              "#bd3786"
             ],
             [
              0.5555555555555556,
              "#d8576b"
             ],
             [
              0.6666666666666666,
              "#ed7953"
             ],
             [
              0.7777777777777778,
              "#fb9f3a"
             ],
             [
              0.8888888888888888,
              "#fdca26"
             ],
             [
              1,
              "#f0f921"
             ]
            ],
            "type": "heatmap"
           }
          ],
          "heatmapgl": [
           {
            "colorbar": {
             "outlinewidth": 0,
             "ticks": ""
            },
            "colorscale": [
             [
              0,
              "#0d0887"
             ],
             [
              0.1111111111111111,
              "#46039f"
             ],
             [
              0.2222222222222222,
              "#7201a8"
             ],
             [
              0.3333333333333333,
              "#9c179e"
             ],
             [
              0.4444444444444444,
              "#bd3786"
             ],
             [
              0.5555555555555556,
              "#d8576b"
             ],
             [
              0.6666666666666666,
              "#ed7953"
             ],
             [
              0.7777777777777778,
              "#fb9f3a"
             ],
             [
              0.8888888888888888,
              "#fdca26"
             ],
             [
              1,
              "#f0f921"
             ]
            ],
            "type": "heatmapgl"
           }
          ],
          "histogram": [
           {
            "marker": {
             "colorbar": {
              "outlinewidth": 0,
              "ticks": ""
             }
            },
            "type": "histogram"
           }
          ],
          "histogram2d": [
           {
            "colorbar": {
             "outlinewidth": 0,
             "ticks": ""
            },
            "colorscale": [
             [
              0,
              "#0d0887"
             ],
             [
              0.1111111111111111,
              "#46039f"
             ],
             [
              0.2222222222222222,
              "#7201a8"
             ],
             [
              0.3333333333333333,
              "#9c179e"
             ],
             [
              0.4444444444444444,
              "#bd3786"
             ],
             [
              0.5555555555555556,
              "#d8576b"
             ],
             [
              0.6666666666666666,
              "#ed7953"
             ],
             [
              0.7777777777777778,
              "#fb9f3a"
             ],
             [
              0.8888888888888888,
              "#fdca26"
             ],
             [
              1,
              "#f0f921"
             ]
            ],
            "type": "histogram2d"
           }
          ],
          "histogram2dcontour": [
           {
            "colorbar": {
             "outlinewidth": 0,
             "ticks": ""
            },
            "colorscale": [
             [
              0,
              "#0d0887"
             ],
             [
              0.1111111111111111,
              "#46039f"
             ],
             [
              0.2222222222222222,
              "#7201a8"
             ],
             [
              0.3333333333333333,
              "#9c179e"
             ],
             [
              0.4444444444444444,
              "#bd3786"
             ],
             [
              0.5555555555555556,
              "#d8576b"
             ],
             [
              0.6666666666666666,
              "#ed7953"
             ],
             [
              0.7777777777777778,
              "#fb9f3a"
             ],
             [
              0.8888888888888888,
              "#fdca26"
             ],
             [
              1,
              "#f0f921"
             ]
            ],
            "type": "histogram2dcontour"
           }
          ],
          "mesh3d": [
           {
            "colorbar": {
             "outlinewidth": 0,
             "ticks": ""
            },
            "type": "mesh3d"
           }
          ],
          "parcoords": [
           {
            "line": {
             "colorbar": {
              "outlinewidth": 0,
              "ticks": ""
             }
            },
            "type": "parcoords"
           }
          ],
          "pie": [
           {
            "automargin": true,
            "type": "pie"
           }
          ],
          "scatter": [
           {
            "marker": {
             "colorbar": {
              "outlinewidth": 0,
              "ticks": ""
             }
            },
            "type": "scatter"
           }
          ],
          "scatter3d": [
           {
            "line": {
             "colorbar": {
              "outlinewidth": 0,
              "ticks": ""
             }
            },
            "marker": {
             "colorbar": {
              "outlinewidth": 0,
              "ticks": ""
             }
            },
            "type": "scatter3d"
           }
          ],
          "scattercarpet": [
           {
            "marker": {
             "colorbar": {
              "outlinewidth": 0,
              "ticks": ""
             }
            },
            "type": "scattercarpet"
           }
          ],
          "scattergeo": [
           {
            "marker": {
             "colorbar": {
              "outlinewidth": 0,
              "ticks": ""
             }
            },
            "type": "scattergeo"
           }
          ],
          "scattergl": [
           {
            "marker": {
             "colorbar": {
              "outlinewidth": 0,
              "ticks": ""
             }
            },
            "type": "scattergl"
           }
          ],
          "scattermapbox": [
           {
            "marker": {
             "colorbar": {
              "outlinewidth": 0,
              "ticks": ""
             }
            },
            "type": "scattermapbox"
           }
          ],
          "scatterpolar": [
           {
            "marker": {
             "colorbar": {
              "outlinewidth": 0,
              "ticks": ""
             }
            },
            "type": "scatterpolar"
           }
          ],
          "scatterpolargl": [
           {
            "marker": {
             "colorbar": {
              "outlinewidth": 0,
              "ticks": ""
             }
            },
            "type": "scatterpolargl"
           }
          ],
          "scatterternary": [
           {
            "marker": {
             "colorbar": {
              "outlinewidth": 0,
              "ticks": ""
             }
            },
            "type": "scatterternary"
           }
          ],
          "surface": [
           {
            "colorbar": {
             "outlinewidth": 0,
             "ticks": ""
            },
            "colorscale": [
             [
              0,
              "#0d0887"
             ],
             [
              0.1111111111111111,
              "#46039f"
             ],
             [
              0.2222222222222222,
              "#7201a8"
             ],
             [
              0.3333333333333333,
              "#9c179e"
             ],
             [
              0.4444444444444444,
              "#bd3786"
             ],
             [
              0.5555555555555556,
              "#d8576b"
             ],
             [
              0.6666666666666666,
              "#ed7953"
             ],
             [
              0.7777777777777778,
              "#fb9f3a"
             ],
             [
              0.8888888888888888,
              "#fdca26"
             ],
             [
              1,
              "#f0f921"
             ]
            ],
            "type": "surface"
           }
          ],
          "table": [
           {
            "cells": {
             "fill": {
              "color": "#EBF0F8"
             },
             "line": {
              "color": "white"
             }
            },
            "header": {
             "fill": {
              "color": "#C8D4E3"
             },
             "line": {
              "color": "white"
             }
            },
            "type": "table"
           }
          ]
         },
         "layout": {
          "annotationdefaults": {
           "arrowcolor": "#2a3f5f",
           "arrowhead": 0,
           "arrowwidth": 1
          },
          "coloraxis": {
           "colorbar": {
            "outlinewidth": 0,
            "ticks": ""
           }
          },
          "colorscale": {
           "diverging": [
            [
             0,
             "#8e0152"
            ],
            [
             0.1,
             "#c51b7d"
            ],
            [
             0.2,
             "#de77ae"
            ],
            [
             0.3,
             "#f1b6da"
            ],
            [
             0.4,
             "#fde0ef"
            ],
            [
             0.5,
             "#f7f7f7"
            ],
            [
             0.6,
             "#e6f5d0"
            ],
            [
             0.7,
             "#b8e186"
            ],
            [
             0.8,
             "#7fbc41"
            ],
            [
             0.9,
             "#4d9221"
            ],
            [
             1,
             "#276419"
            ]
           ],
           "sequential": [
            [
             0,
             "#0d0887"
            ],
            [
             0.1111111111111111,
             "#46039f"
            ],
            [
             0.2222222222222222,
             "#7201a8"
            ],
            [
             0.3333333333333333,
             "#9c179e"
            ],
            [
             0.4444444444444444,
             "#bd3786"
            ],
            [
             0.5555555555555556,
             "#d8576b"
            ],
            [
             0.6666666666666666,
             "#ed7953"
            ],
            [
             0.7777777777777778,
             "#fb9f3a"
            ],
            [
             0.8888888888888888,
             "#fdca26"
            ],
            [
             1,
             "#f0f921"
            ]
           ],
           "sequentialminus": [
            [
             0,
             "#0d0887"
            ],
            [
             0.1111111111111111,
             "#46039f"
            ],
            [
             0.2222222222222222,
             "#7201a8"
            ],
            [
             0.3333333333333333,
             "#9c179e"
            ],
            [
             0.4444444444444444,
             "#bd3786"
            ],
            [
             0.5555555555555556,
             "#d8576b"
            ],
            [
             0.6666666666666666,
             "#ed7953"
            ],
            [
             0.7777777777777778,
             "#fb9f3a"
            ],
            [
             0.8888888888888888,
             "#fdca26"
            ],
            [
             1,
             "#f0f921"
            ]
           ]
          },
          "colorway": [
           "#636efa",
           "#EF553B",
           "#00cc96",
           "#ab63fa",
           "#FFA15A",
           "#19d3f3",
           "#FF6692",
           "#B6E880",
           "#FF97FF",
           "#FECB52"
          ],
          "font": {
           "color": "#2a3f5f"
          },
          "geo": {
           "bgcolor": "white",
           "lakecolor": "white",
           "landcolor": "#E5ECF6",
           "showlakes": true,
           "showland": true,
           "subunitcolor": "white"
          },
          "hoverlabel": {
           "align": "left"
          },
          "hovermode": "closest",
          "mapbox": {
           "style": "light"
          },
          "paper_bgcolor": "white",
          "plot_bgcolor": "#E5ECF6",
          "polar": {
           "angularaxis": {
            "gridcolor": "white",
            "linecolor": "white",
            "ticks": ""
           },
           "bgcolor": "#E5ECF6",
           "radialaxis": {
            "gridcolor": "white",
            "linecolor": "white",
            "ticks": ""
           }
          },
          "scene": {
           "xaxis": {
            "backgroundcolor": "#E5ECF6",
            "gridcolor": "white",
            "gridwidth": 2,
            "linecolor": "white",
            "showbackground": true,
            "ticks": "",
            "zerolinecolor": "white"
           },
           "yaxis": {
            "backgroundcolor": "#E5ECF6",
            "gridcolor": "white",
            "gridwidth": 2,
            "linecolor": "white",
            "showbackground": true,
            "ticks": "",
            "zerolinecolor": "white"
           },
           "zaxis": {
            "backgroundcolor": "#E5ECF6",
            "gridcolor": "white",
            "gridwidth": 2,
            "linecolor": "white",
            "showbackground": true,
            "ticks": "",
            "zerolinecolor": "white"
           }
          },
          "shapedefaults": {
           "line": {
            "color": "#2a3f5f"
           }
          },
          "ternary": {
           "aaxis": {
            "gridcolor": "white",
            "linecolor": "white",
            "ticks": ""
           },
           "baxis": {
            "gridcolor": "white",
            "linecolor": "white",
            "ticks": ""
           },
           "bgcolor": "#E5ECF6",
           "caxis": {
            "gridcolor": "white",
            "linecolor": "white",
            "ticks": ""
           }
          },
          "title": {
           "x": 0.05
          },
          "xaxis": {
           "automargin": true,
           "gridcolor": "white",
           "linecolor": "white",
           "ticks": "",
           "title": {
            "standoff": 15
           },
           "zerolinecolor": "white",
           "zerolinewidth": 2
          },
          "yaxis": {
           "automargin": true,
           "gridcolor": "white",
           "linecolor": "white",
           "ticks": "",
           "title": {
            "standoff": 15
           },
           "zerolinecolor": "white",
           "zerolinewidth": 2
          }
         }
        }
       }
      },
      "text/html": [
       "<div>                            <div id=\"747f99b3-cd30-445c-8739-05e0a7b05d0e\" class=\"plotly-graph-div\" style=\"height:525px; width:100%;\"></div>            <script type=\"text/javascript\">                require([\"plotly\"], function(Plotly) {                    window.PLOTLYENV=window.PLOTLYENV || {};                                    if (document.getElementById(\"747f99b3-cd30-445c-8739-05e0a7b05d0e\")) {                    Plotly.newPlot(                        \"747f99b3-cd30-445c-8739-05e0a7b05d0e\",                        [{\"locationmode\": \"USA-states\", \"locations\": [\"TX\", \"CA\", \"Missing\", \"FL\", \"AZ\", \"GA\", \"NV\", \"CO\", \"NY\", \"WA\", \"NC\", \"IL\", \"OH\", \"TN\", \"LA\", \"UT\", \"MI\", \"MA\", \"SC\", \"PA\", \"NJ\", \"VA\", \"MO\", \"NM\", \"OK\", \"OR\", \"WI\", \"MD\", \"IN\", \"AL\", \"MN\", \"KS\", \"AR\", \"IA\", \"ID\", \"KY\", \"NE\", \"CT\", \"MS\", \"DE\", \"ND\", \"NH\", \"RI\", \"MT\", \"AK\", \"SD\", \"ME\", \"WV\", \"HI\", \"WY\", \"VT\"], \"text\": [33.4, 18.55, 14.93, 6.29, 2.75, 2.37, 2.25, 2.09, 1.65, 1.6, 1.51, 1.04, 0.93, 0.81, 0.8, 0.6, 0.6, 0.59, 0.56, 0.5, 0.5, 0.47, 0.45, 0.44, 0.43, 0.4, 0.4, 0.38, 0.36, 0.34, 0.33, 0.26, 0.22, 0.21, 0.13, 0.13, 0.12, 0.11, 0.09, 0.06, 0.06, 0.06, 0.05, 0.04, 0.04, 0.03, 0.03, 0.01, 0.01, 0.01, 0.01], \"type\": \"choropleth\", \"z\": [4706, 2613, 2104, 886, 388, 334, 317, 295, 233, 225, 213, 146, 131, 114, 113, 85, 84, 83, 79, 71, 70, 66, 64, 62, 60, 56, 56, 53, 51, 48, 47, 37, 31, 30, 19, 18, 17, 16, 12, 8, 9, 9, 7, 5, 5, 4, 4, 2, 2, 1, 1]}],                        {\"geo\": {\"lakecolor\": \"rgb(255, 255, 255)\", \"projection\": {\"type\": \"albers usa\"}, \"scope\": \"usa\", \"showlakes\": true}, \"template\": {\"data\": {\"bar\": [{\"error_x\": {\"color\": \"#2a3f5f\"}, \"error_y\": {\"color\": \"#2a3f5f\"}, \"marker\": {\"line\": {\"color\": \"#E5ECF6\", \"width\": 0.5}}, \"type\": \"bar\"}], \"barpolar\": [{\"marker\": {\"line\": {\"color\": \"#E5ECF6\", \"width\": 0.5}}, \"type\": \"barpolar\"}], \"carpet\": [{\"aaxis\": {\"endlinecolor\": \"#2a3f5f\", \"gridcolor\": \"white\", \"linecolor\": \"white\", \"minorgridcolor\": \"white\", \"startlinecolor\": \"#2a3f5f\"}, \"baxis\": {\"endlinecolor\": \"#2a3f5f\", \"gridcolor\": \"white\", \"linecolor\": \"white\", \"minorgridcolor\": \"white\", \"startlinecolor\": \"#2a3f5f\"}, \"type\": \"carpet\"}], \"choropleth\": [{\"colorbar\": {\"outlinewidth\": 0, \"ticks\": \"\"}, \"type\": \"choropleth\"}], \"contour\": [{\"colorbar\": {\"outlinewidth\": 0, \"ticks\": \"\"}, \"colorscale\": [[0.0, \"#0d0887\"], [0.1111111111111111, \"#46039f\"], [0.2222222222222222, \"#7201a8\"], [0.3333333333333333, \"#9c179e\"], [0.4444444444444444, \"#bd3786\"], [0.5555555555555556, \"#d8576b\"], [0.6666666666666666, \"#ed7953\"], [0.7777777777777778, \"#fb9f3a\"], [0.8888888888888888, \"#fdca26\"], [1.0, \"#f0f921\"]], \"type\": \"contour\"}], \"contourcarpet\": [{\"colorbar\": {\"outlinewidth\": 0, \"ticks\": \"\"}, \"type\": \"contourcarpet\"}], \"heatmap\": [{\"colorbar\": {\"outlinewidth\": 0, \"ticks\": \"\"}, \"colorscale\": [[0.0, \"#0d0887\"], [0.1111111111111111, \"#46039f\"], [0.2222222222222222, \"#7201a8\"], [0.3333333333333333, \"#9c179e\"], [0.4444444444444444, \"#bd3786\"], [0.5555555555555556, \"#d8576b\"], [0.6666666666666666, \"#ed7953\"], [0.7777777777777778, \"#fb9f3a\"], [0.8888888888888888, \"#fdca26\"], [1.0, \"#f0f921\"]], \"type\": \"heatmap\"}], \"heatmapgl\": [{\"colorbar\": {\"outlinewidth\": 0, \"ticks\": \"\"}, \"colorscale\": [[0.0, \"#0d0887\"], [0.1111111111111111, \"#46039f\"], [0.2222222222222222, \"#7201a8\"], [0.3333333333333333, \"#9c179e\"], [0.4444444444444444, \"#bd3786\"], [0.5555555555555556, \"#d8576b\"], [0.6666666666666666, \"#ed7953\"], [0.7777777777777778, \"#fb9f3a\"], [0.8888888888888888, \"#fdca26\"], [1.0, \"#f0f921\"]], \"type\": \"heatmapgl\"}], \"histogram\": [{\"marker\": {\"colorbar\": {\"outlinewidth\": 0, \"ticks\": \"\"}}, \"type\": \"histogram\"}], \"histogram2d\": [{\"colorbar\": {\"outlinewidth\": 0, \"ticks\": \"\"}, \"colorscale\": [[0.0, \"#0d0887\"], [0.1111111111111111, \"#46039f\"], [0.2222222222222222, \"#7201a8\"], [0.3333333333333333, \"#9c179e\"], [0.4444444444444444, \"#bd3786\"], [0.5555555555555556, \"#d8576b\"], [0.6666666666666666, \"#ed7953\"], [0.7777777777777778, \"#fb9f3a\"], [0.8888888888888888, \"#fdca26\"], [1.0, \"#f0f921\"]], \"type\": \"histogram2d\"}], \"histogram2dcontour\": [{\"colorbar\": {\"outlinewidth\": 0, \"ticks\": \"\"}, \"colorscale\": [[0.0, \"#0d0887\"], [0.1111111111111111, \"#46039f\"], [0.2222222222222222, \"#7201a8\"], [0.3333333333333333, \"#9c179e\"], [0.4444444444444444, \"#bd3786\"], [0.5555555555555556, \"#d8576b\"], [0.6666666666666666, \"#ed7953\"], [0.7777777777777778, \"#fb9f3a\"], [0.8888888888888888, \"#fdca26\"], [1.0, \"#f0f921\"]], \"type\": \"histogram2dcontour\"}], \"mesh3d\": [{\"colorbar\": {\"outlinewidth\": 0, \"ticks\": \"\"}, \"type\": \"mesh3d\"}], \"parcoords\": [{\"line\": {\"colorbar\": {\"outlinewidth\": 0, \"ticks\": \"\"}}, \"type\": \"parcoords\"}], \"pie\": [{\"automargin\": true, \"type\": \"pie\"}], \"scatter\": [{\"marker\": {\"colorbar\": {\"outlinewidth\": 0, \"ticks\": \"\"}}, \"type\": \"scatter\"}], \"scatter3d\": [{\"line\": {\"colorbar\": {\"outlinewidth\": 0, \"ticks\": \"\"}}, \"marker\": {\"colorbar\": {\"outlinewidth\": 0, \"ticks\": \"\"}}, \"type\": \"scatter3d\"}], \"scattercarpet\": [{\"marker\": {\"colorbar\": {\"outlinewidth\": 0, \"ticks\": \"\"}}, \"type\": \"scattercarpet\"}], \"scattergeo\": [{\"marker\": {\"colorbar\": {\"outlinewidth\": 0, \"ticks\": \"\"}}, \"type\": \"scattergeo\"}], \"scattergl\": [{\"marker\": {\"colorbar\": {\"outlinewidth\": 0, \"ticks\": \"\"}}, \"type\": \"scattergl\"}], \"scattermapbox\": [{\"marker\": {\"colorbar\": {\"outlinewidth\": 0, \"ticks\": \"\"}}, \"type\": \"scattermapbox\"}], \"scatterpolar\": [{\"marker\": {\"colorbar\": {\"outlinewidth\": 0, \"ticks\": \"\"}}, \"type\": \"scatterpolar\"}], \"scatterpolargl\": [{\"marker\": {\"colorbar\": {\"outlinewidth\": 0, \"ticks\": \"\"}}, \"type\": \"scatterpolargl\"}], \"scatterternary\": [{\"marker\": {\"colorbar\": {\"outlinewidth\": 0, \"ticks\": \"\"}}, \"type\": \"scatterternary\"}], \"surface\": [{\"colorbar\": {\"outlinewidth\": 0, \"ticks\": \"\"}, \"colorscale\": [[0.0, \"#0d0887\"], [0.1111111111111111, \"#46039f\"], [0.2222222222222222, \"#7201a8\"], [0.3333333333333333, \"#9c179e\"], [0.4444444444444444, \"#bd3786\"], [0.5555555555555556, \"#d8576b\"], [0.6666666666666666, \"#ed7953\"], [0.7777777777777778, \"#fb9f3a\"], [0.8888888888888888, \"#fdca26\"], [1.0, \"#f0f921\"]], \"type\": \"surface\"}], \"table\": [{\"cells\": {\"fill\": {\"color\": \"#EBF0F8\"}, \"line\": {\"color\": \"white\"}}, \"header\": {\"fill\": {\"color\": \"#C8D4E3\"}, \"line\": {\"color\": \"white\"}}, \"type\": \"table\"}]}, \"layout\": {\"annotationdefaults\": {\"arrowcolor\": \"#2a3f5f\", \"arrowhead\": 0, \"arrowwidth\": 1}, \"coloraxis\": {\"colorbar\": {\"outlinewidth\": 0, \"ticks\": \"\"}}, \"colorscale\": {\"diverging\": [[0, \"#8e0152\"], [0.1, \"#c51b7d\"], [0.2, \"#de77ae\"], [0.3, \"#f1b6da\"], [0.4, \"#fde0ef\"], [0.5, \"#f7f7f7\"], [0.6, \"#e6f5d0\"], [0.7, \"#b8e186\"], [0.8, \"#7fbc41\"], [0.9, \"#4d9221\"], [1, \"#276419\"]], \"sequential\": [[0.0, \"#0d0887\"], [0.1111111111111111, \"#46039f\"], [0.2222222222222222, \"#7201a8\"], [0.3333333333333333, \"#9c179e\"], [0.4444444444444444, \"#bd3786\"], [0.5555555555555556, \"#d8576b\"], [0.6666666666666666, \"#ed7953\"], [0.7777777777777778, \"#fb9f3a\"], [0.8888888888888888, \"#fdca26\"], [1.0, \"#f0f921\"]], \"sequentialminus\": [[0.0, \"#0d0887\"], [0.1111111111111111, \"#46039f\"], [0.2222222222222222, \"#7201a8\"], [0.3333333333333333, \"#9c179e\"], [0.4444444444444444, \"#bd3786\"], [0.5555555555555556, \"#d8576b\"], [0.6666666666666666, \"#ed7953\"], [0.7777777777777778, \"#fb9f3a\"], [0.8888888888888888, \"#fdca26\"], [1.0, \"#f0f921\"]]}, \"colorway\": [\"#636efa\", \"#EF553B\", \"#00cc96\", \"#ab63fa\", \"#FFA15A\", \"#19d3f3\", \"#FF6692\", \"#B6E880\", \"#FF97FF\", \"#FECB52\"], \"font\": {\"color\": \"#2a3f5f\"}, \"geo\": {\"bgcolor\": \"white\", \"lakecolor\": \"white\", \"landcolor\": \"#E5ECF6\", \"showlakes\": true, \"showland\": true, \"subunitcolor\": \"white\"}, \"hoverlabel\": {\"align\": \"left\"}, \"hovermode\": \"closest\", \"mapbox\": {\"style\": \"light\"}, \"paper_bgcolor\": \"white\", \"plot_bgcolor\": \"#E5ECF6\", \"polar\": {\"angularaxis\": {\"gridcolor\": \"white\", \"linecolor\": \"white\", \"ticks\": \"\"}, \"bgcolor\": \"#E5ECF6\", \"radialaxis\": {\"gridcolor\": \"white\", \"linecolor\": \"white\", \"ticks\": \"\"}}, \"scene\": {\"xaxis\": {\"backgroundcolor\": \"#E5ECF6\", \"gridcolor\": \"white\", \"gridwidth\": 2, \"linecolor\": \"white\", \"showbackground\": true, \"ticks\": \"\", \"zerolinecolor\": \"white\"}, \"yaxis\": {\"backgroundcolor\": \"#E5ECF6\", \"gridcolor\": \"white\", \"gridwidth\": 2, \"linecolor\": \"white\", \"showbackground\": true, \"ticks\": \"\", \"zerolinecolor\": \"white\"}, \"zaxis\": {\"backgroundcolor\": \"#E5ECF6\", \"gridcolor\": \"white\", \"gridwidth\": 2, \"linecolor\": \"white\", \"showbackground\": true, \"ticks\": \"\", \"zerolinecolor\": \"white\"}}, \"shapedefaults\": {\"line\": {\"color\": \"#2a3f5f\"}}, \"ternary\": {\"aaxis\": {\"gridcolor\": \"white\", \"linecolor\": \"white\", \"ticks\": \"\"}, \"baxis\": {\"gridcolor\": \"white\", \"linecolor\": \"white\", \"ticks\": \"\"}, \"bgcolor\": \"#E5ECF6\", \"caxis\": {\"gridcolor\": \"white\", \"linecolor\": \"white\", \"ticks\": \"\"}}, \"title\": {\"x\": 0.05}, \"xaxis\": {\"automargin\": true, \"gridcolor\": \"white\", \"linecolor\": \"white\", \"ticks\": \"\", \"title\": {\"standoff\": 15}, \"zerolinecolor\": \"white\", \"zerolinewidth\": 2}, \"yaxis\": {\"automargin\": true, \"gridcolor\": \"white\", \"linecolor\": \"white\", \"ticks\": \"\", \"title\": {\"standoff\": 15}, \"zerolinecolor\": \"white\", \"zerolinewidth\": 2}}}},                        {\"responsive\": true}                    ).then(function(){\n",
       "                            \n",
       "var gd = document.getElementById('747f99b3-cd30-445c-8739-05e0a7b05d0e');\n",
       "var x = new MutationObserver(function (mutations, observer) {{\n",
       "        var display = window.getComputedStyle(gd).display;\n",
       "        if (!display || display === 'none') {{\n",
       "            console.log([gd, 'removed!']);\n",
       "            Plotly.purge(gd);\n",
       "            observer.disconnect();\n",
       "        }}\n",
       "}});\n",
       "\n",
       "// Listen for the removal of the full notebook cells\n",
       "var notebookContainer = gd.closest('#notebook-container');\n",
       "if (notebookContainer) {{\n",
       "    x.observe(notebookContainer, {childList: true});\n",
       "}}\n",
       "\n",
       "// Listen for the clearing of the current output cell\n",
       "var outputEl = gd.closest('.output');\n",
       "if (outputEl) {{\n",
       "    x.observe(outputEl, {childList: true});\n",
       "}}\n",
       "\n",
       "                        })                };                });            </script>        </div>"
      ]
     },
     "metadata": {},
     "output_type": "display_data"
    }
   ],
   "source": [
    "fig = go.Figure(go.Choropleth(\n",
    "    locations=pivot_norm_state['state_code'],\n",
    "    z=pivot_norm_state['count'],\n",
    "    locationmode='USA-states',\n",
    "    #dragmode= False,\n",
    "    text=round(pivot_norm_state['count']*100/sum(pivot_norm_state['count']),2),\n",
    "                          ))\n",
    "\n",
    "fig.update_layout(\n",
    "    geo = dict(\n",
    "        scope='usa',\n",
    "        projection=go.layout.geo.Projection(type = 'albers usa'),\n",
    "        showlakes=True, # lakes\n",
    "        lakecolor='rgb(255, 255, 255)'),\n",
    ")  "
   ]
  },
  {
   "cell_type": "markdown",
   "metadata": {
    "ExecuteTime": {
     "end_time": "2020-10-21T00:33:44.813832Z",
     "start_time": "2020-10-21T00:33:44.811816Z"
    }
   },
   "source": [
    "### State Distribution: Opportunities"
   ]
  },
  {
   "cell_type": "code",
   "execution_count": 231,
   "metadata": {
    "ExecuteTime": {
     "end_time": "2020-10-22T09:40:28.288779Z",
     "start_time": "2020-10-22T09:40:28.275689Z"
    }
   },
   "outputs": [
    {
     "data": {
      "application/vnd.plotly.v1+json": {
       "config": {
        "plotlyServerURL": "https://plot.ly"
       },
       "data": [
        {
         "locationmode": "USA-states",
         "locations": [
          "TX",
          "CA",
          "Missing",
          "FL",
          "GA",
          "CO",
          "AZ",
          "NV",
          "NC",
          "WA",
          "IL",
          "NY",
          "LA",
          "SC",
          "UT",
          "WI",
          "NJ",
          "OH",
          "MI",
          "TN",
          "MA",
          "NM",
          "MO",
          "OK",
          "KY",
          "OR",
          "IN",
          "MN",
          "VA",
          "AL",
          "MD",
          "PA",
          "IA",
          "KS",
          "RI",
          "ND",
          "NE",
          "CT",
          "MT",
          "MS",
          "AR"
         ],
         "text": [
          33.53,
          22.43,
          16.47,
          5.13,
          2.73,
          2.32,
          2.24,
          1.9,
          1.74,
          1.32,
          0.99,
          0.75,
          0.75,
          0.58,
          0.5,
          0.5,
          0.5,
          0.5,
          0.41,
          0.41,
          0.41,
          0.41,
          0.33,
          0.33,
          0.25,
          0.25,
          0.25,
          0.25,
          0.25,
          0.25,
          0.17,
          0.17,
          0.17,
          0.17,
          0.17,
          0.08,
          0.08,
          0.08,
          0.08,
          0.08,
          0.08
         ],
         "type": "choropleth",
         "z": [
          405,
          271,
          199,
          62,
          33,
          28,
          27,
          23,
          21,
          16,
          12,
          9,
          9,
          7,
          6,
          6,
          6,
          6,
          5,
          5,
          5,
          5,
          4,
          4,
          3,
          3,
          3,
          3,
          3,
          3,
          2,
          2,
          2,
          2,
          2,
          1,
          1,
          1,
          1,
          1,
          1
         ]
        }
       ],
       "layout": {
        "geo": {
         "lakecolor": "rgb(255, 255, 255)",
         "projection": {
          "type": "albers usa"
         },
         "scope": "usa",
         "showlakes": true
        },
        "template": {
         "data": {
          "bar": [
           {
            "error_x": {
             "color": "#2a3f5f"
            },
            "error_y": {
             "color": "#2a3f5f"
            },
            "marker": {
             "line": {
              "color": "#E5ECF6",
              "width": 0.5
             }
            },
            "type": "bar"
           }
          ],
          "barpolar": [
           {
            "marker": {
             "line": {
              "color": "#E5ECF6",
              "width": 0.5
             }
            },
            "type": "barpolar"
           }
          ],
          "carpet": [
           {
            "aaxis": {
             "endlinecolor": "#2a3f5f",
             "gridcolor": "white",
             "linecolor": "white",
             "minorgridcolor": "white",
             "startlinecolor": "#2a3f5f"
            },
            "baxis": {
             "endlinecolor": "#2a3f5f",
             "gridcolor": "white",
             "linecolor": "white",
             "minorgridcolor": "white",
             "startlinecolor": "#2a3f5f"
            },
            "type": "carpet"
           }
          ],
          "choropleth": [
           {
            "colorbar": {
             "outlinewidth": 0,
             "ticks": ""
            },
            "type": "choropleth"
           }
          ],
          "contour": [
           {
            "colorbar": {
             "outlinewidth": 0,
             "ticks": ""
            },
            "colorscale": [
             [
              0,
              "#0d0887"
             ],
             [
              0.1111111111111111,
              "#46039f"
             ],
             [
              0.2222222222222222,
              "#7201a8"
             ],
             [
              0.3333333333333333,
              "#9c179e"
             ],
             [
              0.4444444444444444,
              "#bd3786"
             ],
             [
              0.5555555555555556,
              "#d8576b"
             ],
             [
              0.6666666666666666,
              "#ed7953"
             ],
             [
              0.7777777777777778,
              "#fb9f3a"
             ],
             [
              0.8888888888888888,
              "#fdca26"
             ],
             [
              1,
              "#f0f921"
             ]
            ],
            "type": "contour"
           }
          ],
          "contourcarpet": [
           {
            "colorbar": {
             "outlinewidth": 0,
             "ticks": ""
            },
            "type": "contourcarpet"
           }
          ],
          "heatmap": [
           {
            "colorbar": {
             "outlinewidth": 0,
             "ticks": ""
            },
            "colorscale": [
             [
              0,
              "#0d0887"
             ],
             [
              0.1111111111111111,
              "#46039f"
             ],
             [
              0.2222222222222222,
              "#7201a8"
             ],
             [
              0.3333333333333333,
              "#9c179e"
             ],
             [
              0.4444444444444444,
              "#bd3786"
             ],
             [
              0.5555555555555556,
              "#d8576b"
             ],
             [
              0.6666666666666666,
              "#ed7953"
             ],
             [
              0.7777777777777778,
              "#fb9f3a"
             ],
             [
              0.8888888888888888,
              "#fdca26"
             ],
             [
              1,
              "#f0f921"
             ]
            ],
            "type": "heatmap"
           }
          ],
          "heatmapgl": [
           {
            "colorbar": {
             "outlinewidth": 0,
             "ticks": ""
            },
            "colorscale": [
             [
              0,
              "#0d0887"
             ],
             [
              0.1111111111111111,
              "#46039f"
             ],
             [
              0.2222222222222222,
              "#7201a8"
             ],
             [
              0.3333333333333333,
              "#9c179e"
             ],
             [
              0.4444444444444444,
              "#bd3786"
             ],
             [
              0.5555555555555556,
              "#d8576b"
             ],
             [
              0.6666666666666666,
              "#ed7953"
             ],
             [
              0.7777777777777778,
              "#fb9f3a"
             ],
             [
              0.8888888888888888,
              "#fdca26"
             ],
             [
              1,
              "#f0f921"
             ]
            ],
            "type": "heatmapgl"
           }
          ],
          "histogram": [
           {
            "marker": {
             "colorbar": {
              "outlinewidth": 0,
              "ticks": ""
             }
            },
            "type": "histogram"
           }
          ],
          "histogram2d": [
           {
            "colorbar": {
             "outlinewidth": 0,
             "ticks": ""
            },
            "colorscale": [
             [
              0,
              "#0d0887"
             ],
             [
              0.1111111111111111,
              "#46039f"
             ],
             [
              0.2222222222222222,
              "#7201a8"
             ],
             [
              0.3333333333333333,
              "#9c179e"
             ],
             [
              0.4444444444444444,
              "#bd3786"
             ],
             [
              0.5555555555555556,
              "#d8576b"
             ],
             [
              0.6666666666666666,
              "#ed7953"
             ],
             [
              0.7777777777777778,
              "#fb9f3a"
             ],
             [
              0.8888888888888888,
              "#fdca26"
             ],
             [
              1,
              "#f0f921"
             ]
            ],
            "type": "histogram2d"
           }
          ],
          "histogram2dcontour": [
           {
            "colorbar": {
             "outlinewidth": 0,
             "ticks": ""
            },
            "colorscale": [
             [
              0,
              "#0d0887"
             ],
             [
              0.1111111111111111,
              "#46039f"
             ],
             [
              0.2222222222222222,
              "#7201a8"
             ],
             [
              0.3333333333333333,
              "#9c179e"
             ],
             [
              0.4444444444444444,
              "#bd3786"
             ],
             [
              0.5555555555555556,
              "#d8576b"
             ],
             [
              0.6666666666666666,
              "#ed7953"
             ],
             [
              0.7777777777777778,
              "#fb9f3a"
             ],
             [
              0.8888888888888888,
              "#fdca26"
             ],
             [
              1,
              "#f0f921"
             ]
            ],
            "type": "histogram2dcontour"
           }
          ],
          "mesh3d": [
           {
            "colorbar": {
             "outlinewidth": 0,
             "ticks": ""
            },
            "type": "mesh3d"
           }
          ],
          "parcoords": [
           {
            "line": {
             "colorbar": {
              "outlinewidth": 0,
              "ticks": ""
             }
            },
            "type": "parcoords"
           }
          ],
          "pie": [
           {
            "automargin": true,
            "type": "pie"
           }
          ],
          "scatter": [
           {
            "marker": {
             "colorbar": {
              "outlinewidth": 0,
              "ticks": ""
             }
            },
            "type": "scatter"
           }
          ],
          "scatter3d": [
           {
            "line": {
             "colorbar": {
              "outlinewidth": 0,
              "ticks": ""
             }
            },
            "marker": {
             "colorbar": {
              "outlinewidth": 0,
              "ticks": ""
             }
            },
            "type": "scatter3d"
           }
          ],
          "scattercarpet": [
           {
            "marker": {
             "colorbar": {
              "outlinewidth": 0,
              "ticks": ""
             }
            },
            "type": "scattercarpet"
           }
          ],
          "scattergeo": [
           {
            "marker": {
             "colorbar": {
              "outlinewidth": 0,
              "ticks": ""
             }
            },
            "type": "scattergeo"
           }
          ],
          "scattergl": [
           {
            "marker": {
             "colorbar": {
              "outlinewidth": 0,
              "ticks": ""
             }
            },
            "type": "scattergl"
           }
          ],
          "scattermapbox": [
           {
            "marker": {
             "colorbar": {
              "outlinewidth": 0,
              "ticks": ""
             }
            },
            "type": "scattermapbox"
           }
          ],
          "scatterpolar": [
           {
            "marker": {
             "colorbar": {
              "outlinewidth": 0,
              "ticks": ""
             }
            },
            "type": "scatterpolar"
           }
          ],
          "scatterpolargl": [
           {
            "marker": {
             "colorbar": {
              "outlinewidth": 0,
              "ticks": ""
             }
            },
            "type": "scatterpolargl"
           }
          ],
          "scatterternary": [
           {
            "marker": {
             "colorbar": {
              "outlinewidth": 0,
              "ticks": ""
             }
            },
            "type": "scatterternary"
           }
          ],
          "surface": [
           {
            "colorbar": {
             "outlinewidth": 0,
             "ticks": ""
            },
            "colorscale": [
             [
              0,
              "#0d0887"
             ],
             [
              0.1111111111111111,
              "#46039f"
             ],
             [
              0.2222222222222222,
              "#7201a8"
             ],
             [
              0.3333333333333333,
              "#9c179e"
             ],
             [
              0.4444444444444444,
              "#bd3786"
             ],
             [
              0.5555555555555556,
              "#d8576b"
             ],
             [
              0.6666666666666666,
              "#ed7953"
             ],
             [
              0.7777777777777778,
              "#fb9f3a"
             ],
             [
              0.8888888888888888,
              "#fdca26"
             ],
             [
              1,
              "#f0f921"
             ]
            ],
            "type": "surface"
           }
          ],
          "table": [
           {
            "cells": {
             "fill": {
              "color": "#EBF0F8"
             },
             "line": {
              "color": "white"
             }
            },
            "header": {
             "fill": {
              "color": "#C8D4E3"
             },
             "line": {
              "color": "white"
             }
            },
            "type": "table"
           }
          ]
         },
         "layout": {
          "annotationdefaults": {
           "arrowcolor": "#2a3f5f",
           "arrowhead": 0,
           "arrowwidth": 1
          },
          "coloraxis": {
           "colorbar": {
            "outlinewidth": 0,
            "ticks": ""
           }
          },
          "colorscale": {
           "diverging": [
            [
             0,
             "#8e0152"
            ],
            [
             0.1,
             "#c51b7d"
            ],
            [
             0.2,
             "#de77ae"
            ],
            [
             0.3,
             "#f1b6da"
            ],
            [
             0.4,
             "#fde0ef"
            ],
            [
             0.5,
             "#f7f7f7"
            ],
            [
             0.6,
             "#e6f5d0"
            ],
            [
             0.7,
             "#b8e186"
            ],
            [
             0.8,
             "#7fbc41"
            ],
            [
             0.9,
             "#4d9221"
            ],
            [
             1,
             "#276419"
            ]
           ],
           "sequential": [
            [
             0,
             "#0d0887"
            ],
            [
             0.1111111111111111,
             "#46039f"
            ],
            [
             0.2222222222222222,
             "#7201a8"
            ],
            [
             0.3333333333333333,
             "#9c179e"
            ],
            [
             0.4444444444444444,
             "#bd3786"
            ],
            [
             0.5555555555555556,
             "#d8576b"
            ],
            [
             0.6666666666666666,
             "#ed7953"
            ],
            [
             0.7777777777777778,
             "#fb9f3a"
            ],
            [
             0.8888888888888888,
             "#fdca26"
            ],
            [
             1,
             "#f0f921"
            ]
           ],
           "sequentialminus": [
            [
             0,
             "#0d0887"
            ],
            [
             0.1111111111111111,
             "#46039f"
            ],
            [
             0.2222222222222222,
             "#7201a8"
            ],
            [
             0.3333333333333333,
             "#9c179e"
            ],
            [
             0.4444444444444444,
             "#bd3786"
            ],
            [
             0.5555555555555556,
             "#d8576b"
            ],
            [
             0.6666666666666666,
             "#ed7953"
            ],
            [
             0.7777777777777778,
             "#fb9f3a"
            ],
            [
             0.8888888888888888,
             "#fdca26"
            ],
            [
             1,
             "#f0f921"
            ]
           ]
          },
          "colorway": [
           "#636efa",
           "#EF553B",
           "#00cc96",
           "#ab63fa",
           "#FFA15A",
           "#19d3f3",
           "#FF6692",
           "#B6E880",
           "#FF97FF",
           "#FECB52"
          ],
          "font": {
           "color": "#2a3f5f"
          },
          "geo": {
           "bgcolor": "white",
           "lakecolor": "white",
           "landcolor": "#E5ECF6",
           "showlakes": true,
           "showland": true,
           "subunitcolor": "white"
          },
          "hoverlabel": {
           "align": "left"
          },
          "hovermode": "closest",
          "mapbox": {
           "style": "light"
          },
          "paper_bgcolor": "white",
          "plot_bgcolor": "#E5ECF6",
          "polar": {
           "angularaxis": {
            "gridcolor": "white",
            "linecolor": "white",
            "ticks": ""
           },
           "bgcolor": "#E5ECF6",
           "radialaxis": {
            "gridcolor": "white",
            "linecolor": "white",
            "ticks": ""
           }
          },
          "scene": {
           "xaxis": {
            "backgroundcolor": "#E5ECF6",
            "gridcolor": "white",
            "gridwidth": 2,
            "linecolor": "white",
            "showbackground": true,
            "ticks": "",
            "zerolinecolor": "white"
           },
           "yaxis": {
            "backgroundcolor": "#E5ECF6",
            "gridcolor": "white",
            "gridwidth": 2,
            "linecolor": "white",
            "showbackground": true,
            "ticks": "",
            "zerolinecolor": "white"
           },
           "zaxis": {
            "backgroundcolor": "#E5ECF6",
            "gridcolor": "white",
            "gridwidth": 2,
            "linecolor": "white",
            "showbackground": true,
            "ticks": "",
            "zerolinecolor": "white"
           }
          },
          "shapedefaults": {
           "line": {
            "color": "#2a3f5f"
           }
          },
          "ternary": {
           "aaxis": {
            "gridcolor": "white",
            "linecolor": "white",
            "ticks": ""
           },
           "baxis": {
            "gridcolor": "white",
            "linecolor": "white",
            "ticks": ""
           },
           "bgcolor": "#E5ECF6",
           "caxis": {
            "gridcolor": "white",
            "linecolor": "white",
            "ticks": ""
           }
          },
          "title": {
           "x": 0.05
          },
          "xaxis": {
           "automargin": true,
           "gridcolor": "white",
           "linecolor": "white",
           "ticks": "",
           "title": {
            "standoff": 15
           },
           "zerolinecolor": "white",
           "zerolinewidth": 2
          },
          "yaxis": {
           "automargin": true,
           "gridcolor": "white",
           "linecolor": "white",
           "ticks": "",
           "title": {
            "standoff": 15
           },
           "zerolinecolor": "white",
           "zerolinewidth": 2
          }
         }
        }
       }
      },
      "text/html": [
       "<div>                            <div id=\"32aecef2-e0f9-4440-b239-4bf3a257f599\" class=\"plotly-graph-div\" style=\"height:525px; width:100%;\"></div>            <script type=\"text/javascript\">                require([\"plotly\"], function(Plotly) {                    window.PLOTLYENV=window.PLOTLYENV || {};                                    if (document.getElementById(\"32aecef2-e0f9-4440-b239-4bf3a257f599\")) {                    Plotly.newPlot(                        \"32aecef2-e0f9-4440-b239-4bf3a257f599\",                        [{\"locationmode\": \"USA-states\", \"locations\": [\"TX\", \"CA\", \"Missing\", \"FL\", \"GA\", \"CO\", \"AZ\", \"NV\", \"NC\", \"WA\", \"IL\", \"NY\", \"LA\", \"SC\", \"UT\", \"WI\", \"NJ\", \"OH\", \"MI\", \"TN\", \"MA\", \"NM\", \"MO\", \"OK\", \"KY\", \"OR\", \"IN\", \"MN\", \"VA\", \"AL\", \"MD\", \"PA\", \"IA\", \"KS\", \"RI\", \"ND\", \"NE\", \"CT\", \"MT\", \"MS\", \"AR\"], \"text\": [33.53, 22.43, 16.47, 5.13, 2.73, 2.32, 2.24, 1.9, 1.74, 1.32, 0.99, 0.75, 0.75, 0.58, 0.5, 0.5, 0.5, 0.5, 0.41, 0.41, 0.41, 0.41, 0.33, 0.33, 0.25, 0.25, 0.25, 0.25, 0.25, 0.25, 0.17, 0.17, 0.17, 0.17, 0.17, 0.08, 0.08, 0.08, 0.08, 0.08, 0.08], \"type\": \"choropleth\", \"z\": [405, 271, 199, 62, 33, 28, 27, 23, 21, 16, 12, 9, 9, 7, 6, 6, 6, 6, 5, 5, 5, 5, 4, 4, 3, 3, 3, 3, 3, 3, 2, 2, 2, 2, 2, 1, 1, 1, 1, 1, 1]}],                        {\"geo\": {\"lakecolor\": \"rgb(255, 255, 255)\", \"projection\": {\"type\": \"albers usa\"}, \"scope\": \"usa\", \"showlakes\": true}, \"template\": {\"data\": {\"bar\": [{\"error_x\": {\"color\": \"#2a3f5f\"}, \"error_y\": {\"color\": \"#2a3f5f\"}, \"marker\": {\"line\": {\"color\": \"#E5ECF6\", \"width\": 0.5}}, \"type\": \"bar\"}], \"barpolar\": [{\"marker\": {\"line\": {\"color\": \"#E5ECF6\", \"width\": 0.5}}, \"type\": \"barpolar\"}], \"carpet\": [{\"aaxis\": {\"endlinecolor\": \"#2a3f5f\", \"gridcolor\": \"white\", \"linecolor\": \"white\", \"minorgridcolor\": \"white\", \"startlinecolor\": \"#2a3f5f\"}, \"baxis\": {\"endlinecolor\": \"#2a3f5f\", \"gridcolor\": \"white\", \"linecolor\": \"white\", \"minorgridcolor\": \"white\", \"startlinecolor\": \"#2a3f5f\"}, \"type\": \"carpet\"}], \"choropleth\": [{\"colorbar\": {\"outlinewidth\": 0, \"ticks\": \"\"}, \"type\": \"choropleth\"}], \"contour\": [{\"colorbar\": {\"outlinewidth\": 0, \"ticks\": \"\"}, \"colorscale\": [[0.0, \"#0d0887\"], [0.1111111111111111, \"#46039f\"], [0.2222222222222222, \"#7201a8\"], [0.3333333333333333, \"#9c179e\"], [0.4444444444444444, \"#bd3786\"], [0.5555555555555556, \"#d8576b\"], [0.6666666666666666, \"#ed7953\"], [0.7777777777777778, \"#fb9f3a\"], [0.8888888888888888, \"#fdca26\"], [1.0, \"#f0f921\"]], \"type\": \"contour\"}], \"contourcarpet\": [{\"colorbar\": {\"outlinewidth\": 0, \"ticks\": \"\"}, \"type\": \"contourcarpet\"}], \"heatmap\": [{\"colorbar\": {\"outlinewidth\": 0, \"ticks\": \"\"}, \"colorscale\": [[0.0, \"#0d0887\"], [0.1111111111111111, \"#46039f\"], [0.2222222222222222, \"#7201a8\"], [0.3333333333333333, \"#9c179e\"], [0.4444444444444444, \"#bd3786\"], [0.5555555555555556, \"#d8576b\"], [0.6666666666666666, \"#ed7953\"], [0.7777777777777778, \"#fb9f3a\"], [0.8888888888888888, \"#fdca26\"], [1.0, \"#f0f921\"]], \"type\": \"heatmap\"}], \"heatmapgl\": [{\"colorbar\": {\"outlinewidth\": 0, \"ticks\": \"\"}, \"colorscale\": [[0.0, \"#0d0887\"], [0.1111111111111111, \"#46039f\"], [0.2222222222222222, \"#7201a8\"], [0.3333333333333333, \"#9c179e\"], [0.4444444444444444, \"#bd3786\"], [0.5555555555555556, \"#d8576b\"], [0.6666666666666666, \"#ed7953\"], [0.7777777777777778, \"#fb9f3a\"], [0.8888888888888888, \"#fdca26\"], [1.0, \"#f0f921\"]], \"type\": \"heatmapgl\"}], \"histogram\": [{\"marker\": {\"colorbar\": {\"outlinewidth\": 0, \"ticks\": \"\"}}, \"type\": \"histogram\"}], \"histogram2d\": [{\"colorbar\": {\"outlinewidth\": 0, \"ticks\": \"\"}, \"colorscale\": [[0.0, \"#0d0887\"], [0.1111111111111111, \"#46039f\"], [0.2222222222222222, \"#7201a8\"], [0.3333333333333333, \"#9c179e\"], [0.4444444444444444, \"#bd3786\"], [0.5555555555555556, \"#d8576b\"], [0.6666666666666666, \"#ed7953\"], [0.7777777777777778, \"#fb9f3a\"], [0.8888888888888888, \"#fdca26\"], [1.0, \"#f0f921\"]], \"type\": \"histogram2d\"}], \"histogram2dcontour\": [{\"colorbar\": {\"outlinewidth\": 0, \"ticks\": \"\"}, \"colorscale\": [[0.0, \"#0d0887\"], [0.1111111111111111, \"#46039f\"], [0.2222222222222222, \"#7201a8\"], [0.3333333333333333, \"#9c179e\"], [0.4444444444444444, \"#bd3786\"], [0.5555555555555556, \"#d8576b\"], [0.6666666666666666, \"#ed7953\"], [0.7777777777777778, \"#fb9f3a\"], [0.8888888888888888, \"#fdca26\"], [1.0, \"#f0f921\"]], \"type\": \"histogram2dcontour\"}], \"mesh3d\": [{\"colorbar\": {\"outlinewidth\": 0, \"ticks\": \"\"}, \"type\": \"mesh3d\"}], \"parcoords\": [{\"line\": {\"colorbar\": {\"outlinewidth\": 0, \"ticks\": \"\"}}, \"type\": \"parcoords\"}], \"pie\": [{\"automargin\": true, \"type\": \"pie\"}], \"scatter\": [{\"marker\": {\"colorbar\": {\"outlinewidth\": 0, \"ticks\": \"\"}}, \"type\": \"scatter\"}], \"scatter3d\": [{\"line\": {\"colorbar\": {\"outlinewidth\": 0, \"ticks\": \"\"}}, \"marker\": {\"colorbar\": {\"outlinewidth\": 0, \"ticks\": \"\"}}, \"type\": \"scatter3d\"}], \"scattercarpet\": [{\"marker\": {\"colorbar\": {\"outlinewidth\": 0, \"ticks\": \"\"}}, \"type\": \"scattercarpet\"}], \"scattergeo\": [{\"marker\": {\"colorbar\": {\"outlinewidth\": 0, \"ticks\": \"\"}}, \"type\": \"scattergeo\"}], \"scattergl\": [{\"marker\": {\"colorbar\": {\"outlinewidth\": 0, \"ticks\": \"\"}}, \"type\": \"scattergl\"}], \"scattermapbox\": [{\"marker\": {\"colorbar\": {\"outlinewidth\": 0, \"ticks\": \"\"}}, \"type\": \"scattermapbox\"}], \"scatterpolar\": [{\"marker\": {\"colorbar\": {\"outlinewidth\": 0, \"ticks\": \"\"}}, \"type\": \"scatterpolar\"}], \"scatterpolargl\": [{\"marker\": {\"colorbar\": {\"outlinewidth\": 0, \"ticks\": \"\"}}, \"type\": \"scatterpolargl\"}], \"scatterternary\": [{\"marker\": {\"colorbar\": {\"outlinewidth\": 0, \"ticks\": \"\"}}, \"type\": \"scatterternary\"}], \"surface\": [{\"colorbar\": {\"outlinewidth\": 0, \"ticks\": \"\"}, \"colorscale\": [[0.0, \"#0d0887\"], [0.1111111111111111, \"#46039f\"], [0.2222222222222222, \"#7201a8\"], [0.3333333333333333, \"#9c179e\"], [0.4444444444444444, \"#bd3786\"], [0.5555555555555556, \"#d8576b\"], [0.6666666666666666, \"#ed7953\"], [0.7777777777777778, \"#fb9f3a\"], [0.8888888888888888, \"#fdca26\"], [1.0, \"#f0f921\"]], \"type\": \"surface\"}], \"table\": [{\"cells\": {\"fill\": {\"color\": \"#EBF0F8\"}, \"line\": {\"color\": \"white\"}}, \"header\": {\"fill\": {\"color\": \"#C8D4E3\"}, \"line\": {\"color\": \"white\"}}, \"type\": \"table\"}]}, \"layout\": {\"annotationdefaults\": {\"arrowcolor\": \"#2a3f5f\", \"arrowhead\": 0, \"arrowwidth\": 1}, \"coloraxis\": {\"colorbar\": {\"outlinewidth\": 0, \"ticks\": \"\"}}, \"colorscale\": {\"diverging\": [[0, \"#8e0152\"], [0.1, \"#c51b7d\"], [0.2, \"#de77ae\"], [0.3, \"#f1b6da\"], [0.4, \"#fde0ef\"], [0.5, \"#f7f7f7\"], [0.6, \"#e6f5d0\"], [0.7, \"#b8e186\"], [0.8, \"#7fbc41\"], [0.9, \"#4d9221\"], [1, \"#276419\"]], \"sequential\": [[0.0, \"#0d0887\"], [0.1111111111111111, \"#46039f\"], [0.2222222222222222, \"#7201a8\"], [0.3333333333333333, \"#9c179e\"], [0.4444444444444444, \"#bd3786\"], [0.5555555555555556, \"#d8576b\"], [0.6666666666666666, \"#ed7953\"], [0.7777777777777778, \"#fb9f3a\"], [0.8888888888888888, \"#fdca26\"], [1.0, \"#f0f921\"]], \"sequentialminus\": [[0.0, \"#0d0887\"], [0.1111111111111111, \"#46039f\"], [0.2222222222222222, \"#7201a8\"], [0.3333333333333333, \"#9c179e\"], [0.4444444444444444, \"#bd3786\"], [0.5555555555555556, \"#d8576b\"], [0.6666666666666666, \"#ed7953\"], [0.7777777777777778, \"#fb9f3a\"], [0.8888888888888888, \"#fdca26\"], [1.0, \"#f0f921\"]]}, \"colorway\": [\"#636efa\", \"#EF553B\", \"#00cc96\", \"#ab63fa\", \"#FFA15A\", \"#19d3f3\", \"#FF6692\", \"#B6E880\", \"#FF97FF\", \"#FECB52\"], \"font\": {\"color\": \"#2a3f5f\"}, \"geo\": {\"bgcolor\": \"white\", \"lakecolor\": \"white\", \"landcolor\": \"#E5ECF6\", \"showlakes\": true, \"showland\": true, \"subunitcolor\": \"white\"}, \"hoverlabel\": {\"align\": \"left\"}, \"hovermode\": \"closest\", \"mapbox\": {\"style\": \"light\"}, \"paper_bgcolor\": \"white\", \"plot_bgcolor\": \"#E5ECF6\", \"polar\": {\"angularaxis\": {\"gridcolor\": \"white\", \"linecolor\": \"white\", \"ticks\": \"\"}, \"bgcolor\": \"#E5ECF6\", \"radialaxis\": {\"gridcolor\": \"white\", \"linecolor\": \"white\", \"ticks\": \"\"}}, \"scene\": {\"xaxis\": {\"backgroundcolor\": \"#E5ECF6\", \"gridcolor\": \"white\", \"gridwidth\": 2, \"linecolor\": \"white\", \"showbackground\": true, \"ticks\": \"\", \"zerolinecolor\": \"white\"}, \"yaxis\": {\"backgroundcolor\": \"#E5ECF6\", \"gridcolor\": \"white\", \"gridwidth\": 2, \"linecolor\": \"white\", \"showbackground\": true, \"ticks\": \"\", \"zerolinecolor\": \"white\"}, \"zaxis\": {\"backgroundcolor\": \"#E5ECF6\", \"gridcolor\": \"white\", \"gridwidth\": 2, \"linecolor\": \"white\", \"showbackground\": true, \"ticks\": \"\", \"zerolinecolor\": \"white\"}}, \"shapedefaults\": {\"line\": {\"color\": \"#2a3f5f\"}}, \"ternary\": {\"aaxis\": {\"gridcolor\": \"white\", \"linecolor\": \"white\", \"ticks\": \"\"}, \"baxis\": {\"gridcolor\": \"white\", \"linecolor\": \"white\", \"ticks\": \"\"}, \"bgcolor\": \"#E5ECF6\", \"caxis\": {\"gridcolor\": \"white\", \"linecolor\": \"white\", \"ticks\": \"\"}}, \"title\": {\"x\": 0.05}, \"xaxis\": {\"automargin\": true, \"gridcolor\": \"white\", \"linecolor\": \"white\", \"ticks\": \"\", \"title\": {\"standoff\": 15}, \"zerolinecolor\": \"white\", \"zerolinewidth\": 2}, \"yaxis\": {\"automargin\": true, \"gridcolor\": \"white\", \"linecolor\": \"white\", \"ticks\": \"\", \"title\": {\"standoff\": 15}, \"zerolinecolor\": \"white\", \"zerolinewidth\": 2}}}},                        {\"responsive\": true}                    ).then(function(){\n",
       "                            \n",
       "var gd = document.getElementById('32aecef2-e0f9-4440-b239-4bf3a257f599');\n",
       "var x = new MutationObserver(function (mutations, observer) {{\n",
       "        var display = window.getComputedStyle(gd).display;\n",
       "        if (!display || display === 'none') {{\n",
       "            console.log([gd, 'removed!']);\n",
       "            Plotly.purge(gd);\n",
       "            observer.disconnect();\n",
       "        }}\n",
       "}});\n",
       "\n",
       "// Listen for the removal of the full notebook cells\n",
       "var notebookContainer = gd.closest('#notebook-container');\n",
       "if (notebookContainer) {{\n",
       "    x.observe(notebookContainer, {childList: true});\n",
       "}}\n",
       "\n",
       "// Listen for the clearing of the current output cell\n",
       "var outputEl = gd.closest('.output');\n",
       "if (outputEl) {{\n",
       "    x.observe(outputEl, {childList: true});\n",
       "}}\n",
       "\n",
       "                        })                };                });            </script>        </div>"
      ]
     },
     "metadata": {},
     "output_type": "display_data"
    }
   ],
   "source": [
    "fig = go.Figure(go.Choropleth(\n",
    "    locations=pivot_norm_state_opp['state_code'],\n",
    "    z=pivot_norm_state_opp['count'],\n",
    "    locationmode='USA-states',\n",
    "    #dragmode= False,\n",
    "    text=round(pivot_norm_state_opp['count']*100/sum(pivot_norm_state_opp['count']),2),\n",
    "                          ))\n",
    "\n",
    "fig.update_layout(\n",
    "    geo = dict(\n",
    "        scope='usa',\n",
    "        projection=go.layout.geo.Projection(type = 'albers usa'),\n",
    "        showlakes=True, # lakes\n",
    "        lakecolor='rgb(255, 255, 255)'),\n",
    ")  "
   ]
  },
  {
   "cell_type": "markdown",
   "metadata": {},
   "source": [
    "## State - Feature Power"
   ]
  },
  {
   "cell_type": "code",
   "execution_count": 345,
   "metadata": {
    "ExecuteTime": {
     "end_time": "2020-10-22T10:27:10.119182Z",
     "start_time": "2020-10-22T10:27:10.055779Z"
    },
    "scrolled": false
   },
   "outputs": [
    {
     "name": "stdout",
     "output_type": "stream",
     "text": [
      "States with Positive Feature Power - Top 10\n"
     ]
    },
    {
     "data": {
      "text/html": [
       "<div>\n",
       "<style scoped>\n",
       "    .dataframe tbody tr th:only-of-type {\n",
       "        vertical-align: middle;\n",
       "    }\n",
       "\n",
       "    .dataframe tbody tr th {\n",
       "        vertical-align: top;\n",
       "    }\n",
       "\n",
       "    .dataframe thead th {\n",
       "        text-align: right;\n",
       "    }\n",
       "</style>\n",
       "<table border=\"1\" class=\"dataframe\">\n",
       "  <thead>\n",
       "    <tr style=\"text-align: right;\">\n",
       "      <th></th>\n",
       "      <th>state</th>\n",
       "      <th>opportunity_no</th>\n",
       "      <th>opportunity_yes</th>\n",
       "      <th>total</th>\n",
       "      <th>opp_rate</th>\n",
       "      <th>feature_power</th>\n",
       "    </tr>\n",
       "  </thead>\n",
       "  <tbody>\n",
       "    <tr>\n",
       "      <th>39</th>\n",
       "      <td>Rhode Island</td>\n",
       "      <td>5</td>\n",
       "      <td>2</td>\n",
       "      <td>7</td>\n",
       "      <td>28.57</td>\n",
       "      <td>3.33</td>\n",
       "    </tr>\n",
       "    <tr>\n",
       "      <th>26</th>\n",
       "      <td>Montana</td>\n",
       "      <td>4</td>\n",
       "      <td>1</td>\n",
       "      <td>5</td>\n",
       "      <td>20.00</td>\n",
       "      <td>2.33</td>\n",
       "    </tr>\n",
       "    <tr>\n",
       "      <th>16</th>\n",
       "      <td>Kentucky</td>\n",
       "      <td>15</td>\n",
       "      <td>3</td>\n",
       "      <td>18</td>\n",
       "      <td>16.67</td>\n",
       "      <td>1.94</td>\n",
       "    </tr>\n",
       "    <tr>\n",
       "      <th>34</th>\n",
       "      <td>North Dakota</td>\n",
       "      <td>8</td>\n",
       "      <td>1</td>\n",
       "      <td>9</td>\n",
       "      <td>11.11</td>\n",
       "      <td>1.30</td>\n",
       "    </tr>\n",
       "    <tr>\n",
       "      <th>49</th>\n",
       "      <td>Wisconsin</td>\n",
       "      <td>50</td>\n",
       "      <td>6</td>\n",
       "      <td>56</td>\n",
       "      <td>10.71</td>\n",
       "      <td>1.25</td>\n",
       "    </tr>\n",
       "    <tr>\n",
       "      <th>4</th>\n",
       "      <td>California</td>\n",
       "      <td>2342</td>\n",
       "      <td>271</td>\n",
       "      <td>2613</td>\n",
       "      <td>10.37</td>\n",
       "      <td>1.21</td>\n",
       "    </tr>\n",
       "    <tr>\n",
       "      <th>9</th>\n",
       "      <td>Georgia</td>\n",
       "      <td>301</td>\n",
       "      <td>33</td>\n",
       "      <td>334</td>\n",
       "      <td>9.88</td>\n",
       "      <td>1.15</td>\n",
       "    </tr>\n",
       "    <tr>\n",
       "      <th>33</th>\n",
       "      <td>North Carolina</td>\n",
       "      <td>192</td>\n",
       "      <td>21</td>\n",
       "      <td>213</td>\n",
       "      <td>9.86</td>\n",
       "      <td>1.15</td>\n",
       "    </tr>\n",
       "    <tr>\n",
       "      <th>5</th>\n",
       "      <td>Colorado</td>\n",
       "      <td>267</td>\n",
       "      <td>28</td>\n",
       "      <td>295</td>\n",
       "      <td>9.49</td>\n",
       "      <td>1.11</td>\n",
       "    </tr>\n",
       "    <tr>\n",
       "      <th>23</th>\n",
       "      <td>Missing</td>\n",
       "      <td>1905</td>\n",
       "      <td>199</td>\n",
       "      <td>2104</td>\n",
       "      <td>9.46</td>\n",
       "      <td>1.10</td>\n",
       "    </tr>\n",
       "  </tbody>\n",
       "</table>\n",
       "</div>"
      ],
      "text/plain": [
       "             state  opportunity_no  opportunity_yes  total             opp_rate        feature_power\n",
       "39    Rhode Island               5                2      7                28.57                 3.33\n",
       "26         Montana               4                1      5                20.00                 2.33\n",
       "16        Kentucky              15                3     18                16.67                 1.94\n",
       "34    North Dakota               8                1      9                11.11                 1.30\n",
       "49       Wisconsin              50                6     56                10.71                 1.25\n",
       "4       California            2342              271   2613                10.37                 1.21\n",
       "9          Georgia             301               33    334                 9.88                 1.15\n",
       "33  North Carolina             192               21    213                 9.86                 1.15\n",
       "5         Colorado             267               28    295                 9.49                 1.11\n",
       "23         Missing            1905              199   2104                 9.46                 1.10"
      ]
     },
     "metadata": {},
     "output_type": "display_data"
    },
    {
     "name": "stdout",
     "output_type": "stream",
     "text": [
      "States with Negative Feature Power - Bottom 10\n"
     ]
    },
    {
     "data": {
      "text/html": [
       "<div>\n",
       "<style scoped>\n",
       "    .dataframe tbody tr th:only-of-type {\n",
       "        vertical-align: middle;\n",
       "    }\n",
       "\n",
       "    .dataframe tbody tr th {\n",
       "        vertical-align: top;\n",
       "    }\n",
       "\n",
       "    .dataframe thead th {\n",
       "        text-align: right;\n",
       "    }\n",
       "</style>\n",
       "<table border=\"1\" class=\"dataframe\">\n",
       "  <thead>\n",
       "    <tr style=\"text-align: right;\">\n",
       "      <th></th>\n",
       "      <th>state</th>\n",
       "      <th>opportunity_no</th>\n",
       "      <th>opportunity_yes</th>\n",
       "      <th>total</th>\n",
       "      <th>opp_rate</th>\n",
       "      <th>feature_power</th>\n",
       "    </tr>\n",
       "  </thead>\n",
       "  <tbody>\n",
       "    <tr>\n",
       "      <th>11</th>\n",
       "      <td>Idaho</td>\n",
       "      <td>19</td>\n",
       "      <td>0</td>\n",
       "      <td>19</td>\n",
       "      <td>0.00</td>\n",
       "      <td>0.00</td>\n",
       "    </tr>\n",
       "    <tr>\n",
       "      <th>29</th>\n",
       "      <td>New Hampshire</td>\n",
       "      <td>9</td>\n",
       "      <td>0</td>\n",
       "      <td>9</td>\n",
       "      <td>0.00</td>\n",
       "      <td>0.00</td>\n",
       "    </tr>\n",
       "    <tr>\n",
       "      <th>7</th>\n",
       "      <td>Delaware</td>\n",
       "      <td>8</td>\n",
       "      <td>0</td>\n",
       "      <td>8</td>\n",
       "      <td>0.00</td>\n",
       "      <td>0.00</td>\n",
       "    </tr>\n",
       "    <tr>\n",
       "      <th>1</th>\n",
       "      <td>Alaska</td>\n",
       "      <td>5</td>\n",
       "      <td>0</td>\n",
       "      <td>5</td>\n",
       "      <td>0.00</td>\n",
       "      <td>0.00</td>\n",
       "    </tr>\n",
       "    <tr>\n",
       "      <th>18</th>\n",
       "      <td>Maine</td>\n",
       "      <td>4</td>\n",
       "      <td>0</td>\n",
       "      <td>4</td>\n",
       "      <td>0.00</td>\n",
       "      <td>0.00</td>\n",
       "    </tr>\n",
       "    <tr>\n",
       "      <th>41</th>\n",
       "      <td>South Dakota</td>\n",
       "      <td>4</td>\n",
       "      <td>0</td>\n",
       "      <td>4</td>\n",
       "      <td>0.00</td>\n",
       "      <td>0.00</td>\n",
       "    </tr>\n",
       "    <tr>\n",
       "      <th>10</th>\n",
       "      <td>Hawaii</td>\n",
       "      <td>2</td>\n",
       "      <td>0</td>\n",
       "      <td>2</td>\n",
       "      <td>0.00</td>\n",
       "      <td>0.00</td>\n",
       "    </tr>\n",
       "    <tr>\n",
       "      <th>48</th>\n",
       "      <td>West Virginia</td>\n",
       "      <td>2</td>\n",
       "      <td>0</td>\n",
       "      <td>2</td>\n",
       "      <td>0.00</td>\n",
       "      <td>0.00</td>\n",
       "    </tr>\n",
       "    <tr>\n",
       "      <th>45</th>\n",
       "      <td>Vermont</td>\n",
       "      <td>1</td>\n",
       "      <td>0</td>\n",
       "      <td>1</td>\n",
       "      <td>0.00</td>\n",
       "      <td>0.00</td>\n",
       "    </tr>\n",
       "    <tr>\n",
       "      <th>50</th>\n",
       "      <td>Wyoming</td>\n",
       "      <td>1</td>\n",
       "      <td>0</td>\n",
       "      <td>1</td>\n",
       "      <td>0.00</td>\n",
       "      <td>0.00</td>\n",
       "    </tr>\n",
       "  </tbody>\n",
       "</table>\n",
       "</div>"
      ],
      "text/plain": [
       "            state  opportunity_no  opportunity_yes  total             opp_rate        feature_power\n",
       "11          Idaho              19                0     19                 0.00                 0.00\n",
       "29  New Hampshire               9                0      9                 0.00                 0.00\n",
       "7        Delaware               8                0      8                 0.00                 0.00\n",
       "1          Alaska               5                0      5                 0.00                 0.00\n",
       "18          Maine               4                0      4                 0.00                 0.00\n",
       "41   South Dakota               4                0      4                 0.00                 0.00\n",
       "10         Hawaii               2                0      2                 0.00                 0.00\n",
       "48  West Virginia               2                0      2                 0.00                 0.00\n",
       "45        Vermont               1                0      1                 0.00                 0.00\n",
       "50        Wyoming               1                0      1                 0.00                 0.00"
      ]
     },
     "metadata": {},
     "output_type": "display_data"
    },
    {
     "data": {
      "application/vnd.plotly.v1+json": {
       "config": {
        "plotlyServerURL": "https://plot.ly"
       },
       "data": [
        {
         "colorscale": [
          [
           0,
           "red"
          ],
          [
           0.16666666666666666,
           "red"
          ],
          [
           0.3333333333333333,
           "yellow"
          ],
          [
           0.5,
           "orange"
          ],
          [
           0.6666666666666666,
           "teal"
          ],
          [
           0.8333333333333334,
           "teal"
          ],
          [
           1,
           "teal"
          ]
         ],
         "locationmode": "USA-states",
         "locations": [
          "RI",
          "MT",
          "KY",
          "ND",
          "WI",
          "CA",
          "GA",
          "NC",
          "CO",
          "Missing",
          "SC",
          "TX",
          "NJ",
          "MS",
          "IL",
          "NM",
          "LA",
          "NV",
          "WA",
          "UT",
          "FL",
          "AZ",
          "OK",
          "IA",
          "MN",
          "MO",
          "AL",
          "CT",
          "MA",
          "MI",
          "IN",
          "NE",
          "KS",
          "OR",
          "OH",
          "VA",
          "TN",
          "NY",
          "MD",
          "AR",
          "PA",
          "ID",
          "NH",
          "DE",
          "AK",
          "ME",
          "SD",
          "HI",
          "WV",
          "VT",
          "WY"
         ],
         "text": [
          "RI",
          "MT",
          "KY",
          "ND",
          "WI",
          "CA",
          "GA",
          "NC",
          "CO",
          "Missing",
          "SC",
          "TX",
          "NJ",
          "MS",
          "IL",
          "NM",
          "LA",
          "NV",
          "WA",
          "UT",
          "FL",
          "AZ",
          "OK",
          "IA",
          "MN",
          "MO",
          "AL",
          "CT",
          "MA",
          "MI",
          "IN",
          "NE",
          "KS",
          "OR",
          "OH",
          "VA",
          "TN",
          "NY",
          "MD",
          "AR",
          "PA",
          "ID",
          "NH",
          "DE",
          "AK",
          "ME",
          "SD",
          "HI",
          "WV",
          "VT",
          "WY"
         ],
         "type": "choropleth",
         "z": [
          3.333885647607935,
          2.3337222870478413,
          1.9447724620770126,
          1.2965110851808634,
          1.2502100350058343,
          1.2101750291715285,
          1.152882147024504,
          1.1504317386231038,
          1.1075262543757294,
          1.1036406067677946,
          1.0339323220536756,
          1.0042007001166862,
          1.0001633605600935,
          0.9723803967327888,
          0.9590665110851809,
          0.9410151691948658,
          0.9293582263710618,
          0.8466161026837805,
          0.8297666277712953,
          0.823663943990665,
          0.816534422403734,
          0.8119953325554259,
          0.7779113185530921,
          0.7779113185530921,
          0.7448074679113186,
          0.7292882147024504,
          0.7292882147024504,
          0.7292882147024504,
          0.702928821470245,
          0.6945624270711785,
          0.686394399066511,
          0.686394399066511,
          0.6307351225204201,
          0.6250991831971995,
          0.5344457409568261,
          0.5303967327887981,
          0.5117852975495916,
          0.4507234539089848,
          0.44032672112018667,
          0.3764060676779463,
          0.3286931155192532,
          0,
          0,
          0,
          0,
          0,
          0,
          0,
          0,
          0,
          0
         ]
        }
       ],
       "layout": {
        "geo": {
         "projection": {
          "type": "albers usa"
         },
         "scope": "usa"
        },
        "template": {
         "data": {
          "bar": [
           {
            "error_x": {
             "color": "#2a3f5f"
            },
            "error_y": {
             "color": "#2a3f5f"
            },
            "marker": {
             "line": {
              "color": "#E5ECF6",
              "width": 0.5
             }
            },
            "type": "bar"
           }
          ],
          "barpolar": [
           {
            "marker": {
             "line": {
              "color": "#E5ECF6",
              "width": 0.5
             }
            },
            "type": "barpolar"
           }
          ],
          "carpet": [
           {
            "aaxis": {
             "endlinecolor": "#2a3f5f",
             "gridcolor": "white",
             "linecolor": "white",
             "minorgridcolor": "white",
             "startlinecolor": "#2a3f5f"
            },
            "baxis": {
             "endlinecolor": "#2a3f5f",
             "gridcolor": "white",
             "linecolor": "white",
             "minorgridcolor": "white",
             "startlinecolor": "#2a3f5f"
            },
            "type": "carpet"
           }
          ],
          "choropleth": [
           {
            "colorbar": {
             "outlinewidth": 0,
             "ticks": ""
            },
            "type": "choropleth"
           }
          ],
          "contour": [
           {
            "colorbar": {
             "outlinewidth": 0,
             "ticks": ""
            },
            "colorscale": [
             [
              0,
              "#0d0887"
             ],
             [
              0.1111111111111111,
              "#46039f"
             ],
             [
              0.2222222222222222,
              "#7201a8"
             ],
             [
              0.3333333333333333,
              "#9c179e"
             ],
             [
              0.4444444444444444,
              "#bd3786"
             ],
             [
              0.5555555555555556,
              "#d8576b"
             ],
             [
              0.6666666666666666,
              "#ed7953"
             ],
             [
              0.7777777777777778,
              "#fb9f3a"
             ],
             [
              0.8888888888888888,
              "#fdca26"
             ],
             [
              1,
              "#f0f921"
             ]
            ],
            "type": "contour"
           }
          ],
          "contourcarpet": [
           {
            "colorbar": {
             "outlinewidth": 0,
             "ticks": ""
            },
            "type": "contourcarpet"
           }
          ],
          "heatmap": [
           {
            "colorbar": {
             "outlinewidth": 0,
             "ticks": ""
            },
            "colorscale": [
             [
              0,
              "#0d0887"
             ],
             [
              0.1111111111111111,
              "#46039f"
             ],
             [
              0.2222222222222222,
              "#7201a8"
             ],
             [
              0.3333333333333333,
              "#9c179e"
             ],
             [
              0.4444444444444444,
              "#bd3786"
             ],
             [
              0.5555555555555556,
              "#d8576b"
             ],
             [
              0.6666666666666666,
              "#ed7953"
             ],
             [
              0.7777777777777778,
              "#fb9f3a"
             ],
             [
              0.8888888888888888,
              "#fdca26"
             ],
             [
              1,
              "#f0f921"
             ]
            ],
            "type": "heatmap"
           }
          ],
          "heatmapgl": [
           {
            "colorbar": {
             "outlinewidth": 0,
             "ticks": ""
            },
            "colorscale": [
             [
              0,
              "#0d0887"
             ],
             [
              0.1111111111111111,
              "#46039f"
             ],
             [
              0.2222222222222222,
              "#7201a8"
             ],
             [
              0.3333333333333333,
              "#9c179e"
             ],
             [
              0.4444444444444444,
              "#bd3786"
             ],
             [
              0.5555555555555556,
              "#d8576b"
             ],
             [
              0.6666666666666666,
              "#ed7953"
             ],
             [
              0.7777777777777778,
              "#fb9f3a"
             ],
             [
              0.8888888888888888,
              "#fdca26"
             ],
             [
              1,
              "#f0f921"
             ]
            ],
            "type": "heatmapgl"
           }
          ],
          "histogram": [
           {
            "marker": {
             "colorbar": {
              "outlinewidth": 0,
              "ticks": ""
             }
            },
            "type": "histogram"
           }
          ],
          "histogram2d": [
           {
            "colorbar": {
             "outlinewidth": 0,
             "ticks": ""
            },
            "colorscale": [
             [
              0,
              "#0d0887"
             ],
             [
              0.1111111111111111,
              "#46039f"
             ],
             [
              0.2222222222222222,
              "#7201a8"
             ],
             [
              0.3333333333333333,
              "#9c179e"
             ],
             [
              0.4444444444444444,
              "#bd3786"
             ],
             [
              0.5555555555555556,
              "#d8576b"
             ],
             [
              0.6666666666666666,
              "#ed7953"
             ],
             [
              0.7777777777777778,
              "#fb9f3a"
             ],
             [
              0.8888888888888888,
              "#fdca26"
             ],
             [
              1,
              "#f0f921"
             ]
            ],
            "type": "histogram2d"
           }
          ],
          "histogram2dcontour": [
           {
            "colorbar": {
             "outlinewidth": 0,
             "ticks": ""
            },
            "colorscale": [
             [
              0,
              "#0d0887"
             ],
             [
              0.1111111111111111,
              "#46039f"
             ],
             [
              0.2222222222222222,
              "#7201a8"
             ],
             [
              0.3333333333333333,
              "#9c179e"
             ],
             [
              0.4444444444444444,
              "#bd3786"
             ],
             [
              0.5555555555555556,
              "#d8576b"
             ],
             [
              0.6666666666666666,
              "#ed7953"
             ],
             [
              0.7777777777777778,
              "#fb9f3a"
             ],
             [
              0.8888888888888888,
              "#fdca26"
             ],
             [
              1,
              "#f0f921"
             ]
            ],
            "type": "histogram2dcontour"
           }
          ],
          "mesh3d": [
           {
            "colorbar": {
             "outlinewidth": 0,
             "ticks": ""
            },
            "type": "mesh3d"
           }
          ],
          "parcoords": [
           {
            "line": {
             "colorbar": {
              "outlinewidth": 0,
              "ticks": ""
             }
            },
            "type": "parcoords"
           }
          ],
          "pie": [
           {
            "automargin": true,
            "type": "pie"
           }
          ],
          "scatter": [
           {
            "marker": {
             "colorbar": {
              "outlinewidth": 0,
              "ticks": ""
             }
            },
            "type": "scatter"
           }
          ],
          "scatter3d": [
           {
            "line": {
             "colorbar": {
              "outlinewidth": 0,
              "ticks": ""
             }
            },
            "marker": {
             "colorbar": {
              "outlinewidth": 0,
              "ticks": ""
             }
            },
            "type": "scatter3d"
           }
          ],
          "scattercarpet": [
           {
            "marker": {
             "colorbar": {
              "outlinewidth": 0,
              "ticks": ""
             }
            },
            "type": "scattercarpet"
           }
          ],
          "scattergeo": [
           {
            "marker": {
             "colorbar": {
              "outlinewidth": 0,
              "ticks": ""
             }
            },
            "type": "scattergeo"
           }
          ],
          "scattergl": [
           {
            "marker": {
             "colorbar": {
              "outlinewidth": 0,
              "ticks": ""
             }
            },
            "type": "scattergl"
           }
          ],
          "scattermapbox": [
           {
            "marker": {
             "colorbar": {
              "outlinewidth": 0,
              "ticks": ""
             }
            },
            "type": "scattermapbox"
           }
          ],
          "scatterpolar": [
           {
            "marker": {
             "colorbar": {
              "outlinewidth": 0,
              "ticks": ""
             }
            },
            "type": "scatterpolar"
           }
          ],
          "scatterpolargl": [
           {
            "marker": {
             "colorbar": {
              "outlinewidth": 0,
              "ticks": ""
             }
            },
            "type": "scatterpolargl"
           }
          ],
          "scatterternary": [
           {
            "marker": {
             "colorbar": {
              "outlinewidth": 0,
              "ticks": ""
             }
            },
            "type": "scatterternary"
           }
          ],
          "surface": [
           {
            "colorbar": {
             "outlinewidth": 0,
             "ticks": ""
            },
            "colorscale": [
             [
              0,
              "#0d0887"
             ],
             [
              0.1111111111111111,
              "#46039f"
             ],
             [
              0.2222222222222222,
              "#7201a8"
             ],
             [
              0.3333333333333333,
              "#9c179e"
             ],
             [
              0.4444444444444444,
              "#bd3786"
             ],
             [
              0.5555555555555556,
              "#d8576b"
             ],
             [
              0.6666666666666666,
              "#ed7953"
             ],
             [
              0.7777777777777778,
              "#fb9f3a"
             ],
             [
              0.8888888888888888,
              "#fdca26"
             ],
             [
              1,
              "#f0f921"
             ]
            ],
            "type": "surface"
           }
          ],
          "table": [
           {
            "cells": {
             "fill": {
              "color": "#EBF0F8"
             },
             "line": {
              "color": "white"
             }
            },
            "header": {
             "fill": {
              "color": "#C8D4E3"
             },
             "line": {
              "color": "white"
             }
            },
            "type": "table"
           }
          ]
         },
         "layout": {
          "annotationdefaults": {
           "arrowcolor": "#2a3f5f",
           "arrowhead": 0,
           "arrowwidth": 1
          },
          "coloraxis": {
           "colorbar": {
            "outlinewidth": 0,
            "ticks": ""
           }
          },
          "colorscale": {
           "diverging": [
            [
             0,
             "#8e0152"
            ],
            [
             0.1,
             "#c51b7d"
            ],
            [
             0.2,
             "#de77ae"
            ],
            [
             0.3,
             "#f1b6da"
            ],
            [
             0.4,
             "#fde0ef"
            ],
            [
             0.5,
             "#f7f7f7"
            ],
            [
             0.6,
             "#e6f5d0"
            ],
            [
             0.7,
             "#b8e186"
            ],
            [
             0.8,
             "#7fbc41"
            ],
            [
             0.9,
             "#4d9221"
            ],
            [
             1,
             "#276419"
            ]
           ],
           "sequential": [
            [
             0,
             "#0d0887"
            ],
            [
             0.1111111111111111,
             "#46039f"
            ],
            [
             0.2222222222222222,
             "#7201a8"
            ],
            [
             0.3333333333333333,
             "#9c179e"
            ],
            [
             0.4444444444444444,
             "#bd3786"
            ],
            [
             0.5555555555555556,
             "#d8576b"
            ],
            [
             0.6666666666666666,
             "#ed7953"
            ],
            [
             0.7777777777777778,
             "#fb9f3a"
            ],
            [
             0.8888888888888888,
             "#fdca26"
            ],
            [
             1,
             "#f0f921"
            ]
           ],
           "sequentialminus": [
            [
             0,
             "#0d0887"
            ],
            [
             0.1111111111111111,
             "#46039f"
            ],
            [
             0.2222222222222222,
             "#7201a8"
            ],
            [
             0.3333333333333333,
             "#9c179e"
            ],
            [
             0.4444444444444444,
             "#bd3786"
            ],
            [
             0.5555555555555556,
             "#d8576b"
            ],
            [
             0.6666666666666666,
             "#ed7953"
            ],
            [
             0.7777777777777778,
             "#fb9f3a"
            ],
            [
             0.8888888888888888,
             "#fdca26"
            ],
            [
             1,
             "#f0f921"
            ]
           ]
          },
          "colorway": [
           "#636efa",
           "#EF553B",
           "#00cc96",
           "#ab63fa",
           "#FFA15A",
           "#19d3f3",
           "#FF6692",
           "#B6E880",
           "#FF97FF",
           "#FECB52"
          ],
          "font": {
           "color": "#2a3f5f"
          },
          "geo": {
           "bgcolor": "white",
           "lakecolor": "white",
           "landcolor": "#E5ECF6",
           "showlakes": true,
           "showland": true,
           "subunitcolor": "white"
          },
          "hoverlabel": {
           "align": "left"
          },
          "hovermode": "closest",
          "mapbox": {
           "style": "light"
          },
          "paper_bgcolor": "white",
          "plot_bgcolor": "#E5ECF6",
          "polar": {
           "angularaxis": {
            "gridcolor": "white",
            "linecolor": "white",
            "ticks": ""
           },
           "bgcolor": "#E5ECF6",
           "radialaxis": {
            "gridcolor": "white",
            "linecolor": "white",
            "ticks": ""
           }
          },
          "scene": {
           "xaxis": {
            "backgroundcolor": "#E5ECF6",
            "gridcolor": "white",
            "gridwidth": 2,
            "linecolor": "white",
            "showbackground": true,
            "ticks": "",
            "zerolinecolor": "white"
           },
           "yaxis": {
            "backgroundcolor": "#E5ECF6",
            "gridcolor": "white",
            "gridwidth": 2,
            "linecolor": "white",
            "showbackground": true,
            "ticks": "",
            "zerolinecolor": "white"
           },
           "zaxis": {
            "backgroundcolor": "#E5ECF6",
            "gridcolor": "white",
            "gridwidth": 2,
            "linecolor": "white",
            "showbackground": true,
            "ticks": "",
            "zerolinecolor": "white"
           }
          },
          "shapedefaults": {
           "line": {
            "color": "#2a3f5f"
           }
          },
          "ternary": {
           "aaxis": {
            "gridcolor": "white",
            "linecolor": "white",
            "ticks": ""
           },
           "baxis": {
            "gridcolor": "white",
            "linecolor": "white",
            "ticks": ""
           },
           "bgcolor": "#E5ECF6",
           "caxis": {
            "gridcolor": "white",
            "linecolor": "white",
            "ticks": ""
           }
          },
          "title": {
           "x": 0.05
          },
          "xaxis": {
           "automargin": true,
           "gridcolor": "white",
           "linecolor": "white",
           "ticks": "",
           "title": {
            "standoff": 15
           },
           "zerolinecolor": "white",
           "zerolinewidth": 2
          },
          "yaxis": {
           "automargin": true,
           "gridcolor": "white",
           "linecolor": "white",
           "ticks": "",
           "title": {
            "standoff": 15
           },
           "zerolinecolor": "white",
           "zerolinewidth": 2
          }
         }
        }
       }
      },
      "text/html": [
       "<div>                            <div id=\"e66bec24-6dcc-4764-8364-f28455e15fef\" class=\"plotly-graph-div\" style=\"height:525px; width:100%;\"></div>            <script type=\"text/javascript\">                require([\"plotly\"], function(Plotly) {                    window.PLOTLYENV=window.PLOTLYENV || {};                                    if (document.getElementById(\"e66bec24-6dcc-4764-8364-f28455e15fef\")) {                    Plotly.newPlot(                        \"e66bec24-6dcc-4764-8364-f28455e15fef\",                        [{\"colorscale\": [[0.0, \"red\"], [0.16666666666666666, \"red\"], [0.3333333333333333, \"yellow\"], [0.5, \"orange\"], [0.6666666666666666, \"teal\"], [0.8333333333333334, \"teal\"], [1.0, \"teal\"]], \"locationmode\": \"USA-states\", \"locations\": [\"RI\", \"MT\", \"KY\", \"ND\", \"WI\", \"CA\", \"GA\", \"NC\", \"CO\", \"Missing\", \"SC\", \"TX\", \"NJ\", \"MS\", \"IL\", \"NM\", \"LA\", \"NV\", \"WA\", \"UT\", \"FL\", \"AZ\", \"OK\", \"IA\", \"MN\", \"MO\", \"AL\", \"CT\", \"MA\", \"MI\", \"IN\", \"NE\", \"KS\", \"OR\", \"OH\", \"VA\", \"TN\", \"NY\", \"MD\", \"AR\", \"PA\", \"ID\", \"NH\", \"DE\", \"AK\", \"ME\", \"SD\", \"HI\", \"WV\", \"VT\", \"WY\"], \"text\": [\"RI\", \"MT\", \"KY\", \"ND\", \"WI\", \"CA\", \"GA\", \"NC\", \"CO\", \"Missing\", \"SC\", \"TX\", \"NJ\", \"MS\", \"IL\", \"NM\", \"LA\", \"NV\", \"WA\", \"UT\", \"FL\", \"AZ\", \"OK\", \"IA\", \"MN\", \"MO\", \"AL\", \"CT\", \"MA\", \"MI\", \"IN\", \"NE\", \"KS\", \"OR\", \"OH\", \"VA\", \"TN\", \"NY\", \"MD\", \"AR\", \"PA\", \"ID\", \"NH\", \"DE\", \"AK\", \"ME\", \"SD\", \"HI\", \"WV\", \"VT\", \"WY\"], \"type\": \"choropleth\", \"z\": [3.333885647607935, 2.3337222870478413, 1.9447724620770126, 1.2965110851808634, 1.2502100350058343, 1.2101750291715285, 1.152882147024504, 1.1504317386231038, 1.1075262543757294, 1.1036406067677946, 1.0339323220536756, 1.0042007001166862, 1.0001633605600935, 0.9723803967327888, 0.9590665110851809, 0.9410151691948658, 0.9293582263710618, 0.8466161026837805, 0.8297666277712953, 0.823663943990665, 0.816534422403734, 0.8119953325554259, 0.7779113185530921, 0.7779113185530921, 0.7448074679113186, 0.7292882147024504, 0.7292882147024504, 0.7292882147024504, 0.702928821470245, 0.6945624270711785, 0.686394399066511, 0.686394399066511, 0.6307351225204201, 0.6250991831971995, 0.5344457409568261, 0.5303967327887981, 0.5117852975495916, 0.4507234539089848, 0.44032672112018667, 0.3764060676779463, 0.3286931155192532, 0.0, 0.0, 0.0, 0.0, 0.0, 0.0, 0.0, 0.0, 0.0, 0.0]}],                        {\"geo\": {\"projection\": {\"type\": \"albers usa\"}, \"scope\": \"usa\"}, \"template\": {\"data\": {\"bar\": [{\"error_x\": {\"color\": \"#2a3f5f\"}, \"error_y\": {\"color\": \"#2a3f5f\"}, \"marker\": {\"line\": {\"color\": \"#E5ECF6\", \"width\": 0.5}}, \"type\": \"bar\"}], \"barpolar\": [{\"marker\": {\"line\": {\"color\": \"#E5ECF6\", \"width\": 0.5}}, \"type\": \"barpolar\"}], \"carpet\": [{\"aaxis\": {\"endlinecolor\": \"#2a3f5f\", \"gridcolor\": \"white\", \"linecolor\": \"white\", \"minorgridcolor\": \"white\", \"startlinecolor\": \"#2a3f5f\"}, \"baxis\": {\"endlinecolor\": \"#2a3f5f\", \"gridcolor\": \"white\", \"linecolor\": \"white\", \"minorgridcolor\": \"white\", \"startlinecolor\": \"#2a3f5f\"}, \"type\": \"carpet\"}], \"choropleth\": [{\"colorbar\": {\"outlinewidth\": 0, \"ticks\": \"\"}, \"type\": \"choropleth\"}], \"contour\": [{\"colorbar\": {\"outlinewidth\": 0, \"ticks\": \"\"}, \"colorscale\": [[0.0, \"#0d0887\"], [0.1111111111111111, \"#46039f\"], [0.2222222222222222, \"#7201a8\"], [0.3333333333333333, \"#9c179e\"], [0.4444444444444444, \"#bd3786\"], [0.5555555555555556, \"#d8576b\"], [0.6666666666666666, \"#ed7953\"], [0.7777777777777778, \"#fb9f3a\"], [0.8888888888888888, \"#fdca26\"], [1.0, \"#f0f921\"]], \"type\": \"contour\"}], \"contourcarpet\": [{\"colorbar\": {\"outlinewidth\": 0, \"ticks\": \"\"}, \"type\": \"contourcarpet\"}], \"heatmap\": [{\"colorbar\": {\"outlinewidth\": 0, \"ticks\": \"\"}, \"colorscale\": [[0.0, \"#0d0887\"], [0.1111111111111111, \"#46039f\"], [0.2222222222222222, \"#7201a8\"], [0.3333333333333333, \"#9c179e\"], [0.4444444444444444, \"#bd3786\"], [0.5555555555555556, \"#d8576b\"], [0.6666666666666666, \"#ed7953\"], [0.7777777777777778, \"#fb9f3a\"], [0.8888888888888888, \"#fdca26\"], [1.0, \"#f0f921\"]], \"type\": \"heatmap\"}], \"heatmapgl\": [{\"colorbar\": {\"outlinewidth\": 0, \"ticks\": \"\"}, \"colorscale\": [[0.0, \"#0d0887\"], [0.1111111111111111, \"#46039f\"], [0.2222222222222222, \"#7201a8\"], [0.3333333333333333, \"#9c179e\"], [0.4444444444444444, \"#bd3786\"], [0.5555555555555556, \"#d8576b\"], [0.6666666666666666, \"#ed7953\"], [0.7777777777777778, \"#fb9f3a\"], [0.8888888888888888, \"#fdca26\"], [1.0, \"#f0f921\"]], \"type\": \"heatmapgl\"}], \"histogram\": [{\"marker\": {\"colorbar\": {\"outlinewidth\": 0, \"ticks\": \"\"}}, \"type\": \"histogram\"}], \"histogram2d\": [{\"colorbar\": {\"outlinewidth\": 0, \"ticks\": \"\"}, \"colorscale\": [[0.0, \"#0d0887\"], [0.1111111111111111, \"#46039f\"], [0.2222222222222222, \"#7201a8\"], [0.3333333333333333, \"#9c179e\"], [0.4444444444444444, \"#bd3786\"], [0.5555555555555556, \"#d8576b\"], [0.6666666666666666, \"#ed7953\"], [0.7777777777777778, \"#fb9f3a\"], [0.8888888888888888, \"#fdca26\"], [1.0, \"#f0f921\"]], \"type\": \"histogram2d\"}], \"histogram2dcontour\": [{\"colorbar\": {\"outlinewidth\": 0, \"ticks\": \"\"}, \"colorscale\": [[0.0, \"#0d0887\"], [0.1111111111111111, \"#46039f\"], [0.2222222222222222, \"#7201a8\"], [0.3333333333333333, \"#9c179e\"], [0.4444444444444444, \"#bd3786\"], [0.5555555555555556, \"#d8576b\"], [0.6666666666666666, \"#ed7953\"], [0.7777777777777778, \"#fb9f3a\"], [0.8888888888888888, \"#fdca26\"], [1.0, \"#f0f921\"]], \"type\": \"histogram2dcontour\"}], \"mesh3d\": [{\"colorbar\": {\"outlinewidth\": 0, \"ticks\": \"\"}, \"type\": \"mesh3d\"}], \"parcoords\": [{\"line\": {\"colorbar\": {\"outlinewidth\": 0, \"ticks\": \"\"}}, \"type\": \"parcoords\"}], \"pie\": [{\"automargin\": true, \"type\": \"pie\"}], \"scatter\": [{\"marker\": {\"colorbar\": {\"outlinewidth\": 0, \"ticks\": \"\"}}, \"type\": \"scatter\"}], \"scatter3d\": [{\"line\": {\"colorbar\": {\"outlinewidth\": 0, \"ticks\": \"\"}}, \"marker\": {\"colorbar\": {\"outlinewidth\": 0, \"ticks\": \"\"}}, \"type\": \"scatter3d\"}], \"scattercarpet\": [{\"marker\": {\"colorbar\": {\"outlinewidth\": 0, \"ticks\": \"\"}}, \"type\": \"scattercarpet\"}], \"scattergeo\": [{\"marker\": {\"colorbar\": {\"outlinewidth\": 0, \"ticks\": \"\"}}, \"type\": \"scattergeo\"}], \"scattergl\": [{\"marker\": {\"colorbar\": {\"outlinewidth\": 0, \"ticks\": \"\"}}, \"type\": \"scattergl\"}], \"scattermapbox\": [{\"marker\": {\"colorbar\": {\"outlinewidth\": 0, \"ticks\": \"\"}}, \"type\": \"scattermapbox\"}], \"scatterpolar\": [{\"marker\": {\"colorbar\": {\"outlinewidth\": 0, \"ticks\": \"\"}}, \"type\": \"scatterpolar\"}], \"scatterpolargl\": [{\"marker\": {\"colorbar\": {\"outlinewidth\": 0, \"ticks\": \"\"}}, \"type\": \"scatterpolargl\"}], \"scatterternary\": [{\"marker\": {\"colorbar\": {\"outlinewidth\": 0, \"ticks\": \"\"}}, \"type\": \"scatterternary\"}], \"surface\": [{\"colorbar\": {\"outlinewidth\": 0, \"ticks\": \"\"}, \"colorscale\": [[0.0, \"#0d0887\"], [0.1111111111111111, \"#46039f\"], [0.2222222222222222, \"#7201a8\"], [0.3333333333333333, \"#9c179e\"], [0.4444444444444444, \"#bd3786\"], [0.5555555555555556, \"#d8576b\"], [0.6666666666666666, \"#ed7953\"], [0.7777777777777778, \"#fb9f3a\"], [0.8888888888888888, \"#fdca26\"], [1.0, \"#f0f921\"]], \"type\": \"surface\"}], \"table\": [{\"cells\": {\"fill\": {\"color\": \"#EBF0F8\"}, \"line\": {\"color\": \"white\"}}, \"header\": {\"fill\": {\"color\": \"#C8D4E3\"}, \"line\": {\"color\": \"white\"}}, \"type\": \"table\"}]}, \"layout\": {\"annotationdefaults\": {\"arrowcolor\": \"#2a3f5f\", \"arrowhead\": 0, \"arrowwidth\": 1}, \"coloraxis\": {\"colorbar\": {\"outlinewidth\": 0, \"ticks\": \"\"}}, \"colorscale\": {\"diverging\": [[0, \"#8e0152\"], [0.1, \"#c51b7d\"], [0.2, \"#de77ae\"], [0.3, \"#f1b6da\"], [0.4, \"#fde0ef\"], [0.5, \"#f7f7f7\"], [0.6, \"#e6f5d0\"], [0.7, \"#b8e186\"], [0.8, \"#7fbc41\"], [0.9, \"#4d9221\"], [1, \"#276419\"]], \"sequential\": [[0.0, \"#0d0887\"], [0.1111111111111111, \"#46039f\"], [0.2222222222222222, \"#7201a8\"], [0.3333333333333333, \"#9c179e\"], [0.4444444444444444, \"#bd3786\"], [0.5555555555555556, \"#d8576b\"], [0.6666666666666666, \"#ed7953\"], [0.7777777777777778, \"#fb9f3a\"], [0.8888888888888888, \"#fdca26\"], [1.0, \"#f0f921\"]], \"sequentialminus\": [[0.0, \"#0d0887\"], [0.1111111111111111, \"#46039f\"], [0.2222222222222222, \"#7201a8\"], [0.3333333333333333, \"#9c179e\"], [0.4444444444444444, \"#bd3786\"], [0.5555555555555556, \"#d8576b\"], [0.6666666666666666, \"#ed7953\"], [0.7777777777777778, \"#fb9f3a\"], [0.8888888888888888, \"#fdca26\"], [1.0, \"#f0f921\"]]}, \"colorway\": [\"#636efa\", \"#EF553B\", \"#00cc96\", \"#ab63fa\", \"#FFA15A\", \"#19d3f3\", \"#FF6692\", \"#B6E880\", \"#FF97FF\", \"#FECB52\"], \"font\": {\"color\": \"#2a3f5f\"}, \"geo\": {\"bgcolor\": \"white\", \"lakecolor\": \"white\", \"landcolor\": \"#E5ECF6\", \"showlakes\": true, \"showland\": true, \"subunitcolor\": \"white\"}, \"hoverlabel\": {\"align\": \"left\"}, \"hovermode\": \"closest\", \"mapbox\": {\"style\": \"light\"}, \"paper_bgcolor\": \"white\", \"plot_bgcolor\": \"#E5ECF6\", \"polar\": {\"angularaxis\": {\"gridcolor\": \"white\", \"linecolor\": \"white\", \"ticks\": \"\"}, \"bgcolor\": \"#E5ECF6\", \"radialaxis\": {\"gridcolor\": \"white\", \"linecolor\": \"white\", \"ticks\": \"\"}}, \"scene\": {\"xaxis\": {\"backgroundcolor\": \"#E5ECF6\", \"gridcolor\": \"white\", \"gridwidth\": 2, \"linecolor\": \"white\", \"showbackground\": true, \"ticks\": \"\", \"zerolinecolor\": \"white\"}, \"yaxis\": {\"backgroundcolor\": \"#E5ECF6\", \"gridcolor\": \"white\", \"gridwidth\": 2, \"linecolor\": \"white\", \"showbackground\": true, \"ticks\": \"\", \"zerolinecolor\": \"white\"}, \"zaxis\": {\"backgroundcolor\": \"#E5ECF6\", \"gridcolor\": \"white\", \"gridwidth\": 2, \"linecolor\": \"white\", \"showbackground\": true, \"ticks\": \"\", \"zerolinecolor\": \"white\"}}, \"shapedefaults\": {\"line\": {\"color\": \"#2a3f5f\"}}, \"ternary\": {\"aaxis\": {\"gridcolor\": \"white\", \"linecolor\": \"white\", \"ticks\": \"\"}, \"baxis\": {\"gridcolor\": \"white\", \"linecolor\": \"white\", \"ticks\": \"\"}, \"bgcolor\": \"#E5ECF6\", \"caxis\": {\"gridcolor\": \"white\", \"linecolor\": \"white\", \"ticks\": \"\"}}, \"title\": {\"x\": 0.05}, \"xaxis\": {\"automargin\": true, \"gridcolor\": \"white\", \"linecolor\": \"white\", \"ticks\": \"\", \"title\": {\"standoff\": 15}, \"zerolinecolor\": \"white\", \"zerolinewidth\": 2}, \"yaxis\": {\"automargin\": true, \"gridcolor\": \"white\", \"linecolor\": \"white\", \"ticks\": \"\", \"title\": {\"standoff\": 15}, \"zerolinecolor\": \"white\", \"zerolinewidth\": 2}}}},                        {\"responsive\": true}                    ).then(function(){\n",
       "                            \n",
       "var gd = document.getElementById('e66bec24-6dcc-4764-8364-f28455e15fef');\n",
       "var x = new MutationObserver(function (mutations, observer) {{\n",
       "        var display = window.getComputedStyle(gd).display;\n",
       "        if (!display || display === 'none') {{\n",
       "            console.log([gd, 'removed!']);\n",
       "            Plotly.purge(gd);\n",
       "            observer.disconnect();\n",
       "        }}\n",
       "}});\n",
       "\n",
       "// Listen for the removal of the full notebook cells\n",
       "var notebookContainer = gd.closest('#notebook-container');\n",
       "if (notebookContainer) {{\n",
       "    x.observe(notebookContainer, {childList: true});\n",
       "}}\n",
       "\n",
       "// Listen for the clearing of the current output cell\n",
       "var outputEl = gd.closest('.output');\n",
       "if (outputEl) {{\n",
       "    x.observe(outputEl, {childList: true});\n",
       "}}\n",
       "\n",
       "                        })                };                });            </script>        </div>"
      ]
     },
     "metadata": {},
     "output_type": "display_data"
    }
   ],
   "source": [
    "df_pivot_states=pd.crosstab(index=df_input_grouped1['state'], columns=df_input_grouped1['is_opportunity'], values=df_input_grouped1['uuid'], aggfunc=pd.Series.nunique).reset_index()\n",
    "df_pivot_states.fillna(0,inplace=True)\n",
    "\n",
    "df_pivot_states.columns=['state','opportunity_no','opportunity_yes']\n",
    "df_pivot_states=df_pivot_states.merge(df_state_regions[['state_code','state_name']],how='left',left_on='state',right_on='state_name').drop(['state_name'],axis=1)\n",
    "df_pivot_states.state_code.fillna('Missing',inplace=True)\n",
    "df_pivot_states['total']=df_pivot_states['opportunity_no']+df_pivot_states['opportunity_yes']\n",
    "\n",
    "base_rate=round(sum(df_pivot_states.opportunity_yes)/sum(df_pivot_states.total)*100,2)\n",
    "df_pivot_states['opp_rate']=round(df_pivot_states['opportunity_yes']*100/df_pivot_states['total'],4)\n",
    "df_pivot_states['feature_power']=df_pivot_states['opp_rate']/base_rate\n",
    "df_pivot_states.sort_values(by=['feature_power','total'],ascending=[False,False],inplace=True)\n",
    "df_pivot_states=df_pivot_states[['state','state_code','opportunity_no','opportunity_yes','total','opp_rate','feature_power']]\n",
    "\n",
    "\n",
    "df_pivot_states['opportunity_no']=df_pivot_states['opportunity_no'].astype(int)\n",
    "df_pivot_states['opportunity_yes']=df_pivot_states['opportunity_yes'].astype(int)\n",
    "df_pivot_states['total']=df_pivot_states['total'].astype(int)\n",
    "\n",
    "\n",
    "\n",
    "print('States with Positive Feature Power - Top 10')\n",
    "sel_cols=['state','opportunity_no','opportunity_yes','total','opp_rate','feature_power']\n",
    "print_full(df_pivot_states[df_pivot_states['feature_power']>1][sel_cols].head(10))\n",
    "\n",
    "print('States with Negative Feature Power - Bottom 10')\n",
    "print_full(df_pivot_states[df_pivot_states['feature_power']<1][sel_cols].tail(10))\n",
    "\n",
    "\n",
    "fig = go.Figure(go.Choropleth(\n",
    "    locations=df_pivot_states['state_code'],\n",
    "    z=df_pivot_states['feature_power'],\n",
    "    locationmode='USA-states',\n",
    "    colorscale=[\"red\",\"red\",\"yellow\",\"orange\", \"teal\",\"teal\",\"teal\"],\n",
    "    #dragmode= False,\n",
    "    #textinfo = \"value\",\n",
    "    text = df_pivot_states['state_code'],\n",
    "    #text=round(pivot_norm_state['Count']*100/sum(pivot_norm_state['Count']),2),\n",
    "                          ))\n",
    "\n",
    "fig.update_layout(\n",
    "    geo = dict(\n",
    "        scope='usa',\n",
    "        projection=go.layout.geo.Projection(type = 'albers usa'),\n",
    "        #showlakes=False, # lakes\n",
    "        #lakecolor='rgb(255, 255, 255)'\n",
    "    ),\n",
    ")  "
   ]
  },
  {
   "cell_type": "markdown",
   "metadata": {},
   "source": [
    "### State Regions"
   ]
  },
  {
   "cell_type": "markdown",
   "metadata": {},
   "source": [
    "<img src=\"../../image_art/us_regions.png?1\" alt=\"Insight\" style=\"float: left;width: 900px;\"/>"
   ]
  },
  {
   "cell_type": "code",
   "execution_count": 233,
   "metadata": {
    "ExecuteTime": {
     "end_time": "2020-10-22T09:41:15.378178Z",
     "start_time": "2020-10-22T09:41:15.346870Z"
    }
   },
   "outputs": [
    {
     "data": {
      "text/html": [
       "<div>\n",
       "<style scoped>\n",
       "    .dataframe tbody tr th:only-of-type {\n",
       "        vertical-align: middle;\n",
       "    }\n",
       "\n",
       "    .dataframe tbody tr th {\n",
       "        vertical-align: top;\n",
       "    }\n",
       "\n",
       "    .dataframe thead th {\n",
       "        text-align: right;\n",
       "    }\n",
       "</style>\n",
       "<table border=\"1\" class=\"dataframe\">\n",
       "  <thead>\n",
       "    <tr style=\"text-align: right;\">\n",
       "      <th></th>\n",
       "      <th>state_region</th>\n",
       "      <th>opportunity_no</th>\n",
       "      <th>opportunity_yes</th>\n",
       "      <th>total</th>\n",
       "      <th>opp_rate</th>\n",
       "      <th>feature_power</th>\n",
       "    </tr>\n",
       "  </thead>\n",
       "  <tbody>\n",
       "    <tr>\n",
       "      <th>5</th>\n",
       "      <td>West</td>\n",
       "      <td>3275</td>\n",
       "      <td>348</td>\n",
       "      <td>3623</td>\n",
       "      <td>9.61</td>\n",
       "      <td>1.12</td>\n",
       "    </tr>\n",
       "    <tr>\n",
       "      <th>1</th>\n",
       "      <td>Missing</td>\n",
       "      <td>1905</td>\n",
       "      <td>199</td>\n",
       "      <td>2104</td>\n",
       "      <td>9.46</td>\n",
       "      <td>1.10</td>\n",
       "    </tr>\n",
       "    <tr>\n",
       "      <th>4</th>\n",
       "      <td>Southwest</td>\n",
       "      <td>4775</td>\n",
       "      <td>441</td>\n",
       "      <td>5216</td>\n",
       "      <td>8.45</td>\n",
       "      <td>0.99</td>\n",
       "    </tr>\n",
       "    <tr>\n",
       "      <th>3</th>\n",
       "      <td>Southeast</td>\n",
       "      <td>1768</td>\n",
       "      <td>148</td>\n",
       "      <td>1916</td>\n",
       "      <td>7.72</td>\n",
       "      <td>0.90</td>\n",
       "    </tr>\n",
       "    <tr>\n",
       "      <th>0</th>\n",
       "      <td>Midwest</td>\n",
       "      <td>631</td>\n",
       "      <td>45</td>\n",
       "      <td>676</td>\n",
       "      <td>6.66</td>\n",
       "      <td>0.78</td>\n",
       "    </tr>\n",
       "    <tr>\n",
       "      <th>2</th>\n",
       "      <td>Northeast</td>\n",
       "      <td>528</td>\n",
       "      <td>27</td>\n",
       "      <td>555</td>\n",
       "      <td>4.86</td>\n",
       "      <td>0.57</td>\n",
       "    </tr>\n",
       "  </tbody>\n",
       "</table>\n",
       "</div>"
      ],
      "text/plain": [
       "  state_region  opportunity_no  opportunity_yes  total             opp_rate        feature_power\n",
       "5         West            3275              348   3623                 9.61                 1.12\n",
       "1      Missing            1905              199   2104                 9.46                 1.10\n",
       "4    Southwest            4775              441   5216                 8.45                 0.99\n",
       "3    Southeast            1768              148   1916                 7.72                 0.90\n",
       "0      Midwest             631               45    676                 6.66                 0.78\n",
       "2    Northeast             528               27    555                 4.86                 0.57"
      ]
     },
     "metadata": {},
     "output_type": "display_data"
    }
   ],
   "source": [
    "df_pivot_state_region_all=pd.crosstab(index=df_input_grouped1['state_region'], columns=df_input_grouped1['is_opportunity'], values=df_input_grouped1['uuid'], aggfunc=pd.Series.nunique).reset_index()\n",
    "df_pivot_state_region_all.columns=['state_region','opportunity_no','opportunity_yes']\n",
    "df_pivot_state_region_all['total']=df_pivot_state_region_all['opportunity_no']+df_pivot_state_region_all['opportunity_yes']\n",
    "\n",
    "base_rate=round(sum(df_pivot_state_region_all.opportunity_yes)/sum(df_pivot_state_region_all.total)*100,2)\n",
    "df_pivot_state_region_all['opp_rate']=round(df_pivot_state_region_all['opportunity_yes']*100/df_pivot_state_region_all['total'],4)\n",
    "df_pivot_state_region_all['feature_power']=df_pivot_state_region_all['opp_rate']/base_rate\n",
    "df_pivot_state_region_all.sort_values(by=['feature_power','total'],ascending=[False,False],inplace=True)\n",
    "df_pivot_states['opportunity_no']=df_pivot_states['opportunity_no'].astype(int)\n",
    "df_pivot_states['opportunity_yes']=df_pivot_states['opportunity_yes'].astype(int)\n",
    "df_pivot_states['total']=df_pivot_states['total'].astype(int)\n",
    "print_full(df_pivot_state_region_all)\n",
    "\n"
   ]
  },
  {
   "cell_type": "markdown",
   "metadata": {
    "ExecuteTime": {
     "end_time": "2020-10-21T00:51:06.000120Z",
     "start_time": "2020-10-21T00:51:05.996830Z"
    }
   },
   "source": [
    "## Class"
   ]
  },
  {
   "cell_type": "code",
   "execution_count": 347,
   "metadata": {
    "ExecuteTime": {
     "end_time": "2020-10-22T10:28:12.186649Z",
     "start_time": "2020-10-22T10:28:11.632945Z"
    }
   },
   "outputs": [
    {
     "name": "stdout",
     "output_type": "stream",
     "text": [
      "Classes with Positive Feature Power - Top 10\n"
     ]
    },
    {
     "data": {
      "text/html": [
       "<div>\n",
       "<style scoped>\n",
       "    .dataframe tbody tr th:only-of-type {\n",
       "        vertical-align: middle;\n",
       "    }\n",
       "\n",
       "    .dataframe tbody tr th {\n",
       "        vertical-align: top;\n",
       "    }\n",
       "\n",
       "    .dataframe thead th {\n",
       "        text-align: right;\n",
       "    }\n",
       "</style>\n",
       "<table border=\"1\" class=\"dataframe\">\n",
       "  <thead>\n",
       "    <tr style=\"text-align: right;\">\n",
       "      <th></th>\n",
       "      <th>class</th>\n",
       "      <th>opportunity_no</th>\n",
       "      <th>opportunity_yes</th>\n",
       "      <th>total</th>\n",
       "      <th>opp_rate</th>\n",
       "      <th>feature_power</th>\n",
       "    </tr>\n",
       "  </thead>\n",
       "  <tbody>\n",
       "    <tr>\n",
       "      <th>0</th>\n",
       "      <td>Process Gas and Liquid Handling, Purification, and Storage Equipment</td>\n",
       "      <td>20</td>\n",
       "      <td>4</td>\n",
       "      <td>24</td>\n",
       "      <td>16.67</td>\n",
       "      <td>1.94</td>\n",
       "    </tr>\n",
       "    <tr>\n",
       "      <th>1</th>\n",
       "      <td>Process Heating, Cooling, and Drying Equipment</td>\n",
       "      <td>37</td>\n",
       "      <td>6</td>\n",
       "      <td>43</td>\n",
       "      <td>13.95</td>\n",
       "      <td>1.63</td>\n",
       "    </tr>\n",
       "    <tr>\n",
       "      <th>2</th>\n",
       "      <td>Masonry</td>\n",
       "      <td>179</td>\n",
       "      <td>28</td>\n",
       "      <td>207</td>\n",
       "      <td>13.53</td>\n",
       "      <td>1.58</td>\n",
       "    </tr>\n",
       "    <tr>\n",
       "      <th>3</th>\n",
       "      <td>Utilities</td>\n",
       "      <td>133</td>\n",
       "      <td>20</td>\n",
       "      <td>153</td>\n",
       "      <td>13.07</td>\n",
       "      <td>1.53</td>\n",
       "    </tr>\n",
       "    <tr>\n",
       "      <th>4</th>\n",
       "      <td>Thermal and Moisture Protection</td>\n",
       "      <td>358</td>\n",
       "      <td>53</td>\n",
       "      <td>411</td>\n",
       "      <td>12.90</td>\n",
       "      <td>1.50</td>\n",
       "    </tr>\n",
       "    <tr>\n",
       "      <th>5</th>\n",
       "      <td>Earthwork</td>\n",
       "      <td>123</td>\n",
       "      <td>18</td>\n",
       "      <td>141</td>\n",
       "      <td>12.77</td>\n",
       "      <td>1.49</td>\n",
       "    </tr>\n",
       "    <tr>\n",
       "      <th>6</th>\n",
       "      <td>Waterway and Marine Construction</td>\n",
       "      <td>49</td>\n",
       "      <td>7</td>\n",
       "      <td>56</td>\n",
       "      <td>12.50</td>\n",
       "      <td>1.46</td>\n",
       "    </tr>\n",
       "    <tr>\n",
       "      <th>7</th>\n",
       "      <td>Specialties</td>\n",
       "      <td>121</td>\n",
       "      <td>17</td>\n",
       "      <td>138</td>\n",
       "      <td>12.32</td>\n",
       "      <td>1.44</td>\n",
       "    </tr>\n",
       "    <tr>\n",
       "      <th>8</th>\n",
       "      <td>Fire Suppression</td>\n",
       "      <td>226</td>\n",
       "      <td>30</td>\n",
       "      <td>256</td>\n",
       "      <td>11.72</td>\n",
       "      <td>1.37</td>\n",
       "    </tr>\n",
       "    <tr>\n",
       "      <th>9</th>\n",
       "      <td>Plumbing</td>\n",
       "      <td>468</td>\n",
       "      <td>58</td>\n",
       "      <td>526</td>\n",
       "      <td>11.03</td>\n",
       "      <td>1.29</td>\n",
       "    </tr>\n",
       "  </tbody>\n",
       "</table>\n",
       "</div>"
      ],
      "text/plain": [
       "                                                                  class  opportunity_no  opportunity_yes  total             opp_rate        feature_power\n",
       "0  Process Gas and Liquid Handling, Purification, and Storage Equipment              20                4     24                16.67                 1.94\n",
       "1                        Process Heating, Cooling, and Drying Equipment              37                6     43                13.95                 1.63\n",
       "2                                                               Masonry             179               28    207                13.53                 1.58\n",
       "3                                                             Utilities             133               20    153                13.07                 1.53\n",
       "4                                       Thermal and Moisture Protection             358               53    411                12.90                 1.50\n",
       "5                                                             Earthwork             123               18    141                12.77                 1.49\n",
       "6                                      Waterway and Marine Construction              49                7     56                12.50                 1.46\n",
       "7                                                           Specialties             121               17    138                12.32                 1.44\n",
       "8                                                      Fire Suppression             226               30    256                11.72                 1.37\n",
       "9                                                              Plumbing             468               58    526                11.03                 1.29"
      ]
     },
     "metadata": {},
     "output_type": "display_data"
    },
    {
     "name": "stdout",
     "output_type": "stream",
     "text": [
      "Classes with Negative Feature Power - Bottom 10\n"
     ]
    },
    {
     "data": {
      "text/html": [
       "<div>\n",
       "<style scoped>\n",
       "    .dataframe tbody tr th:only-of-type {\n",
       "        vertical-align: middle;\n",
       "    }\n",
       "\n",
       "    .dataframe tbody tr th {\n",
       "        vertical-align: top;\n",
       "    }\n",
       "\n",
       "    .dataframe thead th {\n",
       "        text-align: right;\n",
       "    }\n",
       "</style>\n",
       "<table border=\"1\" class=\"dataframe\">\n",
       "  <thead>\n",
       "    <tr style=\"text-align: right;\">\n",
       "      <th></th>\n",
       "      <th>class</th>\n",
       "      <th>opportunity_no</th>\n",
       "      <th>opportunity_yes</th>\n",
       "      <th>total</th>\n",
       "      <th>opp_rate</th>\n",
       "      <th>feature_power</th>\n",
       "    </tr>\n",
       "  </thead>\n",
       "  <tbody>\n",
       "    <tr>\n",
       "      <th>33</th>\n",
       "      <td>Water and Wastewater Equipment</td>\n",
       "      <td>20</td>\n",
       "      <td>0</td>\n",
       "      <td>20</td>\n",
       "      <td>0.00</td>\n",
       "      <td>0.00</td>\n",
       "    </tr>\n",
       "    <tr>\n",
       "      <th>32</th>\n",
       "      <td>Industry-Specific Manufacturing Equipment</td>\n",
       "      <td>50</td>\n",
       "      <td>0</td>\n",
       "      <td>50</td>\n",
       "      <td>0.00</td>\n",
       "      <td>0.00</td>\n",
       "    </tr>\n",
       "    <tr>\n",
       "      <th>31</th>\n",
       "      <td>Process Integration</td>\n",
       "      <td>30</td>\n",
       "      <td>1</td>\n",
       "      <td>31</td>\n",
       "      <td>3.23</td>\n",
       "      <td>0.38</td>\n",
       "    </tr>\n",
       "    <tr>\n",
       "      <th>30</th>\n",
       "      <td>Transportation</td>\n",
       "      <td>28</td>\n",
       "      <td>1</td>\n",
       "      <td>29</td>\n",
       "      <td>3.45</td>\n",
       "      <td>0.40</td>\n",
       "    </tr>\n",
       "    <tr>\n",
       "      <th>29</th>\n",
       "      <td>Pollution and Waste Control Equipment</td>\n",
       "      <td>24</td>\n",
       "      <td>1</td>\n",
       "      <td>25</td>\n",
       "      <td>4.00</td>\n",
       "      <td>0.47</td>\n",
       "    </tr>\n",
       "    <tr>\n",
       "      <th>28</th>\n",
       "      <td>Electronic Safety and Security</td>\n",
       "      <td>47</td>\n",
       "      <td>2</td>\n",
       "      <td>49</td>\n",
       "      <td>4.08</td>\n",
       "      <td>0.48</td>\n",
       "    </tr>\n",
       "    <tr>\n",
       "      <th>27</th>\n",
       "      <td>Communications</td>\n",
       "      <td>74</td>\n",
       "      <td>4</td>\n",
       "      <td>78</td>\n",
       "      <td>5.13</td>\n",
       "      <td>0.60</td>\n",
       "    </tr>\n",
       "    <tr>\n",
       "      <th>26</th>\n",
       "      <td>Furnishings</td>\n",
       "      <td>239</td>\n",
       "      <td>15</td>\n",
       "      <td>254</td>\n",
       "      <td>5.91</td>\n",
       "      <td>0.69</td>\n",
       "    </tr>\n",
       "    <tr>\n",
       "      <th>25</th>\n",
       "      <td>Procurement and Contracting Requirements</td>\n",
       "      <td>72</td>\n",
       "      <td>5</td>\n",
       "      <td>77</td>\n",
       "      <td>6.49</td>\n",
       "      <td>0.76</td>\n",
       "    </tr>\n",
       "    <tr>\n",
       "      <th>24</th>\n",
       "      <td>Integrated Automation</td>\n",
       "      <td>53</td>\n",
       "      <td>4</td>\n",
       "      <td>57</td>\n",
       "      <td>7.02</td>\n",
       "      <td>0.82</td>\n",
       "    </tr>\n",
       "  </tbody>\n",
       "</table>\n",
       "</div>"
      ],
      "text/plain": [
       "                                        class  opportunity_no  opportunity_yes  total             opp_rate        feature_power\n",
       "33             Water and Wastewater Equipment              20                0     20                 0.00                 0.00\n",
       "32  Industry-Specific Manufacturing Equipment              50                0     50                 0.00                 0.00\n",
       "31                        Process Integration              30                1     31                 3.23                 0.38\n",
       "30                             Transportation              28                1     29                 3.45                 0.40\n",
       "29      Pollution and Waste Control Equipment              24                1     25                 4.00                 0.47\n",
       "28             Electronic Safety and Security              47                2     49                 4.08                 0.48\n",
       "27                             Communications              74                4     78                 5.13                 0.60\n",
       "26                                Furnishings             239               15    254                 5.91                 0.69\n",
       "25   Procurement and Contracting Requirements              72                5     77                 6.49                 0.76\n",
       "24                      Integrated Automation              53                4     57                 7.02                 0.82"
      ]
     },
     "metadata": {},
     "output_type": "display_data"
    }
   ],
   "source": [
    "df_input_grouped1['l1_csi_class_name']=df_input_grouped1.apply(lambda x:class_remap(x['level_1_csi_class_name'],x['company_name'],x['word_list']),axis=1)\n",
    "df_pivot_class=pd.crosstab(index=df_input_grouped1['l1_csi_class_name'], columns=df_input_grouped1['is_opportunity'], values=df_input_grouped1['uuid'], aggfunc=pd.Series.nunique).reset_index()\n",
    "df_pivot_class.fillna(0,inplace=True)\n",
    "df_pivot_class.columns=['class','opportunity_no','opportunity_yes']\n",
    "df_pivot_class['total']=df_pivot_class['opportunity_no']+df_pivot_class['opportunity_yes']\n",
    "base_rate=round(sum(df_pivot_class.opportunity_yes)/sum(df_pivot_class.total)*100,2)\n",
    "df_pivot_class['opp_rate']=round(df_pivot_class['opportunity_yes']*100/df_pivot_class['total'],4)\n",
    "df_pivot_class['feature_power']=df_pivot_class['opp_rate']/base_rate\n",
    "df_pivot_class.sort_values(by=['feature_power','total'],ascending=[False,False],inplace=True)\n",
    "df_pivot_class=df_pivot_class.reset_index(drop=True)\n",
    "df_pivot_class['opportunity_no']=df_pivot_class['opportunity_no'].astype(int)\n",
    "df_pivot_class['opportunity_yes']=df_pivot_class['opportunity_yes'].astype(int)\n",
    "df_pivot_class['total']=df_pivot_class['total'].astype(int)\n",
    "\n",
    "\n",
    "print('Classes with Positive Feature Power - Top 10')\n",
    "sel_cols=['class','opportunity_no','opportunity_yes','total','opp_rate','feature_power']\n",
    "print_full(df_pivot_class[df_pivot_class['feature_power']>1][sel_cols].head(10))\n",
    "\n",
    "print('Classes with Negative Feature Power - Bottom 10')\n",
    "print_full(df_pivot_class[df_pivot_class['feature_power']<1].sort_values(by=['feature_power','total'])[sel_cols].head(10))\n",
    "\n"
   ]
  },
  {
   "cell_type": "markdown",
   "metadata": {},
   "source": [
    "## State and Class"
   ]
  },
  {
   "cell_type": "code",
   "execution_count": 349,
   "metadata": {
    "ExecuteTime": {
     "end_time": "2020-10-22T10:29:53.576002Z",
     "start_time": "2020-10-22T10:29:53.511782Z"
    },
    "scrolled": false
   },
   "outputs": [
    {
     "name": "stdout",
     "output_type": "stream",
     "text": [
      "Class-States with Positive Feature Power - Top 10\n"
     ]
    },
    {
     "data": {
      "text/html": [
       "<div>\n",
       "<style scoped>\n",
       "    .dataframe tbody tr th:only-of-type {\n",
       "        vertical-align: middle;\n",
       "    }\n",
       "\n",
       "    .dataframe tbody tr th {\n",
       "        vertical-align: top;\n",
       "    }\n",
       "\n",
       "    .dataframe thead th {\n",
       "        text-align: right;\n",
       "    }\n",
       "</style>\n",
       "<table border=\"1\" class=\"dataframe\">\n",
       "  <thead>\n",
       "    <tr style=\"text-align: right;\">\n",
       "      <th></th>\n",
       "      <th>class</th>\n",
       "      <th>opportunity_no</th>\n",
       "      <th>opportunity_yes</th>\n",
       "      <th>total</th>\n",
       "      <th>opp_rate</th>\n",
       "      <th>feature_power</th>\n",
       "    </tr>\n",
       "  </thead>\n",
       "  <tbody>\n",
       "    <tr>\n",
       "      <th>134</th>\n",
       "      <td>Process Integration</td>\n",
       "      <td>0.00</td>\n",
       "      <td>1.00</td>\n",
       "      <td>1.00</td>\n",
       "      <td>100.00</td>\n",
       "      <td>11.67</td>\n",
       "    </tr>\n",
       "    <tr>\n",
       "      <th>187</th>\n",
       "      <td>Wood, Plastics, and Composites</td>\n",
       "      <td>3.00</td>\n",
       "      <td>2.00</td>\n",
       "      <td>5.00</td>\n",
       "      <td>40.00</td>\n",
       "      <td>4.67</td>\n",
       "    </tr>\n",
       "    <tr>\n",
       "      <th>182</th>\n",
       "      <td>Waterway and Marine Construction</td>\n",
       "      <td>6.00</td>\n",
       "      <td>3.00</td>\n",
       "      <td>9.00</td>\n",
       "      <td>33.33</td>\n",
       "      <td>3.89</td>\n",
       "    </tr>\n",
       "    <tr>\n",
       "      <th>151</th>\n",
       "      <td>Specialties</td>\n",
       "      <td>4.00</td>\n",
       "      <td>2.00</td>\n",
       "      <td>6.00</td>\n",
       "      <td>33.33</td>\n",
       "      <td>3.89</td>\n",
       "    </tr>\n",
       "    <tr>\n",
       "      <th>2</th>\n",
       "      <td>Communications</td>\n",
       "      <td>2.00</td>\n",
       "      <td>1.00</td>\n",
       "      <td>3.00</td>\n",
       "      <td>33.33</td>\n",
       "      <td>3.89</td>\n",
       "    </tr>\n",
       "    <tr>\n",
       "      <th>169</th>\n",
       "      <td>Utilities</td>\n",
       "      <td>2.00</td>\n",
       "      <td>1.00</td>\n",
       "      <td>3.00</td>\n",
       "      <td>33.33</td>\n",
       "      <td>3.89</td>\n",
       "    </tr>\n",
       "    <tr>\n",
       "      <th>123</th>\n",
       "      <td>Process Gas and Liquid Handling, Purification, and Storage Equipment</td>\n",
       "      <td>5.00</td>\n",
       "      <td>2.00</td>\n",
       "      <td>7.00</td>\n",
       "      <td>28.57</td>\n",
       "      <td>3.33</td>\n",
       "    </tr>\n",
       "    <tr>\n",
       "      <th>36</th>\n",
       "      <td>Equipment</td>\n",
       "      <td>6.00</td>\n",
       "      <td>2.00</td>\n",
       "      <td>8.00</td>\n",
       "      <td>25.00</td>\n",
       "      <td>2.92</td>\n",
       "    </tr>\n",
       "    <tr>\n",
       "      <th>84</th>\n",
       "      <td>Integrated Automation</td>\n",
       "      <td>6.00</td>\n",
       "      <td>2.00</td>\n",
       "      <td>8.00</td>\n",
       "      <td>25.00</td>\n",
       "      <td>2.92</td>\n",
       "    </tr>\n",
       "    <tr>\n",
       "      <th>91</th>\n",
       "      <td>Masonry</td>\n",
       "      <td>3.00</td>\n",
       "      <td>1.00</td>\n",
       "      <td>4.00</td>\n",
       "      <td>25.00</td>\n",
       "      <td>2.92</td>\n",
       "    </tr>\n",
       "  </tbody>\n",
       "</table>\n",
       "</div>"
      ],
      "text/plain": [
       "                                                                    class       opportunity_no      opportunity_yes                total             opp_rate        feature_power\n",
       "134                                                   Process Integration                 0.00                 1.00                 1.00               100.00                11.67\n",
       "187                                        Wood, Plastics, and Composites                 3.00                 2.00                 5.00                40.00                 4.67\n",
       "182                                      Waterway and Marine Construction                 6.00                 3.00                 9.00                33.33                 3.89\n",
       "151                                                           Specialties                 4.00                 2.00                 6.00                33.33                 3.89\n",
       "2                                                          Communications                 2.00                 1.00                 3.00                33.33                 3.89\n",
       "169                                                             Utilities                 2.00                 1.00                 3.00                33.33                 3.89\n",
       "123  Process Gas and Liquid Handling, Purification, and Storage Equipment                 5.00                 2.00                 7.00                28.57                 3.33\n",
       "36                                                              Equipment                 6.00                 2.00                 8.00                25.00                 2.92\n",
       "84                                                  Integrated Automation                 6.00                 2.00                 8.00                25.00                 2.92\n",
       "91                                                                Masonry                 3.00                 1.00                 4.00                25.00                 2.92"
      ]
     },
     "metadata": {},
     "output_type": "display_data"
    },
    {
     "name": "stdout",
     "output_type": "stream",
     "text": [
      "Class-States with Negative Feature Power - Bottom 10\n"
     ]
    },
    {
     "data": {
      "text/html": [
       "<div>\n",
       "<style scoped>\n",
       "    .dataframe tbody tr th:only-of-type {\n",
       "        vertical-align: middle;\n",
       "    }\n",
       "\n",
       "    .dataframe tbody tr th {\n",
       "        vertical-align: top;\n",
       "    }\n",
       "\n",
       "    .dataframe thead th {\n",
       "        text-align: right;\n",
       "    }\n",
       "</style>\n",
       "<table border=\"1\" class=\"dataframe\">\n",
       "  <thead>\n",
       "    <tr style=\"text-align: right;\">\n",
       "      <th></th>\n",
       "      <th>class</th>\n",
       "      <th>opportunity_no</th>\n",
       "      <th>opportunity_yes</th>\n",
       "      <th>total</th>\n",
       "      <th>opp_rate</th>\n",
       "      <th>feature_power</th>\n",
       "    </tr>\n",
       "  </thead>\n",
       "  <tbody>\n",
       "    <tr>\n",
       "      <th>85</th>\n",
       "      <td>Integrated Automation</td>\n",
       "      <td>1.00</td>\n",
       "      <td>0.00</td>\n",
       "      <td>1.00</td>\n",
       "      <td>0.00</td>\n",
       "      <td>0.00</td>\n",
       "    </tr>\n",
       "    <tr>\n",
       "      <th>95</th>\n",
       "      <td>Material Processing and Handling Equipment</td>\n",
       "      <td>1.00</td>\n",
       "      <td>0.00</td>\n",
       "      <td>1.00</td>\n",
       "      <td>0.00</td>\n",
       "      <td>0.00</td>\n",
       "    </tr>\n",
       "    <tr>\n",
       "      <th>135</th>\n",
       "      <td>Process Integration</td>\n",
       "      <td>1.00</td>\n",
       "      <td>0.00</td>\n",
       "      <td>1.00</td>\n",
       "      <td>0.00</td>\n",
       "      <td>0.00</td>\n",
       "    </tr>\n",
       "    <tr>\n",
       "      <th>163</th>\n",
       "      <td>Transportation</td>\n",
       "      <td>1.00</td>\n",
       "      <td>0.00</td>\n",
       "      <td>1.00</td>\n",
       "      <td>0.00</td>\n",
       "      <td>0.00</td>\n",
       "    </tr>\n",
       "    <tr>\n",
       "      <th>165</th>\n",
       "      <td>Transportation</td>\n",
       "      <td>1.00</td>\n",
       "      <td>0.00</td>\n",
       "      <td>1.00</td>\n",
       "      <td>0.00</td>\n",
       "      <td>0.00</td>\n",
       "    </tr>\n",
       "    <tr>\n",
       "      <th>171</th>\n",
       "      <td>Utilities</td>\n",
       "      <td>1.00</td>\n",
       "      <td>0.00</td>\n",
       "      <td>1.00</td>\n",
       "      <td>0.00</td>\n",
       "      <td>0.00</td>\n",
       "    </tr>\n",
       "    <tr>\n",
       "      <th>175</th>\n",
       "      <td>Water and Wastewater Equipment</td>\n",
       "      <td>1.00</td>\n",
       "      <td>0.00</td>\n",
       "      <td>1.00</td>\n",
       "      <td>0.00</td>\n",
       "      <td>0.00</td>\n",
       "    </tr>\n",
       "    <tr>\n",
       "      <th>176</th>\n",
       "      <td>Water and Wastewater Equipment</td>\n",
       "      <td>1.00</td>\n",
       "      <td>0.00</td>\n",
       "      <td>1.00</td>\n",
       "      <td>0.00</td>\n",
       "      <td>0.00</td>\n",
       "    </tr>\n",
       "    <tr>\n",
       "      <th>181</th>\n",
       "      <td>Waterway and Marine Construction</td>\n",
       "      <td>1.00</td>\n",
       "      <td>0.00</td>\n",
       "      <td>1.00</td>\n",
       "      <td>0.00</td>\n",
       "      <td>0.00</td>\n",
       "    </tr>\n",
       "    <tr>\n",
       "      <th>30</th>\n",
       "      <td>Electronic Safety and Security</td>\n",
       "      <td>2.00</td>\n",
       "      <td>0.00</td>\n",
       "      <td>2.00</td>\n",
       "      <td>0.00</td>\n",
       "      <td>0.00</td>\n",
       "    </tr>\n",
       "  </tbody>\n",
       "</table>\n",
       "</div>"
      ],
      "text/plain": [
       "                                          class       opportunity_no      opportunity_yes                total             opp_rate        feature_power\n",
       "85                        Integrated Automation                 1.00                 0.00                 1.00                 0.00                 0.00\n",
       "95   Material Processing and Handling Equipment                 1.00                 0.00                 1.00                 0.00                 0.00\n",
       "135                         Process Integration                 1.00                 0.00                 1.00                 0.00                 0.00\n",
       "163                              Transportation                 1.00                 0.00                 1.00                 0.00                 0.00\n",
       "165                              Transportation                 1.00                 0.00                 1.00                 0.00                 0.00\n",
       "171                                   Utilities                 1.00                 0.00                 1.00                 0.00                 0.00\n",
       "175              Water and Wastewater Equipment                 1.00                 0.00                 1.00                 0.00                 0.00\n",
       "176              Water and Wastewater Equipment                 1.00                 0.00                 1.00                 0.00                 0.00\n",
       "181            Waterway and Marine Construction                 1.00                 0.00                 1.00                 0.00                 0.00\n",
       "30               Electronic Safety and Security                 2.00                 0.00                 2.00                 0.00                 0.00"
      ]
     },
     "metadata": {},
     "output_type": "display_data"
    }
   ],
   "source": [
    "df_pivot_state_class=pd.crosstab(index=[df_input_grouped1['l1_csi_class_name'],df_input_grouped1['state_region']], columns=df_input_grouped1['is_opportunity'], values=df_input_grouped1['uuid'], aggfunc=pd.Series.nunique).reset_index()\n",
    "df_pivot_state_class.columns=['class','state_region','opportunity_no','opportunity_yes']\n",
    "df_pivot_state_class.fillna(0,inplace=True)\n",
    "\n",
    "df_pivot_state_class['total']=df_pivot_state_class['opportunity_no']+df_pivot_state_class['opportunity_yes']\n",
    "\n",
    "base_rate=round(sum(df_pivot_state_class.opportunity_yes)/sum(df_pivot_state_class.total)*100,2)\n",
    "df_pivot_state_class['opp_rate']=round(df_pivot_state_class['opportunity_yes']*100/df_pivot_state_class['total'],4)\n",
    "df_pivot_state_class['feature_power']=df_pivot_state_class['opp_rate']/base_rate\n",
    "df_pivot_state_class.sort_values(by=['feature_power','total'],ascending=[False,False],inplace=True)\n",
    "\n",
    "\n",
    "print('Class-States with Positive Feature Power - Top 10')\n",
    "sel_cols=['class','opportunity_no','opportunity_yes','total','opp_rate','feature_power']\n",
    "print_full(df_pivot_state_class[df_pivot_state_class['feature_power']>1][sel_cols].head(10))\n",
    "\n",
    "print('Class-States with Negative Feature Power - Bottom 10')\n",
    "print_full(df_pivot_state_class[df_pivot_state_class['feature_power']<1].sort_values(by=['feature_power','total'])[sel_cols].head(10))\n",
    "\n",
    "\n",
    "\n"
   ]
  },
  {
   "cell_type": "code",
   "execution_count": 356,
   "metadata": {
    "ExecuteTime": {
     "end_time": "2020-10-22T10:33:25.196370Z",
     "start_time": "2020-10-22T10:33:25.176169Z"
    }
   },
   "outputs": [
    {
     "name": "stdout",
     "output_type": "stream",
     "text": [
      "Class-States with Negative Feature Power - Top 10 Significant\n"
     ]
    },
    {
     "data": {
      "text/html": [
       "<div>\n",
       "<style scoped>\n",
       "    .dataframe tbody tr th:only-of-type {\n",
       "        vertical-align: middle;\n",
       "    }\n",
       "\n",
       "    .dataframe tbody tr th {\n",
       "        vertical-align: top;\n",
       "    }\n",
       "\n",
       "    .dataframe thead th {\n",
       "        text-align: right;\n",
       "    }\n",
       "</style>\n",
       "<table border=\"1\" class=\"dataframe\">\n",
       "  <thead>\n",
       "    <tr style=\"text-align: right;\">\n",
       "      <th></th>\n",
       "      <th>class</th>\n",
       "      <th>state_region</th>\n",
       "      <th>opportunity_no</th>\n",
       "      <th>opportunity_yes</th>\n",
       "      <th>total</th>\n",
       "      <th>opp_rate</th>\n",
       "      <th>feature_power</th>\n",
       "    </tr>\n",
       "  </thead>\n",
       "  <tbody>\n",
       "    <tr>\n",
       "      <th>94</th>\n",
       "      <td>Masonry</td>\n",
       "      <td>West</td>\n",
       "      <td>38.00</td>\n",
       "      <td>10.00</td>\n",
       "      <td>48.00</td>\n",
       "      <td>20.83</td>\n",
       "      <td>2.43</td>\n",
       "    </tr>\n",
       "    <tr>\n",
       "      <th>64</th>\n",
       "      <td>Fire Suppression</td>\n",
       "      <td>Southwest</td>\n",
       "      <td>73.00</td>\n",
       "      <td>16.00</td>\n",
       "      <td>89.00</td>\n",
       "      <td>17.98</td>\n",
       "      <td>2.10</td>\n",
       "    </tr>\n",
       "    <tr>\n",
       "      <th>23</th>\n",
       "      <td>Earthwork</td>\n",
       "      <td>West</td>\n",
       "      <td>28.00</td>\n",
       "      <td>6.00</td>\n",
       "      <td>34.00</td>\n",
       "      <td>17.65</td>\n",
       "      <td>2.06</td>\n",
       "    </tr>\n",
       "    <tr>\n",
       "      <th>160</th>\n",
       "      <td>Thermal and Moisture Protection</td>\n",
       "      <td>Southeast</td>\n",
       "      <td>38.00</td>\n",
       "      <td>8.00</td>\n",
       "      <td>46.00</td>\n",
       "      <td>17.39</td>\n",
       "      <td>2.03</td>\n",
       "    </tr>\n",
       "    <tr>\n",
       "      <th>53</th>\n",
       "      <td>Exterior Improvements</td>\n",
       "      <td>West</td>\n",
       "      <td>39.00</td>\n",
       "      <td>8.00</td>\n",
       "      <td>47.00</td>\n",
       "      <td>17.02</td>\n",
       "      <td>1.99</td>\n",
       "    </tr>\n",
       "    <tr>\n",
       "      <th>162</th>\n",
       "      <td>Thermal and Moisture Protection</td>\n",
       "      <td>West</td>\n",
       "      <td>90.00</td>\n",
       "      <td>18.00</td>\n",
       "      <td>108.00</td>\n",
       "      <td>16.67</td>\n",
       "      <td>1.94</td>\n",
       "    </tr>\n",
       "    <tr>\n",
       "      <th>41</th>\n",
       "      <td>Equipment</td>\n",
       "      <td>West</td>\n",
       "      <td>26.00</td>\n",
       "      <td>5.00</td>\n",
       "      <td>31.00</td>\n",
       "      <td>16.13</td>\n",
       "      <td>1.88</td>\n",
       "    </tr>\n",
       "    <tr>\n",
       "      <th>90</th>\n",
       "      <td>Masonry</td>\n",
       "      <td>Missing</td>\n",
       "      <td>32.00</td>\n",
       "      <td>6.00</td>\n",
       "      <td>38.00</td>\n",
       "      <td>15.79</td>\n",
       "      <td>1.84</td>\n",
       "    </tr>\n",
       "    <tr>\n",
       "      <th>174</th>\n",
       "      <td>Utilities</td>\n",
       "      <td>West</td>\n",
       "      <td>32.00</td>\n",
       "      <td>6.00</td>\n",
       "      <td>38.00</td>\n",
       "      <td>15.79</td>\n",
       "      <td>1.84</td>\n",
       "    </tr>\n",
       "    <tr>\n",
       "      <th>102</th>\n",
       "      <td>Metals</td>\n",
       "      <td>Missing</td>\n",
       "      <td>28.00</td>\n",
       "      <td>5.00</td>\n",
       "      <td>33.00</td>\n",
       "      <td>15.15</td>\n",
       "      <td>1.77</td>\n",
       "    </tr>\n",
       "  </tbody>\n",
       "</table>\n",
       "</div>"
      ],
      "text/plain": [
       "                               class state_region       opportunity_no      opportunity_yes                total             opp_rate        feature_power\n",
       "94                           Masonry         West                38.00                10.00                48.00                20.83                 2.43\n",
       "64                  Fire Suppression    Southwest                73.00                16.00                89.00                17.98                 2.10\n",
       "23                         Earthwork         West                28.00                 6.00                34.00                17.65                 2.06\n",
       "160  Thermal and Moisture Protection    Southeast                38.00                 8.00                46.00                17.39                 2.03\n",
       "53             Exterior Improvements         West                39.00                 8.00                47.00                17.02                 1.99\n",
       "162  Thermal and Moisture Protection         West                90.00                18.00               108.00                16.67                 1.94\n",
       "41                         Equipment         West                26.00                 5.00                31.00                16.13                 1.88\n",
       "90                           Masonry      Missing                32.00                 6.00                38.00                15.79                 1.84\n",
       "174                        Utilities         West                32.00                 6.00                38.00                15.79                 1.84\n",
       "102                           Metals      Missing                28.00                 5.00                33.00                15.15                 1.77"
      ]
     },
     "metadata": {},
     "output_type": "display_data"
    },
    {
     "name": "stdout",
     "output_type": "stream",
     "text": [
      "Class-States with Negative df_pivot_state_class Power - Bottom 10 Significant\n"
     ]
    },
    {
     "data": {
      "text/html": [
       "<div>\n",
       "<style scoped>\n",
       "    .dataframe tbody tr th:only-of-type {\n",
       "        vertical-align: middle;\n",
       "    }\n",
       "\n",
       "    .dataframe tbody tr th {\n",
       "        vertical-align: top;\n",
       "    }\n",
       "\n",
       "    .dataframe thead th {\n",
       "        text-align: right;\n",
       "    }\n",
       "</style>\n",
       "<table border=\"1\" class=\"dataframe\">\n",
       "  <thead>\n",
       "    <tr style=\"text-align: right;\">\n",
       "      <th></th>\n",
       "      <th>class</th>\n",
       "      <th>state_region</th>\n",
       "      <th>opportunity_no</th>\n",
       "      <th>opportunity_yes</th>\n",
       "      <th>total</th>\n",
       "      <th>opp_rate</th>\n",
       "      <th>feature_power</th>\n",
       "    </tr>\n",
       "  </thead>\n",
       "  <tbody>\n",
       "    <tr>\n",
       "      <th>54</th>\n",
       "      <td>Finishes</td>\n",
       "      <td>Midwest</td>\n",
       "      <td>35.00</td>\n",
       "      <td>0.00</td>\n",
       "      <td>35.00</td>\n",
       "      <td>0.00</td>\n",
       "      <td>0.00</td>\n",
       "    </tr>\n",
       "    <tr>\n",
       "      <th>16</th>\n",
       "      <td>Conveying Equipment</td>\n",
       "      <td>Southwest</td>\n",
       "      <td>32.00</td>\n",
       "      <td>1.00</td>\n",
       "      <td>33.00</td>\n",
       "      <td>3.03</td>\n",
       "      <td>0.35</td>\n",
       "    </tr>\n",
       "    <tr>\n",
       "      <th>49</th>\n",
       "      <td>Exterior Improvements</td>\n",
       "      <td>Missing</td>\n",
       "      <td>30.00</td>\n",
       "      <td>1.00</td>\n",
       "      <td>31.00</td>\n",
       "      <td>3.23</td>\n",
       "      <td>0.38</td>\n",
       "    </tr>\n",
       "    <tr>\n",
       "      <th>193</th>\n",
       "      <td>no_class</td>\n",
       "      <td>Northeast</td>\n",
       "      <td>292.00</td>\n",
       "      <td>11.00</td>\n",
       "      <td>303.00</td>\n",
       "      <td>3.63</td>\n",
       "      <td>0.42</td>\n",
       "    </tr>\n",
       "    <tr>\n",
       "      <th>57</th>\n",
       "      <td>Finishes</td>\n",
       "      <td>Southeast</td>\n",
       "      <td>82.00</td>\n",
       "      <td>4.00</td>\n",
       "      <td>86.00</td>\n",
       "      <td>4.65</td>\n",
       "      <td>0.54</td>\n",
       "    </tr>\n",
       "    <tr>\n",
       "      <th>73</th>\n",
       "      <td>Heating, Ventilating, and Air Conditioning (HVAC)</td>\n",
       "      <td>Missing</td>\n",
       "      <td>40.00</td>\n",
       "      <td>2.00</td>\n",
       "      <td>42.00</td>\n",
       "      <td>4.76</td>\n",
       "      <td>0.56</td>\n",
       "    </tr>\n",
       "    <tr>\n",
       "      <th>71</th>\n",
       "      <td>Furnishings</td>\n",
       "      <td>West</td>\n",
       "      <td>57.00</td>\n",
       "      <td>3.00</td>\n",
       "      <td>60.00</td>\n",
       "      <td>5.00</td>\n",
       "      <td>0.58</td>\n",
       "    </tr>\n",
       "    <tr>\n",
       "      <th>150</th>\n",
       "      <td>Special Construction</td>\n",
       "      <td>West</td>\n",
       "      <td>33.00</td>\n",
       "      <td>2.00</td>\n",
       "      <td>35.00</td>\n",
       "      <td>5.71</td>\n",
       "      <td>0.67</td>\n",
       "    </tr>\n",
       "    <tr>\n",
       "      <th>65</th>\n",
       "      <td>Fire Suppression</td>\n",
       "      <td>West</td>\n",
       "      <td>76.00</td>\n",
       "      <td>5.00</td>\n",
       "      <td>81.00</td>\n",
       "      <td>6.17</td>\n",
       "      <td>0.72</td>\n",
       "    </tr>\n",
       "    <tr>\n",
       "      <th>194</th>\n",
       "      <td>no_class</td>\n",
       "      <td>Southeast</td>\n",
       "      <td>929.00</td>\n",
       "      <td>65.00</td>\n",
       "      <td>994.00</td>\n",
       "      <td>6.54</td>\n",
       "      <td>0.76</td>\n",
       "    </tr>\n",
       "  </tbody>\n",
       "</table>\n",
       "</div>"
      ],
      "text/plain": [
       "                                                 class state_region       opportunity_no      opportunity_yes                total             opp_rate        feature_power\n",
       "54                                            Finishes      Midwest                35.00                 0.00                35.00                 0.00                 0.00\n",
       "16                                 Conveying Equipment    Southwest                32.00                 1.00                33.00                 3.03                 0.35\n",
       "49                               Exterior Improvements      Missing                30.00                 1.00                31.00                 3.23                 0.38\n",
       "193                                           no_class    Northeast               292.00                11.00               303.00                 3.63                 0.42\n",
       "57                                            Finishes    Southeast                82.00                 4.00                86.00                 4.65                 0.54\n",
       "73   Heating, Ventilating, and Air Conditioning (HVAC)      Missing                40.00                 2.00                42.00                 4.76                 0.56\n",
       "71                                         Furnishings         West                57.00                 3.00                60.00                 5.00                 0.58\n",
       "150                               Special Construction         West                33.00                 2.00                35.00                 5.71                 0.67\n",
       "65                                    Fire Suppression         West                76.00                 5.00                81.00                 6.17                 0.72\n",
       "194                                           no_class    Southeast               929.00                65.00               994.00                 6.54                 0.76"
      ]
     },
     "metadata": {},
     "output_type": "display_data"
    }
   ],
   "source": [
    "print('Class-States with Negative Feature Power - Top 10 Significant')\n",
    "print_full(df_pivot_state_class[(df_pivot_state_class['total']>30) & (df_pivot_state_class['feature_power']>1)].head(10))\n",
    "\n",
    "print('Class-States with Negative df_pivot_state_class Power - Bottom 10 Significant')\n",
    "print_full(df_pivot_state_class[(df_pivot_state_class['total']>30) & (df_pivot_state_class['feature_power']<1)].sort_values(by=['feature_power','total']).head(10))\n"
   ]
  }
 ],
 "metadata": {
  "hide_input": true,
  "kernelspec": {
   "display_name": "Python 3",
   "language": "python",
   "name": "python3"
  },
  "language_info": {
   "codemirror_mode": {
    "name": "ipython",
    "version": 3
   },
   "file_extension": ".py",
   "mimetype": "text/x-python",
   "name": "python",
   "nbconvert_exporter": "python",
   "pygments_lexer": "ipython3",
   "version": "3.6.9"
  },
  "toc": {
   "base_numbering": 1,
   "nav_menu": {},
   "number_sections": true,
   "sideBar": true,
   "skip_h1_title": false,
   "title_cell": "Table of Contents",
   "title_sidebar": "Contents",
   "toc_cell": true,
   "toc_position": {
    "height": "calc(100% - 180px)",
    "left": "10px",
    "top": "150px",
    "width": "360px"
   },
   "toc_section_display": true,
   "toc_window_display": false
  },
  "varInspector": {
   "cols": {
    "lenName": 16,
    "lenType": 16,
    "lenVar": 40
   },
   "kernels_config": {
    "python": {
     "delete_cmd_postfix": "",
     "delete_cmd_prefix": "del ",
     "library": "var_list.py",
     "varRefreshCmd": "print(var_dic_list())"
    },
    "r": {
     "delete_cmd_postfix": ") ",
     "delete_cmd_prefix": "rm(",
     "library": "var_list.r",
     "varRefreshCmd": "cat(var_dic_list()) "
    }
   },
   "types_to_exclude": [
    "module",
    "function",
    "builtin_function_or_method",
    "instance",
    "_Feature"
   ],
   "window_display": false
  }
 },
 "nbformat": 4,
 "nbformat_minor": 4
}
